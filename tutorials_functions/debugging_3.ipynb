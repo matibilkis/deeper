{
 "cells": [
  {
   "cell_type": "code",
   "execution_count": 29,
   "metadata": {},
   "outputs": [],
   "source": [
    "from nets import Actor\n",
    "import tensorflow as tf\n",
    "import numpy as np"
   ]
  },
  {
   "cell_type": "code",
   "execution_count": 20,
   "metadata": {},
   "outputs": [],
   "source": [
    "actor = Actor(nature = \"target\")"
   ]
  },
  {
   "cell_type": "code",
   "execution_count": 21,
   "metadata": {},
   "outputs": [
    {
     "data": {
      "text/plain": [
       "False"
      ]
     },
     "execution_count": 21,
     "metadata": {},
     "output_type": "execute_result"
    }
   ],
   "source": [
    "actor.lstm.stateful"
   ]
  },
  {
   "cell_type": "code",
   "execution_count": 24,
   "metadata": {},
   "outputs": [],
   "source": [
    "\n"
   ]
  },
  {
   "cell_type": "code",
   "execution_count": 26,
   "metadata": {},
   "outputs": [],
   "source": [
    "for k in range(40,43,1):\n",
    "    inps = tf.random.uniform((k,1,1))\n",
    "    actor(inps)"
   ]
  },
  {
   "cell_type": "code",
   "execution_count": 27,
   "metadata": {},
   "outputs": [],
   "source": [
    "# @tf.function\n",
    "def process_sequence_of_experiences_tf(actor_target, experiences):\n",
    "\n",
    "    unstacked_exp = tf.unstack(tf.convert_to_tensor(experiences), axis=1)\n",
    "    to_stack = []\n",
    "    for index in range(2*actor_target.dolinar_layers-1): # I consider from first outcome to last one (but guess)\n",
    "        if (index==0):\n",
    "            to_stack.append(unstacked_exp[index])\n",
    "        if (index%2 == 1):\n",
    "            to_stack.append(unstacked_exp[index])\n",
    "\n",
    "            to_stack.append(tf.squeeze(actor_target(tf.reshape(unstacked_exp[index],(experiences.shape[0],1,1)))))\n",
    "    for index in range(2*actor_target.dolinar_layers-1, 2*actor_target.dolinar_layers+2):\n",
    "        to_stack.append(unstacked_exp[index])\n",
    "\n",
    "    return tf.stack(to_stack, axis=1)\n",
    "    #"
   ]
  },
  {
   "cell_type": "code",
   "execution_count": 33,
   "metadata": {},
   "outputs": [],
   "source": [
    "experiences = np.load(\"tutorials_functions/expe_2L.npy\").astype(np.float32)"
   ]
  },
  {
   "cell_type": "code",
   "execution_count": 34,
   "metadata": {},
   "outputs": [
    {
     "data": {
      "text/plain": [
       "<tf.Tensor: shape=(100, 6), dtype=float32, numpy=\n",
       "array([[ 0.6910216 ,  0.        ,  0.05255208,  0.        , -1.        ,\n",
       "         1.        ],\n",
       "       [ 0.98145694,  0.        ,  0.05255208,  0.        , -1.        ,\n",
       "         1.        ],\n",
       "       [ 0.695889  ,  0.        ,  0.05255208,  0.        ,  1.        ,\n",
       "         0.        ],\n",
       "       [ 0.654807  ,  0.        ,  0.05255208,  1.        , -1.        ,\n",
       "         0.        ],\n",
       "       [ 0.07486903,  0.        ,  0.05255208,  1.        ,  1.        ,\n",
       "         1.        ],\n",
       "       [ 0.45389345,  1.        ,  0.04730617,  0.        ,  1.        ,\n",
       "         1.        ],\n",
       "       [ 0.77413857,  1.        ,  0.04730617,  0.        ,  1.        ,\n",
       "         1.        ],\n",
       "       [ 0.8683654 ,  0.        ,  0.05255208,  0.        ,  1.        ,\n",
       "         0.        ],\n",
       "       [ 0.74878466,  0.        ,  0.05255208,  1.        , -1.        ,\n",
       "         0.        ],\n",
       "       [ 0.5304443 ,  0.        ,  0.05255208,  1.        , -1.        ,\n",
       "         0.        ],\n",
       "       [ 0.14192927,  1.        ,  0.04730617,  0.        , -1.        ,\n",
       "         0.        ],\n",
       "       [ 0.5065075 ,  0.        ,  0.05255208,  0.        , -1.        ,\n",
       "         1.        ],\n",
       "       [ 0.36241323,  0.        ,  0.05255208,  0.        , -1.        ,\n",
       "         1.        ],\n",
       "       [ 0.9437146 ,  0.        ,  0.05255208,  0.        , -1.        ,\n",
       "         1.        ],\n",
       "       [ 0.5276836 ,  0.        ,  0.05255208,  0.        ,  1.        ,\n",
       "         0.        ],\n",
       "       [ 0.9203441 ,  1.        ,  0.04730617,  0.        ,  1.        ,\n",
       "         1.        ],\n",
       "       [ 0.71320164,  1.        ,  0.04730617,  1.        ,  1.        ,\n",
       "         1.        ],\n",
       "       [ 0.2617183 ,  0.        ,  0.05255208,  0.        , -1.        ,\n",
       "         0.        ],\n",
       "       [ 0.05911246,  0.        ,  0.05255208,  0.        , -1.        ,\n",
       "         0.        ],\n",
       "       [ 0.22102223,  0.        ,  0.05255208,  0.        , -1.        ,\n",
       "         1.        ],\n",
       "       [ 0.6428185 ,  0.        ,  0.05255208,  1.        ,  1.        ,\n",
       "         0.        ],\n",
       "       [ 0.45652565,  0.        ,  0.05255208,  0.        , -1.        ,\n",
       "         0.        ],\n",
       "       [ 0.53026885,  1.        ,  0.04730617,  0.        ,  1.        ,\n",
       "         1.        ],\n",
       "       [ 0.74577785,  1.        ,  0.04730617,  0.        ,  1.        ,\n",
       "         1.        ],\n",
       "       [ 0.8932383 ,  0.        ,  0.05255208,  1.        , -1.        ,\n",
       "         0.        ],\n",
       "       [ 0.02782416,  0.        ,  0.05255208,  0.        , -1.        ,\n",
       "         1.        ],\n",
       "       [ 0.45807895,  0.        ,  0.05255208,  0.        , -1.        ,\n",
       "         0.        ],\n",
       "       [ 0.836526  ,  0.        ,  0.05255208,  1.        , -1.        ,\n",
       "         0.        ],\n",
       "       [ 0.7306623 ,  1.        ,  0.04730617,  0.        ,  1.        ,\n",
       "         1.        ],\n",
       "       [ 0.19521454,  1.        ,  0.04730617,  0.        , -1.        ,\n",
       "         0.        ],\n",
       "       [ 0.6313754 ,  0.        ,  0.05255208,  0.        , -1.        ,\n",
       "         0.        ],\n",
       "       [ 0.25963032,  0.        ,  0.05255208,  0.        , -1.        ,\n",
       "         0.        ],\n",
       "       [ 0.99067366,  1.        ,  0.04730617,  0.        , -1.        ,\n",
       "         0.        ],\n",
       "       [ 0.35290644,  0.        ,  0.05255208,  0.        , -1.        ,\n",
       "         1.        ],\n",
       "       [ 0.99116814,  0.        ,  0.05255208,  1.        ,  1.        ,\n",
       "         0.        ],\n",
       "       [ 0.42397895,  0.        ,  0.05255208,  0.        , -1.        ,\n",
       "         1.        ],\n",
       "       [ 0.42508525,  0.        ,  0.05255208,  0.        , -1.        ,\n",
       "         1.        ],\n",
       "       [ 0.4699957 ,  0.        ,  0.05255208,  0.        ,  1.        ,\n",
       "         0.        ],\n",
       "       [ 0.5686067 ,  0.        ,  0.05255208,  0.        ,  1.        ,\n",
       "         0.        ],\n",
       "       [ 0.7021613 ,  0.        ,  0.05255208,  0.        ,  1.        ,\n",
       "         1.        ],\n",
       "       [ 0.28999463,  0.        ,  0.05255208,  0.        , -1.        ,\n",
       "         1.        ],\n",
       "       [ 0.06878188,  0.        ,  0.05255208,  0.        , -1.        ,\n",
       "         1.        ],\n",
       "       [ 0.00183123,  0.        ,  0.05255208,  0.        ,  1.        ,\n",
       "         0.        ],\n",
       "       [ 0.6564822 ,  0.        ,  0.05255208,  1.        , -1.        ,\n",
       "         1.        ],\n",
       "       [ 0.12972046,  0.        ,  0.05255208,  0.        ,  1.        ,\n",
       "         1.        ],\n",
       "       [ 0.27337372,  1.        ,  0.04730617,  0.        ,  1.        ,\n",
       "         1.        ],\n",
       "       [ 0.6696002 ,  0.        ,  0.05255208,  0.        ,  1.        ,\n",
       "         0.        ],\n",
       "       [ 0.0296157 ,  1.        ,  0.04730617,  0.        , -1.        ,\n",
       "         1.        ],\n",
       "       [ 0.67392474,  0.        ,  0.05255208,  0.        , -1.        ,\n",
       "         0.        ],\n",
       "       [ 0.14493369,  0.        ,  0.05255208,  1.        ,  1.        ,\n",
       "         1.        ],\n",
       "       [ 0.6136799 ,  1.        ,  0.04730617,  0.        , -1.        ,\n",
       "         0.        ],\n",
       "       [ 0.6867757 ,  0.        ,  0.05255208,  1.        , -1.        ,\n",
       "         0.        ],\n",
       "       [ 0.8501887 ,  0.        ,  0.05255208,  0.        , -1.        ,\n",
       "         1.        ],\n",
       "       [ 0.9871749 ,  1.        ,  0.04730617,  0.        , -1.        ,\n",
       "         0.        ],\n",
       "       [ 0.7190865 ,  1.        ,  0.04730617,  0.        ,  1.        ,\n",
       "         1.        ],\n",
       "       [ 0.3719441 ,  0.        ,  0.05255208,  1.        , -1.        ,\n",
       "         1.        ],\n",
       "       [ 0.5271291 ,  1.        ,  0.04730617,  0.        ,  1.        ,\n",
       "         1.        ],\n",
       "       [ 0.89354146,  1.        ,  0.04730617,  0.        , -1.        ,\n",
       "         1.        ],\n",
       "       [ 0.0257139 ,  0.        ,  0.05255208,  0.        ,  1.        ,\n",
       "         0.        ],\n",
       "       [ 0.6210699 ,  1.        ,  0.04730617,  0.        , -1.        ,\n",
       "         0.        ],\n",
       "       [ 0.02416168,  0.        ,  0.05255208,  0.        ,  1.        ,\n",
       "         1.        ],\n",
       "       [ 0.34061438,  1.        ,  0.04730617,  0.        ,  1.        ,\n",
       "         1.        ],\n",
       "       [ 0.22208063,  0.        ,  0.05255208,  1.        , -1.        ,\n",
       "         0.        ],\n",
       "       [ 0.5923068 ,  0.        ,  0.05255208,  1.        ,  1.        ,\n",
       "         1.        ],\n",
       "       [ 0.10438861,  0.        ,  0.05255208,  1.        , -1.        ,\n",
       "         1.        ],\n",
       "       [ 0.5623925 ,  0.        ,  0.05255208,  1.        ,  1.        ,\n",
       "         1.        ],\n",
       "       [ 0.9505957 ,  1.        ,  0.04730617,  0.        , -1.        ,\n",
       "         0.        ],\n",
       "       [ 0.92909044,  0.        ,  0.05255208,  0.        , -1.        ,\n",
       "         0.        ],\n",
       "       [ 0.7368643 ,  0.        ,  0.05255208,  0.        , -1.        ,\n",
       "         1.        ],\n",
       "       [ 0.5110058 ,  1.        ,  0.04730617,  0.        ,  1.        ,\n",
       "         1.        ],\n",
       "       [ 0.7164882 ,  1.        ,  0.04730617,  0.        ,  1.        ,\n",
       "         1.        ],\n",
       "       [ 0.9145088 ,  0.        ,  0.05255208,  0.        ,  1.        ,\n",
       "         0.        ],\n",
       "       [ 0.6171169 ,  0.        ,  0.05255208,  0.        ,  1.        ,\n",
       "         0.        ],\n",
       "       [ 0.7971166 ,  1.        ,  0.04730617,  0.        ,  1.        ,\n",
       "         1.        ],\n",
       "       [ 0.48161107,  0.        ,  0.05255208,  0.        ,  1.        ,\n",
       "         1.        ],\n",
       "       [ 0.29716942,  1.        ,  0.04730617,  1.        ,  1.        ,\n",
       "         1.        ],\n",
       "       [ 0.4037633 ,  0.        ,  0.05255208,  0.        ,  1.        ,\n",
       "         0.        ],\n",
       "       [ 0.4825515 ,  1.        ,  0.04730617,  1.        , -1.        ,\n",
       "         0.        ],\n",
       "       [ 0.7595633 ,  0.        ,  0.05255208,  0.        , -1.        ,\n",
       "         0.        ],\n",
       "       [ 0.7750012 ,  1.        ,  0.04730617,  0.        , -1.        ,\n",
       "         1.        ],\n",
       "       [ 0.15865263,  0.        ,  0.05255208,  1.        , -1.        ,\n",
       "         1.        ],\n",
       "       [ 0.04615736,  0.        ,  0.05255208,  1.        ,  1.        ,\n",
       "         1.        ],\n",
       "       [ 0.6162706 ,  0.        ,  0.05255208,  0.        , -1.        ,\n",
       "         1.        ],\n",
       "       [ 0.95412976,  1.        ,  0.04730617,  0.        , -1.        ,\n",
       "         0.        ],\n",
       "       [ 0.68174124,  0.        ,  0.05255208,  0.        , -1.        ,\n",
       "         1.        ],\n",
       "       [ 0.44972268,  0.        ,  0.05255208,  0.        , -1.        ,\n",
       "         1.        ],\n",
       "       [ 0.2667378 ,  0.        ,  0.05255208,  1.        , -1.        ,\n",
       "         0.        ],\n",
       "       [ 0.9020292 ,  0.        ,  0.05255208,  1.        ,  1.        ,\n",
       "         0.        ],\n",
       "       [ 0.13999058,  0.        ,  0.05255208,  0.        , -1.        ,\n",
       "         1.        ],\n",
       "       [ 0.34886736,  0.        ,  0.05255208,  0.        ,  1.        ,\n",
       "         0.        ],\n",
       "       [ 0.31100836,  0.        ,  0.05255208,  0.        ,  1.        ,\n",
       "         0.        ],\n",
       "       [ 0.862452  ,  1.        ,  0.04730617,  0.        ,  1.        ,\n",
       "         0.        ],\n",
       "       [ 0.34536606,  0.        ,  0.05255208,  0.        , -1.        ,\n",
       "         1.        ],\n",
       "       [ 0.4840586 ,  0.        ,  0.05255208,  0.        ,  1.        ,\n",
       "         0.        ],\n",
       "       [ 0.42212743,  1.        ,  0.04730617,  1.        , -1.        ,\n",
       "         0.        ],\n",
       "       [ 0.8977612 ,  1.        ,  0.04730617,  0.        ,  1.        ,\n",
       "         1.        ],\n",
       "       [ 0.10535333,  0.        ,  0.05255208,  0.        ,  1.        ,\n",
       "         0.        ],\n",
       "       [ 0.6753978 ,  0.        ,  0.05255208,  1.        ,  1.        ,\n",
       "         1.        ],\n",
       "       [ 0.46467584,  0.        ,  0.05255208,  0.        , -1.        ,\n",
       "         1.        ],\n",
       "       [ 0.4456005 ,  1.        ,  0.04730617,  0.        , -1.        ,\n",
       "         1.        ]], dtype=float32)>"
      ]
     },
     "execution_count": 34,
     "metadata": {},
     "output_type": "execute_result"
    }
   ],
   "source": [
    "process_sequence_of_experiences_tf(actor, experiences)"
   ]
  },
  {
   "cell_type": "code",
   "execution_count": 36,
   "metadata": {},
   "outputs": [],
   "source": [
    "actor_target = Actor(nature=\"target\")\n",
    "actor_target.lstm.stateful=True\n",
    "unstacked_exp = tf.unstack(tf.convert_to_tensor(experiences), axis=1)\n",
    "to_stack = []\n",
    "for index in range(2*actor_target.dolinar_layers-1): # I consider from first outcome to last one (but guess)\n",
    "    if (index==0):\n",
    "        to_stack.append(unstacked_exp[index])\n",
    "    if (index%2 == 1):\n",
    "        to_stack.append(unstacked_exp[index])\n",
    "\n",
    "        to_stack.append(tf.squeeze(actor_target(tf.reshape(unstacked_exp[index],(experiences.shape[0],1,1)))))\n",
    "for index in range(2*actor_target.dolinar_layers-1, 2*actor_target.dolinar_layers+2):\n",
    "    to_stack.append(unstacked_exp[index])"
   ]
  },
  {
   "cell_type": "code",
   "execution_count": 38,
   "metadata": {},
   "outputs": [],
   "source": [
    "actor_target.reset_states()"
   ]
  },
  {
   "cell_type": "code",
   "execution_count": 39,
   "metadata": {},
   "outputs": [
    {
     "ename": "InvalidArgumentError",
     "evalue": "Incompatible shapes: [5,2000] vs. [100,2000] [Op:AddV2]",
     "output_type": "error",
     "traceback": [
      "\u001b[0;31m---------------------------------------------------------------------------\u001b[0m",
      "\u001b[0;31mInvalidArgumentError\u001b[0m                      Traceback (most recent call last)",
      "\u001b[0;32m<ipython-input-39-f579f0e991a0>\u001b[0m in \u001b[0;36m<module>\u001b[0;34m\u001b[0m\n\u001b[1;32m      9\u001b[0m         \u001b[0mto_stack\u001b[0m\u001b[0;34m.\u001b[0m\u001b[0mappend\u001b[0m\u001b[0;34m(\u001b[0m\u001b[0munstacked_exp\u001b[0m\u001b[0;34m[\u001b[0m\u001b[0mindex\u001b[0m\u001b[0;34m]\u001b[0m\u001b[0;34m)\u001b[0m\u001b[0;34m\u001b[0m\u001b[0;34m\u001b[0m\u001b[0m\n\u001b[1;32m     10\u001b[0m \u001b[0;34m\u001b[0m\u001b[0m\n\u001b[0;32m---> 11\u001b[0;31m         \u001b[0mto_stack\u001b[0m\u001b[0;34m.\u001b[0m\u001b[0mappend\u001b[0m\u001b[0;34m(\u001b[0m\u001b[0mtf\u001b[0m\u001b[0;34m.\u001b[0m\u001b[0msqueeze\u001b[0m\u001b[0;34m(\u001b[0m\u001b[0mactor_target\u001b[0m\u001b[0;34m(\u001b[0m\u001b[0mtf\u001b[0m\u001b[0;34m.\u001b[0m\u001b[0mreshape\u001b[0m\u001b[0;34m(\u001b[0m\u001b[0munstacked_exp\u001b[0m\u001b[0;34m[\u001b[0m\u001b[0mindex\u001b[0m\u001b[0;34m]\u001b[0m\u001b[0;34m,\u001b[0m\u001b[0;34m(\u001b[0m\u001b[0mexperiences\u001b[0m\u001b[0;34m.\u001b[0m\u001b[0mshape\u001b[0m\u001b[0;34m[\u001b[0m\u001b[0;36m0\u001b[0m\u001b[0;34m]\u001b[0m\u001b[0;34m,\u001b[0m\u001b[0;36m1\u001b[0m\u001b[0;34m,\u001b[0m\u001b[0;36m1\u001b[0m\u001b[0;34m)\u001b[0m\u001b[0;34m)\u001b[0m\u001b[0;34m)\u001b[0m\u001b[0;34m)\u001b[0m\u001b[0;34m)\u001b[0m\u001b[0;34m\u001b[0m\u001b[0;34m\u001b[0m\u001b[0m\n\u001b[0m\u001b[1;32m     12\u001b[0m \u001b[0;32mfor\u001b[0m \u001b[0mindex\u001b[0m \u001b[0;32min\u001b[0m \u001b[0mrange\u001b[0m\u001b[0;34m(\u001b[0m\u001b[0;36m2\u001b[0m\u001b[0;34m*\u001b[0m\u001b[0mactor_target\u001b[0m\u001b[0;34m.\u001b[0m\u001b[0mdolinar_layers\u001b[0m\u001b[0;34m-\u001b[0m\u001b[0;36m1\u001b[0m\u001b[0;34m,\u001b[0m \u001b[0;36m2\u001b[0m\u001b[0;34m*\u001b[0m\u001b[0mactor_target\u001b[0m\u001b[0;34m.\u001b[0m\u001b[0mdolinar_layers\u001b[0m\u001b[0;34m+\u001b[0m\u001b[0;36m2\u001b[0m\u001b[0;34m)\u001b[0m\u001b[0;34m:\u001b[0m\u001b[0;34m\u001b[0m\u001b[0;34m\u001b[0m\u001b[0m\n\u001b[1;32m     13\u001b[0m     \u001b[0mto_stack\u001b[0m\u001b[0;34m.\u001b[0m\u001b[0mappend\u001b[0m\u001b[0;34m(\u001b[0m\u001b[0munstacked_exp\u001b[0m\u001b[0;34m[\u001b[0m\u001b[0mindex\u001b[0m\u001b[0;34m]\u001b[0m\u001b[0;34m)\u001b[0m\u001b[0;34m\u001b[0m\u001b[0;34m\u001b[0m\u001b[0m\n",
      "\u001b[0;32m~/.local/lib/python3.6/site-packages/tensorflow/python/keras/engine/base_layer.py\u001b[0m in \u001b[0;36m__call__\u001b[0;34m(self, *args, **kwargs)\u001b[0m\n\u001b[1;32m    966\u001b[0m           with base_layer_utils.autocast_context_manager(\n\u001b[1;32m    967\u001b[0m               self._compute_dtype):\n\u001b[0;32m--> 968\u001b[0;31m             \u001b[0moutputs\u001b[0m \u001b[0;34m=\u001b[0m \u001b[0mself\u001b[0m\u001b[0;34m.\u001b[0m\u001b[0mcall\u001b[0m\u001b[0;34m(\u001b[0m\u001b[0mcast_inputs\u001b[0m\u001b[0;34m,\u001b[0m \u001b[0;34m*\u001b[0m\u001b[0margs\u001b[0m\u001b[0;34m,\u001b[0m \u001b[0;34m**\u001b[0m\u001b[0mkwargs\u001b[0m\u001b[0;34m)\u001b[0m\u001b[0;34m\u001b[0m\u001b[0;34m\u001b[0m\u001b[0m\n\u001b[0m\u001b[1;32m    969\u001b[0m           \u001b[0mself\u001b[0m\u001b[0;34m.\u001b[0m\u001b[0m_handle_activity_regularization\u001b[0m\u001b[0;34m(\u001b[0m\u001b[0minputs\u001b[0m\u001b[0;34m,\u001b[0m \u001b[0moutputs\u001b[0m\u001b[0;34m)\u001b[0m\u001b[0;34m\u001b[0m\u001b[0;34m\u001b[0m\u001b[0m\n\u001b[1;32m    970\u001b[0m           \u001b[0mself\u001b[0m\u001b[0;34m.\u001b[0m\u001b[0m_set_mask_metadata\u001b[0m\u001b[0;34m(\u001b[0m\u001b[0minputs\u001b[0m\u001b[0;34m,\u001b[0m \u001b[0moutputs\u001b[0m\u001b[0;34m,\u001b[0m \u001b[0minput_masks\u001b[0m\u001b[0;34m)\u001b[0m\u001b[0;34m\u001b[0m\u001b[0;34m\u001b[0m\u001b[0m\n",
      "\u001b[0;32m~/Desktop/deeper/nets.py\u001b[0m in \u001b[0;36mcall\u001b[0;34m(self, inputs)\u001b[0m\n\u001b[1;32m    265\u001b[0m     \u001b[0;32mdef\u001b[0m \u001b[0mcall\u001b[0m\u001b[0;34m(\u001b[0m\u001b[0mself\u001b[0m\u001b[0;34m,\u001b[0m \u001b[0minputs\u001b[0m\u001b[0;34m)\u001b[0m\u001b[0;34m:\u001b[0m\u001b[0;34m\u001b[0m\u001b[0;34m\u001b[0m\u001b[0m\n\u001b[1;32m    266\u001b[0m         \u001b[0mfeat\u001b[0m \u001b[0;34m=\u001b[0m \u001b[0mself\u001b[0m\u001b[0;34m.\u001b[0m\u001b[0mmask\u001b[0m\u001b[0;34m(\u001b[0m\u001b[0minputs\u001b[0m\u001b[0;34m)\u001b[0m\u001b[0;34m\u001b[0m\u001b[0;34m\u001b[0m\u001b[0m\n\u001b[0;32m--> 267\u001b[0;31m         \u001b[0mfeat\u001b[0m\u001b[0;34m=\u001b[0m \u001b[0mself\u001b[0m\u001b[0;34m.\u001b[0m\u001b[0mlstm\u001b[0m\u001b[0;34m(\u001b[0m\u001b[0mfeat\u001b[0m\u001b[0;34m)\u001b[0m\u001b[0;34m\u001b[0m\u001b[0;34m\u001b[0m\u001b[0m\n\u001b[0m\u001b[1;32m    268\u001b[0m         \u001b[0mfeat\u001b[0m \u001b[0;34m=\u001b[0m \u001b[0mtf\u001b[0m\u001b[0;34m.\u001b[0m\u001b[0mnn\u001b[0m\u001b[0;34m.\u001b[0m\u001b[0mdropout\u001b[0m\u001b[0;34m(\u001b[0m\u001b[0mfeat\u001b[0m\u001b[0;34m,\u001b[0m \u001b[0mrate\u001b[0m\u001b[0;34m=\u001b[0m\u001b[0mself\u001b[0m\u001b[0;34m.\u001b[0m\u001b[0mdropout_rate\u001b[0m\u001b[0;34m)\u001b[0m\u001b[0;34m\u001b[0m\u001b[0;34m\u001b[0m\u001b[0m\n\u001b[1;32m    269\u001b[0m         \u001b[0mfeat\u001b[0m \u001b[0;34m=\u001b[0m \u001b[0mtf\u001b[0m\u001b[0;34m.\u001b[0m\u001b[0mnn\u001b[0m\u001b[0;34m.\u001b[0m\u001b[0mrelu\u001b[0m\u001b[0;34m(\u001b[0m\u001b[0mself\u001b[0m\u001b[0;34m.\u001b[0m\u001b[0ml1\u001b[0m\u001b[0;34m(\u001b[0m\u001b[0mfeat\u001b[0m\u001b[0;34m)\u001b[0m\u001b[0;34m)\u001b[0m\u001b[0;34m\u001b[0m\u001b[0;34m\u001b[0m\u001b[0m\n",
      "\u001b[0;32m~/.local/lib/python3.6/site-packages/tensorflow/python/keras/layers/recurrent.py\u001b[0m in \u001b[0;36m__call__\u001b[0;34m(self, inputs, initial_state, constants, **kwargs)\u001b[0m\n\u001b[1;32m    652\u001b[0m \u001b[0;34m\u001b[0m\u001b[0m\n\u001b[1;32m    653\u001b[0m     \u001b[0;32mif\u001b[0m \u001b[0minitial_state\u001b[0m \u001b[0;32mis\u001b[0m \u001b[0;32mNone\u001b[0m \u001b[0;32mand\u001b[0m \u001b[0mconstants\u001b[0m \u001b[0;32mis\u001b[0m \u001b[0;32mNone\u001b[0m\u001b[0;34m:\u001b[0m\u001b[0;34m\u001b[0m\u001b[0;34m\u001b[0m\u001b[0m\n\u001b[0;32m--> 654\u001b[0;31m       \u001b[0;32mreturn\u001b[0m \u001b[0msuper\u001b[0m\u001b[0;34m(\u001b[0m\u001b[0mRNN\u001b[0m\u001b[0;34m,\u001b[0m \u001b[0mself\u001b[0m\u001b[0;34m)\u001b[0m\u001b[0;34m.\u001b[0m\u001b[0m__call__\u001b[0m\u001b[0;34m(\u001b[0m\u001b[0minputs\u001b[0m\u001b[0;34m,\u001b[0m \u001b[0;34m**\u001b[0m\u001b[0mkwargs\u001b[0m\u001b[0;34m)\u001b[0m\u001b[0;34m\u001b[0m\u001b[0;34m\u001b[0m\u001b[0m\n\u001b[0m\u001b[1;32m    655\u001b[0m \u001b[0;34m\u001b[0m\u001b[0m\n\u001b[1;32m    656\u001b[0m     \u001b[0;31m# If any of `initial_state` or `constants` are specified and are Keras\u001b[0m\u001b[0;34m\u001b[0m\u001b[0;34m\u001b[0m\u001b[0;34m\u001b[0m\u001b[0m\n",
      "\u001b[0;32m~/.local/lib/python3.6/site-packages/tensorflow/python/keras/engine/base_layer.py\u001b[0m in \u001b[0;36m__call__\u001b[0;34m(self, *args, **kwargs)\u001b[0m\n\u001b[1;32m    966\u001b[0m           with base_layer_utils.autocast_context_manager(\n\u001b[1;32m    967\u001b[0m               self._compute_dtype):\n\u001b[0;32m--> 968\u001b[0;31m             \u001b[0moutputs\u001b[0m \u001b[0;34m=\u001b[0m \u001b[0mself\u001b[0m\u001b[0;34m.\u001b[0m\u001b[0mcall\u001b[0m\u001b[0;34m(\u001b[0m\u001b[0mcast_inputs\u001b[0m\u001b[0;34m,\u001b[0m \u001b[0;34m*\u001b[0m\u001b[0margs\u001b[0m\u001b[0;34m,\u001b[0m \u001b[0;34m**\u001b[0m\u001b[0mkwargs\u001b[0m\u001b[0;34m)\u001b[0m\u001b[0;34m\u001b[0m\u001b[0;34m\u001b[0m\u001b[0m\n\u001b[0m\u001b[1;32m    969\u001b[0m           \u001b[0mself\u001b[0m\u001b[0;34m.\u001b[0m\u001b[0m_handle_activity_regularization\u001b[0m\u001b[0;34m(\u001b[0m\u001b[0minputs\u001b[0m\u001b[0;34m,\u001b[0m \u001b[0moutputs\u001b[0m\u001b[0;34m)\u001b[0m\u001b[0;34m\u001b[0m\u001b[0;34m\u001b[0m\u001b[0m\n\u001b[1;32m    970\u001b[0m           \u001b[0mself\u001b[0m\u001b[0;34m.\u001b[0m\u001b[0m_set_mask_metadata\u001b[0m\u001b[0;34m(\u001b[0m\u001b[0minputs\u001b[0m\u001b[0;34m,\u001b[0m \u001b[0moutputs\u001b[0m\u001b[0;34m,\u001b[0m \u001b[0minput_masks\u001b[0m\u001b[0;34m)\u001b[0m\u001b[0;34m\u001b[0m\u001b[0;34m\u001b[0m\u001b[0m\n",
      "\u001b[0;32m~/.local/lib/python3.6/site-packages/tensorflow/python/keras/layers/recurrent_v2.py\u001b[0m in \u001b[0;36mcall\u001b[0;34m(self, inputs, mask, training, initial_state)\u001b[0m\n\u001b[1;32m   1182\u001b[0m         \u001b[0;32melse\u001b[0m\u001b[0;34m:\u001b[0m\u001b[0;34m\u001b[0m\u001b[0;34m\u001b[0m\u001b[0m\n\u001b[1;32m   1183\u001b[0m           last_output, outputs, new_h, new_c, runtime = standard_lstm(\n\u001b[0;32m-> 1184\u001b[0;31m               **normal_lstm_kwargs)\n\u001b[0m\u001b[1;32m   1185\u001b[0m       \u001b[0;32melse\u001b[0m\u001b[0;34m:\u001b[0m\u001b[0;34m\u001b[0m\u001b[0;34m\u001b[0m\u001b[0m\n\u001b[1;32m   1186\u001b[0m         (last_output, outputs, new_h, new_c,\n",
      "\u001b[0;32m~/.local/lib/python3.6/site-packages/tensorflow/python/keras/layers/recurrent_v2.py\u001b[0m in \u001b[0;36mstandard_lstm\u001b[0;34m(inputs, init_h, init_c, kernel, recurrent_kernel, bias, activation, recurrent_activation, mask, time_major, go_backwards, sequence_lengths, zero_output_for_mask)\u001b[0m\n\u001b[1;32m   1318\u001b[0m       input_length=(sequence_lengths\n\u001b[1;32m   1319\u001b[0m                     if sequence_lengths is not None else timesteps),\n\u001b[0;32m-> 1320\u001b[0;31m       zero_output_for_mask=zero_output_for_mask)\n\u001b[0m\u001b[1;32m   1321\u001b[0m   return (last_output, outputs, new_states[0], new_states[1],\n\u001b[1;32m   1322\u001b[0m           _runtime(_RUNTIME_CPU))\n",
      "\u001b[0;32m~/.local/lib/python3.6/site-packages/tensorflow/python/keras/backend.py\u001b[0m in \u001b[0;36mrnn\u001b[0;34m(step_function, inputs, initial_states, go_backwards, mask, constants, unroll, input_length, time_major, zero_output_for_mask)\u001b[0m\n\u001b[1;32m   4090\u001b[0m     \u001b[0;31m# the value is discarded.\u001b[0m\u001b[0;34m\u001b[0m\u001b[0;34m\u001b[0m\u001b[0;34m\u001b[0m\u001b[0m\n\u001b[1;32m   4091\u001b[0m     output_time_zero, _ = step_function(\n\u001b[0;32m-> 4092\u001b[0;31m         input_time_zero, tuple(initial_states) + tuple(constants))\n\u001b[0m\u001b[1;32m   4093\u001b[0m     output_ta = tuple(\n\u001b[1;32m   4094\u001b[0m         tensor_array_ops.TensorArray(\n",
      "\u001b[0;32m~/.local/lib/python3.6/site-packages/tensorflow/python/keras/layers/recurrent_v2.py\u001b[0m in \u001b[0;36mstep\u001b[0;34m(cell_inputs, cell_states)\u001b[0m\n\u001b[1;32m   1295\u001b[0m \u001b[0;34m\u001b[0m\u001b[0m\n\u001b[1;32m   1296\u001b[0m     \u001b[0mz\u001b[0m \u001b[0;34m=\u001b[0m \u001b[0mK\u001b[0m\u001b[0;34m.\u001b[0m\u001b[0mdot\u001b[0m\u001b[0;34m(\u001b[0m\u001b[0mcell_inputs\u001b[0m\u001b[0;34m,\u001b[0m \u001b[0mkernel\u001b[0m\u001b[0;34m)\u001b[0m\u001b[0;34m\u001b[0m\u001b[0;34m\u001b[0m\u001b[0m\n\u001b[0;32m-> 1297\u001b[0;31m     \u001b[0mz\u001b[0m \u001b[0;34m+=\u001b[0m \u001b[0mK\u001b[0m\u001b[0;34m.\u001b[0m\u001b[0mdot\u001b[0m\u001b[0;34m(\u001b[0m\u001b[0mh_tm1\u001b[0m\u001b[0;34m,\u001b[0m \u001b[0mrecurrent_kernel\u001b[0m\u001b[0;34m)\u001b[0m\u001b[0;34m\u001b[0m\u001b[0;34m\u001b[0m\u001b[0m\n\u001b[0m\u001b[1;32m   1298\u001b[0m     \u001b[0mz\u001b[0m \u001b[0;34m=\u001b[0m \u001b[0mK\u001b[0m\u001b[0;34m.\u001b[0m\u001b[0mbias_add\u001b[0m\u001b[0;34m(\u001b[0m\u001b[0mz\u001b[0m\u001b[0;34m,\u001b[0m \u001b[0mbias\u001b[0m\u001b[0;34m)\u001b[0m\u001b[0;34m\u001b[0m\u001b[0;34m\u001b[0m\u001b[0m\n\u001b[1;32m   1299\u001b[0m \u001b[0;34m\u001b[0m\u001b[0m\n",
      "\u001b[0;32m~/.local/lib/python3.6/site-packages/tensorflow/python/ops/math_ops.py\u001b[0m in \u001b[0;36mbinary_op_wrapper\u001b[0;34m(x, y)\u001b[0m\n\u001b[1;32m    982\u001b[0m     \u001b[0;32mwith\u001b[0m \u001b[0mops\u001b[0m\u001b[0;34m.\u001b[0m\u001b[0mname_scope\u001b[0m\u001b[0;34m(\u001b[0m\u001b[0;32mNone\u001b[0m\u001b[0;34m,\u001b[0m \u001b[0mop_name\u001b[0m\u001b[0;34m,\u001b[0m \u001b[0;34m[\u001b[0m\u001b[0mx\u001b[0m\u001b[0;34m,\u001b[0m \u001b[0my\u001b[0m\u001b[0;34m]\u001b[0m\u001b[0;34m)\u001b[0m \u001b[0;32mas\u001b[0m \u001b[0mname\u001b[0m\u001b[0;34m:\u001b[0m\u001b[0;34m\u001b[0m\u001b[0;34m\u001b[0m\u001b[0m\n\u001b[1;32m    983\u001b[0m       \u001b[0;32mif\u001b[0m \u001b[0misinstance\u001b[0m\u001b[0;34m(\u001b[0m\u001b[0mx\u001b[0m\u001b[0;34m,\u001b[0m \u001b[0mops\u001b[0m\u001b[0;34m.\u001b[0m\u001b[0mTensor\u001b[0m\u001b[0;34m)\u001b[0m \u001b[0;32mand\u001b[0m \u001b[0misinstance\u001b[0m\u001b[0;34m(\u001b[0m\u001b[0my\u001b[0m\u001b[0;34m,\u001b[0m \u001b[0mops\u001b[0m\u001b[0;34m.\u001b[0m\u001b[0mTensor\u001b[0m\u001b[0;34m)\u001b[0m\u001b[0;34m:\u001b[0m\u001b[0;34m\u001b[0m\u001b[0;34m\u001b[0m\u001b[0m\n\u001b[0;32m--> 984\u001b[0;31m         \u001b[0;32mreturn\u001b[0m \u001b[0mfunc\u001b[0m\u001b[0;34m(\u001b[0m\u001b[0mx\u001b[0m\u001b[0;34m,\u001b[0m \u001b[0my\u001b[0m\u001b[0;34m,\u001b[0m \u001b[0mname\u001b[0m\u001b[0;34m=\u001b[0m\u001b[0mname\u001b[0m\u001b[0;34m)\u001b[0m\u001b[0;34m\u001b[0m\u001b[0;34m\u001b[0m\u001b[0m\n\u001b[0m\u001b[1;32m    985\u001b[0m       \u001b[0;32melif\u001b[0m \u001b[0;32mnot\u001b[0m \u001b[0misinstance\u001b[0m\u001b[0;34m(\u001b[0m\u001b[0my\u001b[0m\u001b[0;34m,\u001b[0m \u001b[0msparse_tensor\u001b[0m\u001b[0;34m.\u001b[0m\u001b[0mSparseTensor\u001b[0m\u001b[0;34m)\u001b[0m\u001b[0;34m:\u001b[0m\u001b[0;34m\u001b[0m\u001b[0;34m\u001b[0m\u001b[0m\n\u001b[1;32m    986\u001b[0m         \u001b[0;32mtry\u001b[0m\u001b[0;34m:\u001b[0m\u001b[0;34m\u001b[0m\u001b[0;34m\u001b[0m\u001b[0m\n",
      "\u001b[0;32m~/.local/lib/python3.6/site-packages/tensorflow/python/ops/math_ops.py\u001b[0m in \u001b[0;36m_add_dispatch\u001b[0;34m(x, y, name)\u001b[0m\n\u001b[1;32m   1274\u001b[0m     \u001b[0;32mreturn\u001b[0m \u001b[0mgen_math_ops\u001b[0m\u001b[0;34m.\u001b[0m\u001b[0madd\u001b[0m\u001b[0;34m(\u001b[0m\u001b[0mx\u001b[0m\u001b[0;34m,\u001b[0m \u001b[0my\u001b[0m\u001b[0;34m,\u001b[0m \u001b[0mname\u001b[0m\u001b[0;34m=\u001b[0m\u001b[0mname\u001b[0m\u001b[0;34m)\u001b[0m\u001b[0;34m\u001b[0m\u001b[0;34m\u001b[0m\u001b[0m\n\u001b[1;32m   1275\u001b[0m   \u001b[0;32melse\u001b[0m\u001b[0;34m:\u001b[0m\u001b[0;34m\u001b[0m\u001b[0;34m\u001b[0m\u001b[0m\n\u001b[0;32m-> 1276\u001b[0;31m     \u001b[0;32mreturn\u001b[0m \u001b[0mgen_math_ops\u001b[0m\u001b[0;34m.\u001b[0m\u001b[0madd_v2\u001b[0m\u001b[0;34m(\u001b[0m\u001b[0mx\u001b[0m\u001b[0;34m,\u001b[0m \u001b[0my\u001b[0m\u001b[0;34m,\u001b[0m \u001b[0mname\u001b[0m\u001b[0;34m=\u001b[0m\u001b[0mname\u001b[0m\u001b[0;34m)\u001b[0m\u001b[0;34m\u001b[0m\u001b[0;34m\u001b[0m\u001b[0m\n\u001b[0m\u001b[1;32m   1277\u001b[0m \u001b[0;34m\u001b[0m\u001b[0m\n\u001b[1;32m   1278\u001b[0m \u001b[0;34m\u001b[0m\u001b[0m\n",
      "\u001b[0;32m~/.local/lib/python3.6/site-packages/tensorflow/python/ops/gen_math_ops.py\u001b[0m in \u001b[0;36madd_v2\u001b[0;34m(x, y, name)\u001b[0m\n\u001b[1;32m    478\u001b[0m         \u001b[0;32mpass\u001b[0m  \u001b[0;31m# Add nodes to the TensorFlow graph.\u001b[0m\u001b[0;34m\u001b[0m\u001b[0;34m\u001b[0m\u001b[0m\n\u001b[1;32m    479\u001b[0m     \u001b[0;32mexcept\u001b[0m \u001b[0m_core\u001b[0m\u001b[0;34m.\u001b[0m\u001b[0m_NotOkStatusException\u001b[0m \u001b[0;32mas\u001b[0m \u001b[0me\u001b[0m\u001b[0;34m:\u001b[0m\u001b[0;34m\u001b[0m\u001b[0;34m\u001b[0m\u001b[0m\n\u001b[0;32m--> 480\u001b[0;31m       \u001b[0m_ops\u001b[0m\u001b[0;34m.\u001b[0m\u001b[0mraise_from_not_ok_status\u001b[0m\u001b[0;34m(\u001b[0m\u001b[0me\u001b[0m\u001b[0;34m,\u001b[0m \u001b[0mname\u001b[0m\u001b[0;34m)\u001b[0m\u001b[0;34m\u001b[0m\u001b[0;34m\u001b[0m\u001b[0m\n\u001b[0m\u001b[1;32m    481\u001b[0m   \u001b[0;31m# Add nodes to the TensorFlow graph.\u001b[0m\u001b[0;34m\u001b[0m\u001b[0;34m\u001b[0m\u001b[0;34m\u001b[0m\u001b[0m\n\u001b[1;32m    482\u001b[0m   _, _, _op, _outputs = _op_def_library._apply_op_helper(\n",
      "\u001b[0;32m~/.local/lib/python3.6/site-packages/tensorflow/python/framework/ops.py\u001b[0m in \u001b[0;36mraise_from_not_ok_status\u001b[0;34m(e, name)\u001b[0m\n\u001b[1;32m   6651\u001b[0m   \u001b[0mmessage\u001b[0m \u001b[0;34m=\u001b[0m \u001b[0me\u001b[0m\u001b[0;34m.\u001b[0m\u001b[0mmessage\u001b[0m \u001b[0;34m+\u001b[0m \u001b[0;34m(\u001b[0m\u001b[0;34m\" name: \"\u001b[0m \u001b[0;34m+\u001b[0m \u001b[0mname\u001b[0m \u001b[0;32mif\u001b[0m \u001b[0mname\u001b[0m \u001b[0;32mis\u001b[0m \u001b[0;32mnot\u001b[0m \u001b[0;32mNone\u001b[0m \u001b[0;32melse\u001b[0m \u001b[0;34m\"\"\u001b[0m\u001b[0;34m)\u001b[0m\u001b[0;34m\u001b[0m\u001b[0;34m\u001b[0m\u001b[0m\n\u001b[1;32m   6652\u001b[0m   \u001b[0;31m# pylint: disable=protected-access\u001b[0m\u001b[0;34m\u001b[0m\u001b[0;34m\u001b[0m\u001b[0;34m\u001b[0m\u001b[0m\n\u001b[0;32m-> 6653\u001b[0;31m   \u001b[0msix\u001b[0m\u001b[0;34m.\u001b[0m\u001b[0mraise_from\u001b[0m\u001b[0;34m(\u001b[0m\u001b[0mcore\u001b[0m\u001b[0;34m.\u001b[0m\u001b[0m_status_to_exception\u001b[0m\u001b[0;34m(\u001b[0m\u001b[0me\u001b[0m\u001b[0;34m.\u001b[0m\u001b[0mcode\u001b[0m\u001b[0;34m,\u001b[0m \u001b[0mmessage\u001b[0m\u001b[0;34m)\u001b[0m\u001b[0;34m,\u001b[0m \u001b[0;32mNone\u001b[0m\u001b[0;34m)\u001b[0m\u001b[0;34m\u001b[0m\u001b[0;34m\u001b[0m\u001b[0m\n\u001b[0m\u001b[1;32m   6654\u001b[0m   \u001b[0;31m# pylint: enable=protected-access\u001b[0m\u001b[0;34m\u001b[0m\u001b[0;34m\u001b[0m\u001b[0;34m\u001b[0m\u001b[0m\n\u001b[1;32m   6655\u001b[0m \u001b[0;34m\u001b[0m\u001b[0m\n",
      "\u001b[0;32m~/.local/lib/python3.6/site-packages/six.py\u001b[0m in \u001b[0;36mraise_from\u001b[0;34m(value, from_value)\u001b[0m\n",
      "\u001b[0;31mInvalidArgumentError\u001b[0m: Incompatible shapes: [5,2000] vs. [100,2000] [Op:AddV2]"
     ]
    }
   ],
   "source": [
    "experiences=experiences[:5]\n",
    "actor_target.lstm.stateful=True\n",
    "unstacked_exp = tf.unstack(tf.convert_to_tensor(experiences), axis=1)\n",
    "to_stack = []\n",
    "for index in range(2*actor_target.dolinar_layers-1): # I consider from first outcome to last one (but guess)\n",
    "    if (index==0):\n",
    "        to_stack.append(unstacked_exp[index])\n",
    "    if (index%2 == 1):\n",
    "        to_stack.append(unstacked_exp[index])\n",
    "\n",
    "        to_stack.append(tf.squeeze(actor_target(tf.reshape(unstacked_exp[index],(experiences.shape[0],1,1)))))\n",
    "for index in range(2*actor_target.dolinar_layers-1, 2*actor_target.dolinar_layers+2):\n",
    "    to_stack.append(unstacked_exp[index])"
   ]
  },
  {
   "cell_type": "code",
   "execution_count": 40,
   "metadata": {},
   "outputs": [
    {
     "data": {
      "text/plain": [
       "array([[ 0.6910216 ,  0.        ,  0.8369508 ,  0.        , -1.        ,\n",
       "         1.        ],\n",
       "       [ 0.98145694,  0.        ,  0.04985608,  0.        , -1.        ,\n",
       "         1.        ],\n",
       "       [ 0.695889  ,  0.        ,  0.30091032,  0.        ,  1.        ,\n",
       "         0.        ],\n",
       "       [ 0.654807  ,  0.        ,  0.72952473,  1.        , -1.        ,\n",
       "         0.        ],\n",
       "       [ 0.07486903,  0.        ,  0.39324445,  1.        ,  1.        ,\n",
       "         1.        ]], dtype=float32)"
      ]
     },
     "execution_count": 40,
     "metadata": {},
     "output_type": "execute_result"
    }
   ],
   "source": [
    "experiences"
   ]
  },
  {
   "cell_type": "code",
   "execution_count": null,
   "metadata": {},
   "outputs": [],
   "source": [
    "def actor_grad_tf(actor, dq_da, experiences, optimizer_actor):\n",
    "    with tf.GradientTape() as tape:\n",
    "        unstacked_exp = tf.unstack(tf.convert_to_tensor(experiences), axis=1)\n",
    "        states_to_act=[tf.ones((experiences.shape[0],1,1))*actor.pad_value]\n",
    "\n",
    "        to_stack = []\n",
    "        actions_wathed_index = []\n",
    "        for index in range(1,2*actor.dolinar_layers-2,2):\n",
    "            states_to_act.append(tf.reshape(unstacked_exp[index],(experiences.shape[0],1,1)))\n",
    "        inps_actor = tf.concat(states_to_act, axis=1)\n",
    "        actor.lstm.stateful=False\n",
    "        actor_thinks = actor(inps_actor)\n",
    "        actor.lstm.stateful=True\n",
    "        da_dtheta = tape.gradient(actor_thinks, actor.trainable_variables, output_gradients=-dq_da)\n",
    "        optimizer_actor.apply_gradients(zip(da_dtheta, actor.trainable_variables))\n",
    "    return\n"
   ]
  }
 ],
 "metadata": {
  "kernelspec": {
   "display_name": "Python 3",
   "language": "python",
   "name": "python3"
  },
  "language_info": {
   "codemirror_mode": {
    "name": "ipython",
    "version": 3
   },
   "file_extension": ".py",
   "mimetype": "text/x-python",
   "name": "python",
   "nbconvert_exporter": "python",
   "pygments_lexer": "ipython3",
   "version": "3.6.9"
  }
 },
 "nbformat": 4,
 "nbformat_minor": 4
}
