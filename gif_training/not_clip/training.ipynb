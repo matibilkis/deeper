{
 "cells": [
  {
   "cell_type": "code",
   "execution_count": 2,
   "metadata": {},
   "outputs": [
    {
     "name": "stdout",
     "output_type": "stream",
     "text": [
      "The autoreload extension is already loaded. To reload it, use:\n",
      "  %reload_ext autoreload\n"
     ]
    }
   ],
   "source": [
    "import os \n",
    "import tensorflow as tf\n",
    "import numpy as np\n",
    "from nets import RNNC\n",
    "from tqdm import tqdm\n",
    "import matplotlib.pyplot as plt\n",
    "%load_ext autoreload\n",
    "%autoreload 2\n",
    "\n",
    "data, labels = np.load(\"ProfilesSet/data.npy\"), np.load(\"ProfilesSet/label.npy\")\n",
    "dat_set = tf.data.Dataset.from_tensor_slices((data,labels))\n",
    "net = RNNC(return_sequences=False)\n"
   ]
  },
  {
   "cell_type": "code",
   "execution_count": 12,
   "metadata": {},
   "outputs": [],
   "source": [
    "stoppings = []\n",
    "for k in range(4):\n",
    "    for kk in range(10**k,10**(k+1),10**k):\n",
    "        stoppings.append(kk)\n",
    "for j in range(1,4):\n",
    "    stoppings.append(j*10**4)"
   ]
  },
  {
   "cell_type": "code",
   "execution_count": 14,
   "metadata": {},
   "outputs": [
    {
     "name": "stderr",
     "output_type": "stream",
     "text": [
      "100%|██████████| 30001/30001 [09:04<00:00, 55.09it/s]\n"
     ]
    }
   ],
   "source": [
    "l=[]\n",
    "for k in tqdm(range((3*10**4)+1)):\n",
    "    l.append(net.train_step(data, labels))\n",
    "    if k in stoppings:\n",
    "        net.save_weights(\"net/\"+str(k))\n"
   ]
  },
  {
   "cell_type": "code",
   "execution_count": null,
   "metadata": {},
   "outputs": [
    {
     "name": "stderr",
     "output_type": "stream",
     "text": [
      "  0%|          | 19/10000 [00:54<7:49:49,  2.82s/it]"
     ]
    }
   ],
   "source": [
    "for k in tqdm(range(10**4)):\n",
    "    os.system(\"python3 plot.py --run 14\")    "
   ]
  },
  {
   "cell_type": "code",
   "execution_count": null,
   "metadata": {},
   "outputs": [],
   "source": []
  }
 ],
 "metadata": {
  "kernelspec": {
   "display_name": "Python 3",
   "language": "python",
   "name": "python3"
  },
  "language_info": {
   "codemirror_mode": {
    "name": "ipython",
    "version": 3
   },
   "file_extension": ".py",
   "mimetype": "text/x-python",
   "name": "python",
   "nbconvert_exporter": "python",
   "pygments_lexer": "ipython3",
   "version": "3.6.9"
  }
 },
 "nbformat": 4,
 "nbformat_minor": 4
}
