{
 "cells": [
  {
   "cell_type": "code",
   "execution_count": 46,
   "metadata": {},
   "outputs": [],
   "source": [
    "\n",
    "import tensorflow as tf\n",
    "import pandas as pd\n",
    "from tensorflow.keras.layers import Dense\n",
    "import numpy as np\n",
    "import matplotlib.pyplot as plt\n",
    "import os\n",
    "from tqdm import tqdm as tqdm\n",
    "tf.keras.backend.set_floatx('float32')\n",
    "from collections import deque\n",
    "from datetime import datetime\n",
    "import random\n",
    "import matplotlib\n",
    "from environment import Environment\n",
    "from plots import just_plot, profiles_kennedy\n",
    "import misc\n",
    "import nets\n",
    "from buffer import ReplayBuffer\n",
    "from datetime import datetime\n",
    "\n",
    "\n",
    "\n",
    "amplitude=0.4\n",
    "lr_critic = 0.01\n",
    "lr_actor = 0.05\n",
    "ep_guess=1\n",
    "dolinar_layers=2\n",
    "number_phases=2\n",
    "buffer_size = 10**6\n",
    "tau = 0.1\n",
    "batch_size=16\n",
    "\n",
    "\n",
    "env = Environment(amplitude=amplitude, dolinar_layers = dolinar_layers, number_phases=number_phases)\n",
    "buffer = ReplayBuffer(buffer_size=buffer_size)\n",
    "critic = nets.Critic(nature=\"primary\", dolinar_layers = dolinar_layers, number_phases=number_phases)\n",
    "critic_target = nets.Critic(nature=\"target\", dolinar_layers = dolinar_layers, number_phases=number_phases, tau = tau)\n",
    "actor = nets.Actor(nature=\"primary\", dolinar_layers = dolinar_layers, batch_size_info=batch_size)\n",
    "actor_target = nets.Actor(nature=\"target\", dolinar_layers = dolinar_layers, tau = tau, batch_size_info=batch_size)\n",
    "\n",
    "optimizer_critic = tf.keras.optimizers.Adam(lr=lr_critic)\n",
    "optimizer_actor = tf.keras.optimizers.Adam(lr=lr_actor)\n",
    "\n",
    "\n",
    "\n",
    "kk = np.load(\"buffers/2L_pt.npy\")\n",
    "for k in kk:\n",
    "    buffer.add(tuple(k))\n",
    "    \n",
    "\n",
    "lrr = []\n",
    "context_outcome_actor = np.reshape(np.array([actor.pad_value]*batch_size),(batch_size,1,1)).astype(np.float32)\n",
    "f=actor(context_outcome_actor)\n",
    "f=actor_target(context_outcome_actor)\n"
   ]
  },
  {
   "cell_type": "code",
   "execution_count": 47,
   "metadata": {},
   "outputs": [
    {
     "name": "stderr",
     "output_type": "stream",
     "text": [
      "100%|██████████| 10000/10000 [04:17<00:00, 38.86it/s]\n"
     ]
    }
   ],
   "source": [
    "for it in tqdm(range(10**4)):\n",
    "    sampled_from_buffer = buffer.sample(batch_size).astype(np.float32)\n",
    "    actor_target.reset_states()\n",
    "    \n",
    "    targeted_experience = actor_target.process_sequence_of_experiences_tf(sampled_from_buffer)\n",
    "    batched_input, zeroed_rews = critic_target.process_sequence_tf(targeted_experience)\n",
    "    labels_critic = critic_target.give_td_errors_tf( batched_input, zeroed_rews)\n",
    "    loss_critic = critic.step_critic_tf(batched_input ,labels_critic, optimizer_critic)\n",
    "\n",
    "    actor.reset_states()\n",
    "    actored_experiences = actor.process_sequence_of_experiences_tf(sampled_from_buffer)\n",
    "    dq_da = tf.clip_by_value(critic.critic_grad_tf(actored_experiences), -10e-5, 10e-5) ### To do, check if this does the correct thing for L>1\n",
    "    actor.actor_grad_tf(dq_da, sampled_from_buffer, optimizer_actor)\n",
    "    lrr.append(loss_critic)"
   ]
  },
  {
   "cell_type": "code",
   "execution_count": 48,
   "metadata": {},
   "outputs": [],
   "source": [
    "inp = np.random.randn(100,3,2)\n",
    "betas = np.linspace(-1,1,100)"
   ]
  },
  {
   "cell_type": "code",
   "execution_count": 49,
   "metadata": {},
   "outputs": [],
   "source": [
    "inp[:,0][:,0] = critic.pad_value\n",
    "inp[:,0][:,1] = betas\n"
   ]
  },
  {
   "cell_type": "code",
   "execution_count": 50,
   "metadata": {},
   "outputs": [
    {
     "name": "stdout",
     "output_type": "stream",
     "text": [
      "WARNING:tensorflow:Layer critic_18 is casting an input tensor from dtype float64 to the layer's dtype of float32, which is new behavior in TensorFlow 2.  The layer has dtype float32 because it's dtype defaults to floatx.\n",
      "\n",
      "If you intended to run this layer in float32, you can safely ignore this warning. If in doubt, this warning is likely only an issue if you are porting a TensorFlow 1.X model to TensorFlow 2.\n",
      "\n",
      "To change all layers to have dtype float64 by default, call `tf.keras.backend.set_floatx('float64')`. To change just this layer, pass dtype='float64' to the layer constructor. If you are the author of this layer, you can disable autocasting by passing autocast=False to the base Layer constructor.\n",
      "\n"
     ]
    }
   ],
   "source": [
    "preds = critic(inp)"
   ]
  },
  {
   "cell_type": "code",
   "execution_count": 51,
   "metadata": {},
   "outputs": [
    {
     "data": {
      "text/plain": [
       "[<matplotlib.lines.Line2D at 0x7fdbd0779710>]"
      ]
     },
     "execution_count": 51,
     "metadata": {},
     "output_type": "execute_result"
    },
    {
     "data": {
      "image/png": "[encoded data removed]",
      "text/plain": [
       "<Figure size 432x288 with 1 Axes>"
      ]
     },
     "metadata": {
      "needs_background": "light"
     },
     "output_type": "display_data"
    }
   ],
   "source": [
    "plt.plot(betas,np.squeeze(preds[:,0]))"
   ]
  },
  {
   "cell_type": "code",
   "execution_count": 52,
   "metadata": {},
   "outputs": [
    {
     "data": {
      "text/plain": [
       "<tf.Tensor: shape=(1, 1), dtype=float32, numpy=array([[0.12261603]], dtype=float32)>"
      ]
     },
     "execution_count": 52,
     "metadata": {},
     "output_type": "execute_result"
    }
   ],
   "source": [
    "actor_target(context_outcome_actor)[0]"
   ]
  },
  {
   "cell_type": "code",
   "execution_count": 14,
   "metadata": {},
   "outputs": [
    {
     "data": {
      "text/plain": [
       "[<matplotlib.lines.Line2D at 0x7fdba9d58710>]"
      ]
     },
     "execution_count": 14,
     "metadata": {},
     "output_type": "execute_result"
    },
    {
     "data": {
      "image/png": "[encoded data removed]",
      "text/plain": [
       "<Figure size 432x288 with 1 Axes>"
      ]
     },
     "metadata": {
      "needs_background": "light"
     },
     "output_type": "display_data"
    }
   ],
   "source": [
    "plt.plot(lrr, linewidth=1)"
   ]
  },
  {
   "cell_type": "code",
   "execution_count": null,
   "metadata": {},
   "outputs": [],
   "source": []
  },
  {
   "cell_type": "code",
   "execution_count": null,
   "metadata": {},
   "outputs": [],
   "source": []
  },
  {
   "cell_type": "code",
   "execution_count": null,
   "metadata": {},
   "outputs": [],
   "source": []
  },
  {
   "cell_type": "code",
   "execution_count": null,
   "metadata": {},
   "outputs": [],
   "source": []
  },
  {
   "cell_type": "code",
   "execution_count": null,
   "metadata": {},
   "outputs": [],
   "source": []
  },
  {
   "cell_type": "code",
   "execution_count": null,
   "metadata": {},
   "outputs": [],
   "source": []
  },
  {
   "cell_type": "code",
   "execution_count": null,
   "metadata": {},
   "outputs": [],
   "source": [
    "inp[:,1][:,0] = n1\n",
    "inp[:,1][:,1] = betas\n",
    "inp[:,2][:,0] = n2\n",
    "inp[:,2][:,1] = g"
   ]
  },
  {
   "cell_type": "code",
   "execution_count": null,
   "metadata": {},
   "outputs": [],
   "source": []
  }
 ],
 "metadata": {
  "kernelspec": {
   "display_name": "Python 3",
   "language": "python",
   "name": "python3"
  },
  "language_info": {
   "codemirror_mode": {
    "name": "ipython",
    "version": 3
   },
   "file_extension": ".py",
   "mimetype": "text/x-python",
   "name": "python",
   "nbconvert_exporter": "python",
   "pygments_lexer": "ipython3",
   "version": "3.6.9"
  }
 },
 "nbformat": 4,
 "nbformat_minor": 4
}
