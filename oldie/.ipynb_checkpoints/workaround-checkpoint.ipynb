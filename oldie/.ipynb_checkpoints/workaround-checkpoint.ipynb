{
 "cells": [
  {
   "cell_type": "code",
   "execution_count": 1,
   "metadata": {},
   "outputs": [],
   "source": [
    "import tensorflow as tf\n",
    "import numpy as np\n",
    "\n",
    "\n",
    "class Actor(tf.keras.Model):\n",
    "    def __init__(self):\n",
    "        super(Actor,self).__init__()\n",
    "        self.lstm = tf.keras.layers.LSTM(5, return_sequences=True, stateful=True,input_shape=(1,1))#, input_shape=(None,None,1))\n",
    "        \n",
    "    def call(self, inputs):\n",
    "        feat= self.lstm(inputs)\n",
    "        return feat\n",
    "\n"
   ]
  },
  {
   "cell_type": "code",
   "execution_count": 2,
   "metadata": {},
   "outputs": [
    {
     "name": "stdout",
     "output_type": "stream",
     "text": [
      "WARNING:tensorflow:Layer actor is casting an input tensor from dtype float64 to the layer's dtype of float32, which is new behavior in TensorFlow 2.  The layer has dtype float32 because it's dtype defaults to floatx.\n",
      "\n",
      "If you intended to run this layer in float32, you can safely ignore this warning. If in doubt, this warning is likely only an issue if you are porting a TensorFlow 1.X model to TensorFlow 2.\n",
      "\n",
      "To change all layers to have dtype float64 by default, call `tf.keras.backend.set_floatx('float64')`. To change just this layer, pass dtype='float64' to the layer constructor. If you are the author of this layer, you can disable autocasting by passing autocast=False to the base Layer constructor.\n",
      "\n"
     ]
    },
    {
     "data": {
      "text/plain": [
       "<tf.Tensor: shape=(10, 1, 5), dtype=float32, numpy=\n",
       "array([[[0., 0., 0., 0., 0.]],\n",
       "\n",
       "       [[0., 0., 0., 0., 0.]],\n",
       "\n",
       "       [[0., 0., 0., 0., 0.]],\n",
       "\n",
       "       [[0., 0., 0., 0., 0.]],\n",
       "\n",
       "       [[0., 0., 0., 0., 0.]],\n",
       "\n",
       "       [[0., 0., 0., 0., 0.]],\n",
       "\n",
       "       [[0., 0., 0., 0., 0.]],\n",
       "\n",
       "       [[0., 0., 0., 0., 0.]],\n",
       "\n",
       "       [[0., 0., 0., 0., 0.]],\n",
       "\n",
       "       [[0., 0., 0., 0., 0.]]], dtype=float32)>"
      ]
     },
     "execution_count": 2,
     "metadata": {},
     "output_type": "execute_result"
    }
   ],
   "source": [
    "actor = Actor()\n",
    "context1 = tf.reshape(np.array([0.]*10),(10,1,1))\n",
    "actor(context1)"
   ]
  },
  {
   "cell_type": "code",
   "execution_count": 8,
   "metadata": {},
   "outputs": [],
   "source": [
    "actor.lstm.input_spec = [tf.keras.layers.InputSpec(shape=(20, None, 1), ndim=3)]"
   ]
  },
  {
   "cell_type": "code",
   "execution_count": 9,
   "metadata": {},
   "outputs": [
    {
     "ename": "ValueError",
     "evalue": "State 0 is incompatible with layer lstm: expected shape=(20, <tf.Variable 'actor/lstm/Variable:0' shape=(10, 5) dtype=float32, numpy=\narray([[1., 1., 1., 1., 1.],\n       [1., 1., 1., 1., 1.],\n       [1., 1., 1., 1., 1.],\n       [1., 1., 1., 1., 1.],\n       [1., 1., 1., 1., 1.],\n       [1., 1., 1., 1., 1.],\n       [1., 1., 1., 1., 1.],\n       [1., 1., 1., 1., 1.],\n       [1., 1., 1., 1., 1.],\n       [1., 1., 1., 1., 1.]], dtype=float32)>), found shape=(20, 5)",
     "output_type": "error",
     "traceback": [
      "\u001b[0;31m---------------------------------------------------------------------------\u001b[0m",
      "\u001b[0;31mValueError\u001b[0m                                Traceback (most recent call last)",
      "\u001b[0;32m<ipython-input-9-817fdd3b321b>\u001b[0m in \u001b[0;36m<module>\u001b[0;34m\u001b[0m\n\u001b[0;32m----> 1\u001b[0;31m \u001b[0mactor\u001b[0m\u001b[0;34m.\u001b[0m\u001b[0mlstm\u001b[0m\u001b[0;34m.\u001b[0m\u001b[0mreset_states\u001b[0m\u001b[0;34m(\u001b[0m\u001b[0;34m[\u001b[0m\u001b[0mtf\u001b[0m\u001b[0;34m.\u001b[0m\u001b[0mones\u001b[0m\u001b[0;34m(\u001b[0m\u001b[0;34m(\u001b[0m\u001b[0;36m20\u001b[0m\u001b[0;34m,\u001b[0m\u001b[0;36m5\u001b[0m\u001b[0;34m)\u001b[0m\u001b[0;34m)\u001b[0m\u001b[0;34m,\u001b[0m \u001b[0mtf\u001b[0m\u001b[0;34m.\u001b[0m\u001b[0mones\u001b[0m\u001b[0;34m(\u001b[0m\u001b[0;34m(\u001b[0m\u001b[0;36m20\u001b[0m\u001b[0;34m,\u001b[0m\u001b[0;36m5\u001b[0m\u001b[0;34m)\u001b[0m\u001b[0;34m)\u001b[0m\u001b[0;34m]\u001b[0m\u001b[0;34m)\u001b[0m\u001b[0;34m\u001b[0m\u001b[0;34m\u001b[0m\u001b[0m\n\u001b[0m",
      "\u001b[0;32m~/.local/lib/python3.6/site-packages/tensorflow/python/keras/layers/recurrent.py\u001b[0m in \u001b[0;36mreset_states\u001b[0;34m(self, states)\u001b[0m\n\u001b[1;32m    939\u001b[0m               \u001b[0;34m'State '\u001b[0m \u001b[0;34m+\u001b[0m \u001b[0mstr\u001b[0m\u001b[0;34m(\u001b[0m\u001b[0mi\u001b[0m\u001b[0;34m)\u001b[0m \u001b[0;34m+\u001b[0m \u001b[0;34m' is incompatible with layer '\u001b[0m \u001b[0;34m+\u001b[0m\u001b[0;34m\u001b[0m\u001b[0;34m\u001b[0m\u001b[0m\n\u001b[1;32m    940\u001b[0m               self.name + ': expected shape=' + str(\n\u001b[0;32m--> 941\u001b[0;31m                   (batch_size, state)) + ', found shape=' + str(value.shape))\n\u001b[0m\u001b[1;32m    942\u001b[0m         \u001b[0mset_value_tuples\u001b[0m\u001b[0;34m.\u001b[0m\u001b[0mappend\u001b[0m\u001b[0;34m(\u001b[0m\u001b[0;34m(\u001b[0m\u001b[0mstate\u001b[0m\u001b[0;34m,\u001b[0m \u001b[0mvalue\u001b[0m\u001b[0;34m)\u001b[0m\u001b[0;34m)\u001b[0m\u001b[0;34m\u001b[0m\u001b[0;34m\u001b[0m\u001b[0m\n\u001b[1;32m    943\u001b[0m       \u001b[0mK\u001b[0m\u001b[0;34m.\u001b[0m\u001b[0mbatch_set_value\u001b[0m\u001b[0;34m(\u001b[0m\u001b[0mset_value_tuples\u001b[0m\u001b[0;34m)\u001b[0m\u001b[0;34m\u001b[0m\u001b[0;34m\u001b[0m\u001b[0m\n",
      "\u001b[0;31mValueError\u001b[0m: State 0 is incompatible with layer lstm: expected shape=(20, <tf.Variable 'actor/lstm/Variable:0' shape=(10, 5) dtype=float32, numpy=\narray([[1., 1., 1., 1., 1.],\n       [1., 1., 1., 1., 1.],\n       [1., 1., 1., 1., 1.],\n       [1., 1., 1., 1., 1.],\n       [1., 1., 1., 1., 1.],\n       [1., 1., 1., 1., 1.],\n       [1., 1., 1., 1., 1.],\n       [1., 1., 1., 1., 1.],\n       [1., 1., 1., 1., 1.],\n       [1., 1., 1., 1., 1.]], dtype=float32)>), found shape=(20, 5)"
     ]
    }
   ],
   "source": [
    "actor.lstm.reset_states([tf.ones((20,5)), tf.ones((20,5))])"
   ]
  },
  {
   "cell_type": "code",
   "execution_count": 13,
   "metadata": {},
   "outputs": [
    {
     "data": {
      "text/plain": [
       "[<tf.Variable 'actor/lstm/Variable:0' shape=(10, 5) dtype=float32, numpy=\n",
       " array([[1., 1., 1., 1., 1.],\n",
       "        [1., 1., 1., 1., 1.],\n",
       "        [1., 1., 1., 1., 1.],\n",
       "        [1., 1., 1., 1., 1.],\n",
       "        [1., 1., 1., 1., 1.],\n",
       "        [1., 1., 1., 1., 1.],\n",
       "        [1., 1., 1., 1., 1.],\n",
       "        [1., 1., 1., 1., 1.],\n",
       "        [1., 1., 1., 1., 1.],\n",
       "        [1., 1., 1., 1., 1.]], dtype=float32)>,\n",
       " <tf.Variable 'actor/lstm/Variable:0' shape=(10, 5) dtype=float32, numpy=\n",
       " array([[1., 1., 1., 1., 1.],\n",
       "        [1., 1., 1., 1., 1.],\n",
       "        [1., 1., 1., 1., 1.],\n",
       "        [1., 1., 1., 1., 1.],\n",
       "        [1., 1., 1., 1., 1.],\n",
       "        [1., 1., 1., 1., 1.],\n",
       "        [1., 1., 1., 1., 1.],\n",
       "        [1., 1., 1., 1., 1.],\n",
       "        [1., 1., 1., 1., 1.],\n",
       "        [1., 1., 1., 1., 1.]], dtype=float32)>]"
      ]
     },
     "execution_count": 13,
     "metadata": {},
     "output_type": "execute_result"
    }
   ],
   "source": [
    "actor.lstm.states"
   ]
  },
  {
   "cell_type": "code",
   "execution_count": 14,
   "metadata": {},
   "outputs": [],
   "source": [
    "actor = Actor()"
   ]
  },
  {
   "cell_type": "code",
   "execution_count": 15,
   "metadata": {},
   "outputs": [
    {
     "data": {
      "text/plain": [
       "[None, None]"
      ]
     },
     "execution_count": 15,
     "metadata": {},
     "output_type": "execute_result"
    }
   ],
   "source": [
    "actor.lstm.states"
   ]
  },
  {
   "cell_type": "code",
   "execution_count": 16,
   "metadata": {},
   "outputs": [
    {
     "data": {
      "text/plain": [
       "[InputSpec(ndim=3)]"
      ]
     },
     "execution_count": 16,
     "metadata": {},
     "output_type": "execute_result"
    }
   ],
   "source": [
    "actor.lstm.input_spec"
   ]
  },
  {
   "cell_type": "code",
   "execution_count": 18,
   "metadata": {},
   "outputs": [
    {
     "data": {
      "text/plain": [
       "True"
      ]
     },
     "execution_count": 18,
     "metadata": {},
     "output_type": "execute_result"
    }
   ],
   "source": [
    "actor.lstm.stateful"
   ]
  },
  {
   "cell_type": "code",
   "execution_count": 20,
   "metadata": {},
   "outputs": [],
   "source": []
  },
  {
   "cell_type": "code",
   "execution_count": 38,
   "metadata": {},
   "outputs": [
    {
     "data": {
      "text/plain": [
       "<tf.Tensor: shape=(10, 1, 5), dtype=float32, numpy=\n",
       "array([[[ 3.2651640e-02,  1.9661312e-04,  2.7104491e-02, -6.1883725e-02,\n",
       "         -6.2910609e-02]],\n",
       "\n",
       "       [[ 2.1093087e-02,  1.1662899e-04,  1.7458558e-02, -4.2562421e-02,\n",
       "         -4.3213338e-02]],\n",
       "\n",
       "       [[ 1.2611021e-02,  6.5578432e-05,  1.0420575e-02, -2.6453516e-02,\n",
       "         -2.6859863e-02]],\n",
       "\n",
       "       [[ 4.7846124e-02,  3.2356600e-04,  3.9920077e-02, -8.1996761e-02,\n",
       "         -8.3752029e-02]],\n",
       "\n",
       "       [[ 4.5526605e-02,  3.0236636e-04,  3.7951563e-02, -7.9341203e-02,\n",
       "         -8.0960602e-02]],\n",
       "\n",
       "       [[ 1.5011438e-02,  7.9421603e-05,  1.2409455e-02, -3.1163596e-02,\n",
       "         -3.1639338e-02]],\n",
       "\n",
       "       [[ 2.4854733e-02,  1.4126317e-04,  2.0589873e-02, -4.9202740e-02,\n",
       "         -4.9966544e-02]],\n",
       "\n",
       "       [[ 2.8048186e-02,  1.6320977e-04,  2.3253912e-02, -5.4578271e-02,\n",
       "         -5.5443905e-02]],\n",
       "\n",
       "       [[ 2.0252764e-02,  1.1129928e-04,  1.6759967e-02, -4.1035052e-02,\n",
       "         -4.1661453e-02]],\n",
       "\n",
       "       [[ 3.5154946e-02,  2.1569952e-04,  2.9204009e-02, -6.5628268e-02,\n",
       "         -6.6752061e-02]]], dtype=float32)>"
      ]
     },
     "execution_count": 38,
     "metadata": {},
     "output_type": "execute_result"
    }
   ],
   "source": []
  },
  {
   "cell_type": "code",
   "execution_count": 23,
   "metadata": {},
   "outputs": [
    {
     "data": {
      "text/plain": [
       "[None, None]"
      ]
     },
     "execution_count": 23,
     "metadata": {},
     "output_type": "execute_result"
    }
   ],
   "source": [
    "actor.lstm.states"
   ]
  },
  {
   "cell_type": "code",
   "execution_count": 24,
   "metadata": {},
   "outputs": [
    {
     "data": {
      "text/plain": [
       "[InputSpec(shape=(None, None, 1), ndim=3)]"
      ]
     },
     "execution_count": 24,
     "metadata": {},
     "output_type": "execute_result"
    }
   ],
   "source": [
    "actor.lstm.input_spec"
   ]
  },
  {
   "cell_type": "code",
   "execution_count": 25,
   "metadata": {},
   "outputs": [
    {
     "data": {
      "text/plain": [
       "False"
      ]
     },
     "execution_count": 25,
     "metadata": {},
     "output_type": "execute_result"
    }
   ],
   "source": [
    "actor.stateful"
   ]
  },
  {
   "cell_type": "code",
   "execution_count": 62,
   "metadata": {},
   "outputs": [
    {
     "name": "stdout",
     "output_type": "stream",
     "text": [
      "[InputSpec(ndim=3)]\n",
      "[InputSpec(shape=(None, None, 1), ndim=3)]\n",
      "[InputSpec(shape=(None, None, 1), ndim=3)]\n",
      "\n"
     ]
    }
   ],
   "source": [
    "actor = Actor()\n",
    "actor.lstm.stateful = False\n",
    "print(actor.lstm.input_spec)\n",
    "actor(tf.random.uniform((10,1,1)))\n",
    "print(actor.lstm.input_spec)\n",
    "actor.lstm.stateful=True\n",
    "actor.lstm.states = [tf.Variable(tf.random.uniform((10,5))), tf.Variable(tf.random.uniform((10,5)))]\n",
    "actor(tf.random.uniform((10,1,1)))\n",
    "print(actor.lstm.input_spec)\n",
    "print()"
   ]
  },
  {
   "cell_type": "code",
   "execution_count": 59,
   "metadata": {},
   "outputs": [
    {
     "data": {
      "text/plain": [
       "[InputSpec(shape=(None, None, 1), ndim=3)]"
      ]
     },
     "execution_count": 59,
     "metadata": {},
     "output_type": "execute_result"
    }
   ],
   "source": [
    "actor.lstm.input_spec"
   ]
  },
  {
   "cell_type": "code",
   "execution_count": 57,
   "metadata": {},
   "outputs": [
    {
     "data": {
      "text/plain": [
       "<tf.Tensor: shape=(10, 1, 5), dtype=float32, numpy=\n",
       "array([[[ 0.274139  ,  0.10037819,  0.17864981,  0.2017635 ,\n",
       "          0.33908427]],\n",
       "\n",
       "       [[ 0.0614225 ,  0.21164642,  0.33394152,  0.23507446,\n",
       "          0.21814556]],\n",
       "\n",
       "       [[ 0.17829707,  0.33091104,  0.08579098,  0.1278559 ,\n",
       "          0.14295629]],\n",
       "\n",
       "       [[ 0.0213155 ,  0.12526159,  0.05643085,  0.06136665,\n",
       "         -0.02110478]],\n",
       "\n",
       "       [[ 0.30722713,  0.41201   ,  0.20082982,  0.076897  ,\n",
       "          0.05401817]],\n",
       "\n",
       "       [[ 0.18404344,  0.10094909,  0.07357052,  0.16026618,\n",
       "          0.0636913 ]],\n",
       "\n",
       "       [[ 0.2509169 ,  0.4224066 ,  0.21323301,  0.20263907,\n",
       "          0.41113558]],\n",
       "\n",
       "       [[ 0.32174227,  0.15498453,  0.26735324,  0.13161449,\n",
       "          0.00643714]],\n",
       "\n",
       "       [[ 0.33674446,  0.40759608,  0.3126119 ,  0.02444635,\n",
       "          0.29835513]],\n",
       "\n",
       "       [[ 0.36724252,  0.3576377 ,  0.29000565,  0.2152917 ,\n",
       "          0.2354207 ]]], dtype=float32)>"
      ]
     },
     "execution_count": 57,
     "metadata": {},
     "output_type": "execute_result"
    }
   ],
   "source": [
    "actor(tf.random.uniform((10,1,1)))"
   ]
  },
  {
   "cell_type": "markdown",
   "metadata": {},
   "source": [
    "********"
   ]
  },
  {
   "cell_type": "code",
   "execution_count": 45,
   "metadata": {},
   "outputs": [],
   "source": [
    "actor = Actor()"
   ]
  },
  {
   "cell_type": "code",
   "execution_count": 50,
   "metadata": {},
   "outputs": [
    {
     "data": {
      "text/plain": [
       "[<tf.Variable 'actor_5/lstm_5/Variable:0' shape=(10, 5) dtype=float32, numpy=\n",
       " array([[-0.03847177,  0.05105044,  0.07680968, -0.01591952, -0.05609802],\n",
       "        [-0.07101268,  0.08621005,  0.1312578 , -0.02518127, -0.08302381],\n",
       "        [-0.0564169 ,  0.06406359,  0.09332575, -0.01839911, -0.04880505],\n",
       "        [-0.06605611,  0.08094727,  0.1223553 , -0.0236794 , -0.07553861],\n",
       "        [-0.03876919,  0.0534662 ,  0.09307586, -0.02045798, -0.08258313],\n",
       "        [-0.0668871 ,  0.08598254,  0.13650098, -0.02642225, -0.09769458],\n",
       "        [-0.01242132,  0.01577308,  0.02125362, -0.00451862, -0.01525556],\n",
       "        [-0.050599  ,  0.06288491,  0.09373025, -0.01879376, -0.06393395],\n",
       "        [-0.07699437,  0.094807  ,  0.15016547, -0.02867346, -0.1013306 ],\n",
       "        [-0.03769377,  0.05502889,  0.09232742, -0.01954514, -0.08386381]],\n",
       "       dtype=float32)>,\n",
       " <tf.Variable 'actor_5/lstm_5/Variable:0' shape=(10, 5) dtype=float32, numpy=\n",
       " array([[-0.07459158,  0.09777052,  0.1506848 , -0.03377314, -0.12260014],\n",
       "        [-0.1348362 ,  0.16157708,  0.25699002, -0.05502122, -0.19179615],\n",
       "        [-0.1081574 ,  0.12015228,  0.1800969 , -0.04132804, -0.1136279 ],\n",
       "        [-0.12568156,  0.1511013 ,  0.23784558, -0.05277889, -0.17732617],\n",
       "        [-0.0751275 ,  0.10459325,  0.18752249, -0.04007594, -0.16782744],\n",
       "        [-0.12722653,  0.16185871,  0.26959115, -0.05656122, -0.22214684],\n",
       "        [-0.02459936,  0.03115427,  0.04220031, -0.00917707, -0.03120783],\n",
       "        [-0.09743592,  0.12036221,  0.18450725, -0.03946372, -0.13925481],\n",
       "        [-0.14561868,  0.17758577,  0.29678094, -0.061817  , -0.23350629],\n",
       "        [-0.07307835,  0.10713126,  0.18514381, -0.03888172, -0.17330359]],\n",
       "       dtype=float32)>]"
      ]
     },
     "execution_count": 50,
     "metadata": {},
     "output_type": "execute_result"
    }
   ],
   "source": [
    "actor(tf.random.uniform((10,1,1)))\n",
    "actor.lstm.states"
   ]
  },
  {
   "cell_type": "code",
   "execution_count": 52,
   "metadata": {},
   "outputs": [
    {
     "data": {
      "text/plain": [
       "<tf.Variable 'Variable:0' shape=(10, 5) dtype=float32, numpy=\n",
       "array([[0.3106736 , 0.49282086, 0.45938706, 0.3844645 , 0.22477615],\n",
       "       [0.6836904 , 0.01915252, 0.41840446, 0.23743403, 0.72794855],\n",
       "       [0.46368718, 0.22622442, 0.54936576, 0.79906833, 0.4045428 ],\n",
       "       [0.27204227, 0.6938752 , 0.3892777 , 0.06719625, 0.9303194 ],\n",
       "       [0.47069466, 0.52855814, 0.38008046, 0.7219391 , 0.76047623],\n",
       "       [0.58323705, 0.1613462 , 0.42801964, 0.92792225, 0.628163  ],\n",
       "       [0.04442453, 0.7439388 , 0.6954901 , 0.3775537 , 0.5377468 ],\n",
       "       [0.1571765 , 0.156044  , 0.10376656, 0.02619612, 0.19638908],\n",
       "       [0.8142992 , 0.1240288 , 0.21047759, 0.5006881 , 0.47018564],\n",
       "       [0.83062756, 0.27095878, 0.28612995, 0.8239112 , 0.31420887]],\n",
       "      dtype=float32)>"
      ]
     },
     "execution_count": 52,
     "metadata": {},
     "output_type": "execute_result"
    }
   ],
   "source": []
  },
  {
   "cell_type": "code",
   "execution_count": null,
   "metadata": {},
   "outputs": [],
   "source": []
  }
 ],
 "metadata": {
  "kernelspec": {
   "display_name": "Python 3",
   "language": "python",
   "name": "python3"
  },
  "language_info": {
   "codemirror_mode": {
    "name": "ipython",
    "version": 3
   },
   "file_extension": ".py",
   "mimetype": "text/x-python",
   "name": "python",
   "nbconvert_exporter": "python",
   "pygments_lexer": "ipython3",
   "version": "3.6.9"
  }
 },
 "nbformat": 4,
 "nbformat_minor": 4
}
