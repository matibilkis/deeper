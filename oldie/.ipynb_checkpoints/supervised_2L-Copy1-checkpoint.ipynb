{
 "cells": [
  {
   "cell_type": "code",
   "execution_count": 21,
   "metadata": {},
   "outputs": [],
   "source": [
    "from nets import *\n",
    "import tensorflow as tf \n",
    "import misc\n",
    "from buffer import ReplayBuffer\n",
    "from tqdm import tqdm\n",
    "import matplotlib\n",
    "import matplotlib.pyplot as plt\n",
    "import numpy as np\n",
    "from misc import Prob, ps_maxlik, qval"
   ]
  },
  {
   "cell_type": "code",
   "execution_count": 25,
   "metadata": {},
   "outputs": [
    {
     "name": "stderr",
     "output_type": "stream",
     "text": [
      "100%|██████████| 100000/100000 [00:00<00:00, 488094.00it/s]\n"
     ]
    }
   ],
   "source": [
    "critic = Critic(nature=\"primary\", dolinar_layers = 2)\n",
    "critic_target = Critic(nature=\"target\", dolinar_layers = 2, tau=0.01)\n",
    "optimizer_critic = tf.keras.optimizers.Adam(lr=0.01)\n",
    "experiences = np.load(\"buffers/2L_probs-0-2.npy\")\n",
    "buffer = ReplayBuffer(buffer_size=10**7)\n",
    "for k in tqdm(experiences):\n",
    "    buffer.add(tuple(k))"
   ]
  },
  {
   "cell_type": "code",
   "execution_count": 26,
   "metadata": {},
   "outputs": [],
   "source": [
    "total_episodes = 10**4\n",
    "evolution_loss=[]\n",
    "history_predictions={\"final_episode_info\":total_episodes}\n",
    "bbbs = np.arange(0,2.05,.05)\n",
    "inps = np.stack([np.ones(len(bbbs))*critic.pad_value, bbbs], axis=1)\n",
    "inps = np.reshape(inps, (len(bbbs),1,2))\n"
   ]
  },
  {
   "cell_type": "code",
   "execution_count": 36,
   "metadata": {},
   "outputs": [
    {
     "data": {
      "text/plain": [
       "array([[0, 0],\n",
       "       [0, 1],\n",
       "       [1, 0],\n",
       "       [1, 1]])"
      ]
     },
     "execution_count": 36,
     "metadata": {},
     "output_type": "execute_result"
    }
   ],
   "source": [
    "misc.outcomes_universe(2)"
   ]
  },
  {
   "cell_type": "code",
   "execution_count": 27,
   "metadata": {},
   "outputs": [
    {
     "name": "stderr",
     "output_type": "stream",
     "text": [
      "100%|██████████| 10000/10000 [02:22<00:00, 69.97it/s]\n"
     ]
    }
   ],
   "source": [
    "for iteration in tqdm(range(total_episodes)):\n",
    "\n",
    "    sampled_dataset = buffer.sample(16).astype(np.float32)\n",
    "    batched_sampled_dataset, rews_per_layer = critic.process_sequence_tf(sampled_dataset)\n",
    "    td_errors = critic_target.give_td_errors_tf(batched_sampled_dataset, rews_per_layer)\n",
    "    loss = critic.step_critic_tf(batched_sampled_dataset, td_errors, optimizer_critic)\n",
    "    evolution_loss.append(loss.numpy())\n",
    "    critic_target.update_target_parameters(critic)\n",
    "#     if iteration%(int(total_episodes/5)) == 0:\n",
    "#         history_predictions[str(iteration)] = {\"[]\":[], \"00\":[],\"01\":[],\"11\":[],\"10\":[]}\n",
    "#         history_predictions[str(iteration)][\"[]\"] = np.squeeze(critic(inps))\n",
    "#         for outcome in [0.,1.]:\n",
    "#            for guess_index in [0.,1.]:\n",
    "#                 m=[]\n",
    "#                 for k in tf.unstack(inps):\n",
    "#                     m.append(tf.concat([k, np.reshape(np.array([outcome,guess_index]), (1,2))], axis=0))\n",
    "#                 history_predictions[str(iteration)][str(outcome)+str(guess_index)] = np.squeeze(critic(tf.stack(m, axis=0)))[:,1]"
   ]
  },
  {
   "cell_type": "code",
   "execution_count": 30,
   "metadata": {},
   "outputs": [
    {
     "data": {
      "text/plain": [
       "[<matplotlib.lines.Line2D at 0x7fb39d48acf8>]"
      ]
     },
     "execution_count": 30,
     "metadata": {},
     "output_type": "execute_result"
    },
    {
     "data": {
      "image/png": "[encoded data removed]",
      "text/plain": [
       "<Figure size 432x288 with 1 Axes>"
      ]
     },
     "metadata": {
      "needs_background": "light"
     },
     "output_type": "display_data"
    }
   ],
   "source": [
    "betas = np.arange(0,2.05,.05)\n",
    "inps = np.stack([np.ones(len(betas))*critic.pad_value, betas], axis=1)\n",
    "inps = np.reshape(inps, (len(betas),1,2))\n",
    "plt.plot(betas, np.squeeze(critic(inps)), '--', color=\"black\", linewidth=10,label=\"RNN\")\n"
   ]
  },
  {
   "cell_type": "code",
   "execution_count": 34,
   "metadata": {},
   "outputs": [
    {
     "data": {
      "text/plain": [
       "array([0.25799364, 0.25799322, 0.25799286, 0.25799257, 0.2579922 ,\n",
       "       0.2579919 , 0.25799167, 0.25799143, 0.2579912 , 0.25799102,\n",
       "       0.2579908 , 0.25799063, 0.25799048, 0.25799033, 0.25799018,\n",
       "       0.25799003, 0.25798994, 0.25798988, 0.25798976, 0.25798965,\n",
       "       0.2579896 , 0.2579895 , 0.2579894 , 0.2579894 , 0.25798932,\n",
       "       0.2579893 , 0.25798926, 0.25798917, 0.25798917, 0.2579891 ,\n",
       "       0.2579891 , 0.25798908, 0.25798905, 0.25798902, 0.257989  ,\n",
       "       0.257989  , 0.257989  , 0.257989  , 0.257989  , 0.257989  ,\n",
       "       0.25798893], dtype=float32)"
      ]
     },
     "execution_count": 34,
     "metadata": {},
     "output_type": "execute_result"
    }
   ],
   "source": [
    "np.squeeze(critic(inps))"
   ]
  },
  {
   "cell_type": "code",
   "execution_count": null,
   "metadata": {},
   "outputs": [],
   "source": []
  },
  {
   "cell_type": "code",
   "execution_count": null,
   "metadata": {},
   "outputs": [],
   "source": [
    "def profiles_kennedy(critic, history_predictions):\n",
    "    matplotlib.rc('font', serif='cm10')\n",
    "    plt.rcParams.update({'font.size': 100})\n",
    "    plt.figure(figsize=(150,150), dpi=50)\n",
    "\n",
    "\n",
    "    ax1 = plt.subplot2grid((2,2),(0,0))\n",
    "    ax2 = plt.subplot2grid((2,2),(0,1))\n",
    "    ax3 = plt.subplot2grid((2,2),(1,0), colspan=2)\n",
    "    #betas = np.arange(.1,1.1,.05)\n",
    "    betas = np.arange(0,2.05,.05)\n",
    "    if history_predictions!=False:\n",
    "        axs = {\"0\":ax1, \"1\":ax2}\n",
    "        for ind, epi in enumerate(history_predictions.keys()):\n",
    "            if epi != \"final_episode_info\":\n",
    "\n",
    "                transp_epi = float(epi)/history_predictions[\"final_episode_info\"]\n",
    "                ax3.plot(betas,history_predictions[epi][\"[]\"] , alpha=transp_epi, linewidth=3,label=str(epi))\n",
    "                for outcome in [0.,1.]:\n",
    "                   for guess_index in [0.,1.]:\n",
    "                       axs[str(int(outcome))].plot(betas, history_predictions[epi][str(outcome)+str(guess_index)] , alpha=transp_epi, linewidth=3,label=str(epi))#+\"-g:\"+str((-1)**guess_index))\n",
    "\n",
    "\n",
    "\n",
    "    inps = np.stack([np.ones(len(betas))*critic.pad_value, betas], axis=1)\n",
    "    inps = np.reshape(inps, (len(betas),1,2))\n",
    "    ax3.plot(betas, np.squeeze(critic(inps)), '--', color=\"black\", linewidth=10,label=\"RNN\")\n",
    "\n",
    "    axes = {\"0.0\":ax1, \"1.0\":ax2}\n",
    "    for outcome in [0.,1.]:\n",
    "       for guess_index in [0.,1.]:\n",
    "            m=[]\n",
    "            for k in tf.unstack(inps):\n",
    "                m.append(tf.concat([k, np.reshape(np.array([outcome,guess_index]), (1,2))], axis=0))\n",
    "            axes[str(outcome)].plot(betas, np.squeeze(critic(tf.stack(m, axis=0)))[:,1], '--', color=\"black\", linewidth=10,label=\"RNN\")\n",
    "\n",
    "\n",
    "    ax1.plot(betas,[qval(b, 0, -1) for b in betas],c=\"red\", linewidth=10, label=\"Q(n1=0,\"+r'$\\beta$'+\"; g=-1)\")\n",
    "    ax1.plot(betas,[qval(b, 0, 1) for b in betas],c=\"blue\",  linewidth=10,label=\"Q(n1=0,\"+r'$\\beta$'+\"; g=1)\")\n",
    "\n",
    "    ax2.plot(betas,[qval(b, 1, -1) for b in betas],c=\"red\", linewidth=10, label=\"Q(n1=0,\"+r'$\\beta$'+\"; g=-1)\")\n",
    "    ax2.plot(betas,[qval(b, 1, 1) for b in betas],c=\"blue\",  linewidth=10,label=\"Q(n1=0,\"+r'$\\beta$'+\"; g=1)\")\n",
    "\n",
    "    ax3.plot(betas,ps_maxlik(betas), linewidth=7, color=\"red\", label=\"P*\")\n",
    "\n",
    "    for ax in [ax1, ax2, ax3]:\n",
    "        ax.set_xlabel(r'$\\beta$', size=20)\n",
    "        ax.legend(prop={\"size\":15})\n",
    "\n"
   ]
  }
 ],
 "metadata": {
  "kernelspec": {
   "display_name": "Python 3",
   "language": "python",
   "name": "python3"
  },
  "language_info": {
   "codemirror_mode": {
    "name": "ipython",
    "version": 3
   },
   "file_extension": ".py",
   "mimetype": "text/x-python",
   "name": "python",
   "nbconvert_exporter": "python",
   "pygments_lexer": "ipython3",
   "version": "3.6.9"
  }
 },
 "nbformat": 4,
 "nbformat_minor": 4
}
