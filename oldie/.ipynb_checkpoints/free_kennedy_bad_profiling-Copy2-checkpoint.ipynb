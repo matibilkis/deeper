{
 "cells": [
  {
   "cell_type": "code",
   "execution_count": 2,
   "metadata": {},
   "outputs": [],
   "source": [
    "from nets import *\n",
    "import tensorflow as tf\n",
    "from tensorflow.keras.layers import Dense\n",
    "import misc\n",
    "from buffer import ReplayBuffer\n",
    "from tqdm import tqdm\n",
    "import matplotlib\n",
    "import matplotlib.pyplot as plt\n",
    "import numpy as np\n",
    "from misc import Prob, ps_maxlik, qval\n",
    "from environment import Environment\n"
   ]
  },
  {
   "cell_type": "code",
   "execution_count": 3,
   "metadata": {},
   "outputs": [],
   "source": [
    "critic = Critic(nature=\"primary\", dolinar_layers = 1)\n",
    "critic_target = Critic(nature=\"target\", dolinar_layers = 1, tau=0.1)\n",
    "\n",
    "actor =  Actor(nature=\"primary\", dolinar_layers= 1)\n",
    "actor_target =  Actor(nature=\"target\", dolinar_layers= 1)\n",
    "\n",
    "buffer = ReplayBuffer(buffer_size=10**7)\n",
    "optimizer_critic = tf.keras.optimizers.Adam(lr=0.01)\n",
    "optimizer_actor = tf.keras.optimizers.Adam(lr=0.01)\n",
    "\n",
    "amplitude=0.4\n",
    "noise_displacement = 1\n",
    "ep_guess=0.3\n",
    "dolinar_layers=1\n",
    "number_phases=2\n",
    "batch_size=8\n",
    "policy_evaluator = misc.PolicyEvaluator(amplitude = amplitude, dolinar_layers=dolinar_layers, number_phases = number_phases)\n",
    "env = Environment(amplitude=amplitude, dolinar_layers = dolinar_layers, number_phases=number_phases)\n"
   ]
  },
  {
   "cell_type": "code",
   "execution_count": 4,
   "metadata": {},
   "outputs": [],
   "source": [
    "ff = np.load(\"buffers/1L_prob.npy\")\n",
    "for k in ff:\n",
    "    buffer.add(tuple(k))"
   ]
  },
  {
   "cell_type": "code",
   "execution_count": 5,
   "metadata": {},
   "outputs": [],
   "source": [
    "context_outcome_actor = np.reshape(np.array([actor.pad_value]),(1,1,1)).astype(np.float32)\n",
    "actor(context_outcome_actor)\n",
    "actor.lstm.reset_states()"
   ]
  },
  {
   "cell_type": "code",
   "execution_count": 7,
   "metadata": {},
   "outputs": [
    {
     "ename": "FailedPreconditionError",
     "evalue": " [_Derived_]  Error while reading resource variable _AnonymousVar7 from Container: localhost. This could mean that the variable was uninitialized. Not found: Resource localhost/_AnonymousVar7/N10tensorflow3VarE does not exist.\n\t [[{{node ReadVariableOp}}]]\n\t [[actor/lstm_2/StatefulPartitionedCall]] [Op:__inference_process_sequence_of_experiences_tf_666]\n\nFunction call stack:\nprocess_sequence_of_experiences_tf -> process_sequence_of_experiences_tf -> process_sequence_of_experiences_tf\n",
     "output_type": "error",
     "traceback": [
      "\u001b[0;31m---------------------------------------------------------------------------\u001b[0m",
      "\u001b[0;31mFailedPreconditionError\u001b[0m                   Traceback (most recent call last)",
      "\u001b[0;32m<ipython-input-7-6e27e7b54522>\u001b[0m in \u001b[0;36m<module>\u001b[0;34m\u001b[0m\n\u001b[1;32m      2\u001b[0m \u001b[0mactor\u001b[0m\u001b[0;34m.\u001b[0m\u001b[0mreset_states_workaround\u001b[0m\u001b[0;34m(\u001b[0m\u001b[0mnew_batch_size\u001b[0m\u001b[0;34m=\u001b[0m\u001b[0mint\u001b[0m\u001b[0;34m(\u001b[0m\u001b[0mbatch_size\u001b[0m\u001b[0;34m)\u001b[0m\u001b[0;34m)\u001b[0m\u001b[0;34m\u001b[0m\u001b[0;34m\u001b[0m\u001b[0m\n\u001b[1;32m      3\u001b[0m \u001b[0mactor\u001b[0m\u001b[0;34m.\u001b[0m\u001b[0mreset_states\u001b[0m\u001b[0;34m(\u001b[0m\u001b[0;34m)\u001b[0m\u001b[0;34m\u001b[0m\u001b[0;34m\u001b[0m\u001b[0m\n\u001b[0;32m----> 4\u001b[0;31m \u001b[0mactored_experiences\u001b[0m \u001b[0;34m=\u001b[0m \u001b[0mactor\u001b[0m\u001b[0;34m.\u001b[0m\u001b[0mprocess_sequence_of_experiences_tf\u001b[0m\u001b[0;34m(\u001b[0m\u001b[0msampled_from_buffer\u001b[0m\u001b[0;34m)\u001b[0m\u001b[0;34m\u001b[0m\u001b[0;34m\u001b[0m\u001b[0m\n\u001b[0m\u001b[1;32m      5\u001b[0m \u001b[0mactor\u001b[0m\u001b[0;34m.\u001b[0m\u001b[0mreset_states_workaround\u001b[0m\u001b[0;34m(\u001b[0m\u001b[0mnew_batch_size\u001b[0m\u001b[0;34m=\u001b[0m\u001b[0mint\u001b[0m\u001b[0;34m(\u001b[0m\u001b[0mbatch_size\u001b[0m\u001b[0;34m)\u001b[0m\u001b[0;34m)\u001b[0m\u001b[0;34m\u001b[0m\u001b[0;34m\u001b[0m\u001b[0m\n\u001b[1;32m      6\u001b[0m \u001b[0mactor\u001b[0m\u001b[0;34m.\u001b[0m\u001b[0mreset_states\u001b[0m\u001b[0;34m(\u001b[0m\u001b[0;34m)\u001b[0m\u001b[0;34m\u001b[0m\u001b[0;34m\u001b[0m\u001b[0m\n",
      "\u001b[0;32m~/.local/lib/python3.6/site-packages/tensorflow/python/eager/def_function.py\u001b[0m in \u001b[0;36m__call__\u001b[0;34m(self, *args, **kwds)\u001b[0m\n\u001b[1;32m    578\u001b[0m         \u001b[0mxla_context\u001b[0m\u001b[0;34m.\u001b[0m\u001b[0mExit\u001b[0m\u001b[0;34m(\u001b[0m\u001b[0;34m)\u001b[0m\u001b[0;34m\u001b[0m\u001b[0;34m\u001b[0m\u001b[0m\n\u001b[1;32m    579\u001b[0m     \u001b[0;32melse\u001b[0m\u001b[0;34m:\u001b[0m\u001b[0;34m\u001b[0m\u001b[0;34m\u001b[0m\u001b[0m\n\u001b[0;32m--> 580\u001b[0;31m       \u001b[0mresult\u001b[0m \u001b[0;34m=\u001b[0m \u001b[0mself\u001b[0m\u001b[0;34m.\u001b[0m\u001b[0m_call\u001b[0m\u001b[0;34m(\u001b[0m\u001b[0;34m*\u001b[0m\u001b[0margs\u001b[0m\u001b[0;34m,\u001b[0m \u001b[0;34m**\u001b[0m\u001b[0mkwds\u001b[0m\u001b[0;34m)\u001b[0m\u001b[0;34m\u001b[0m\u001b[0;34m\u001b[0m\u001b[0m\n\u001b[0m\u001b[1;32m    581\u001b[0m \u001b[0;34m\u001b[0m\u001b[0m\n\u001b[1;32m    582\u001b[0m     \u001b[0;32mif\u001b[0m \u001b[0mtracing_count\u001b[0m \u001b[0;34m==\u001b[0m \u001b[0mself\u001b[0m\u001b[0;34m.\u001b[0m\u001b[0m_get_tracing_count\u001b[0m\u001b[0;34m(\u001b[0m\u001b[0;34m)\u001b[0m\u001b[0;34m:\u001b[0m\u001b[0;34m\u001b[0m\u001b[0;34m\u001b[0m\u001b[0m\n",
      "\u001b[0;32m~/.local/lib/python3.6/site-packages/tensorflow/python/eager/def_function.py\u001b[0m in \u001b[0;36m_call\u001b[0;34m(self, *args, **kwds)\u001b[0m\n\u001b[1;32m    616\u001b[0m       \u001b[0;31m# In this case we have not created variables on the first call. So we can\u001b[0m\u001b[0;34m\u001b[0m\u001b[0;34m\u001b[0m\u001b[0;34m\u001b[0m\u001b[0m\n\u001b[1;32m    617\u001b[0m       \u001b[0;31m# run the first trace but we should fail if variables are created.\u001b[0m\u001b[0;34m\u001b[0m\u001b[0;34m\u001b[0m\u001b[0;34m\u001b[0m\u001b[0m\n\u001b[0;32m--> 618\u001b[0;31m       \u001b[0mresults\u001b[0m \u001b[0;34m=\u001b[0m \u001b[0mself\u001b[0m\u001b[0;34m.\u001b[0m\u001b[0m_stateful_fn\u001b[0m\u001b[0;34m(\u001b[0m\u001b[0;34m*\u001b[0m\u001b[0margs\u001b[0m\u001b[0;34m,\u001b[0m \u001b[0;34m**\u001b[0m\u001b[0mkwds\u001b[0m\u001b[0;34m)\u001b[0m\u001b[0;34m\u001b[0m\u001b[0;34m\u001b[0m\u001b[0m\n\u001b[0m\u001b[1;32m    619\u001b[0m       \u001b[0;32mif\u001b[0m \u001b[0mself\u001b[0m\u001b[0;34m.\u001b[0m\u001b[0m_created_variables\u001b[0m\u001b[0;34m:\u001b[0m\u001b[0;34m\u001b[0m\u001b[0;34m\u001b[0m\u001b[0m\n\u001b[1;32m    620\u001b[0m         raise ValueError(\"Creating variables on a non-first call to a function\"\n",
      "\u001b[0;32m~/.local/lib/python3.6/site-packages/tensorflow/python/eager/function.py\u001b[0m in \u001b[0;36m__call__\u001b[0;34m(self, *args, **kwargs)\u001b[0m\n\u001b[1;32m   2418\u001b[0m     \u001b[0;32mwith\u001b[0m \u001b[0mself\u001b[0m\u001b[0;34m.\u001b[0m\u001b[0m_lock\u001b[0m\u001b[0;34m:\u001b[0m\u001b[0;34m\u001b[0m\u001b[0;34m\u001b[0m\u001b[0m\n\u001b[1;32m   2419\u001b[0m       \u001b[0mgraph_function\u001b[0m\u001b[0;34m,\u001b[0m \u001b[0margs\u001b[0m\u001b[0;34m,\u001b[0m \u001b[0mkwargs\u001b[0m \u001b[0;34m=\u001b[0m \u001b[0mself\u001b[0m\u001b[0;34m.\u001b[0m\u001b[0m_maybe_define_function\u001b[0m\u001b[0;34m(\u001b[0m\u001b[0margs\u001b[0m\u001b[0;34m,\u001b[0m \u001b[0mkwargs\u001b[0m\u001b[0;34m)\u001b[0m\u001b[0;34m\u001b[0m\u001b[0;34m\u001b[0m\u001b[0m\n\u001b[0;32m-> 2420\u001b[0;31m     \u001b[0;32mreturn\u001b[0m \u001b[0mgraph_function\u001b[0m\u001b[0;34m.\u001b[0m\u001b[0m_filtered_call\u001b[0m\u001b[0;34m(\u001b[0m\u001b[0margs\u001b[0m\u001b[0;34m,\u001b[0m \u001b[0mkwargs\u001b[0m\u001b[0;34m)\u001b[0m  \u001b[0;31m# pylint: disable=protected-access\u001b[0m\u001b[0;34m\u001b[0m\u001b[0;34m\u001b[0m\u001b[0m\n\u001b[0m\u001b[1;32m   2421\u001b[0m \u001b[0;34m\u001b[0m\u001b[0m\n\u001b[1;32m   2422\u001b[0m   \u001b[0;34m@\u001b[0m\u001b[0mproperty\u001b[0m\u001b[0;34m\u001b[0m\u001b[0;34m\u001b[0m\u001b[0m\n",
      "\u001b[0;32m~/.local/lib/python3.6/site-packages/tensorflow/python/eager/function.py\u001b[0m in \u001b[0;36m_filtered_call\u001b[0;34m(self, args, kwargs)\u001b[0m\n\u001b[1;32m   1663\u001b[0m          if isinstance(t, (ops.Tensor,\n\u001b[1;32m   1664\u001b[0m                            resource_variable_ops.BaseResourceVariable))),\n\u001b[0;32m-> 1665\u001b[0;31m         self.captured_inputs)\n\u001b[0m\u001b[1;32m   1666\u001b[0m \u001b[0;34m\u001b[0m\u001b[0m\n\u001b[1;32m   1667\u001b[0m   \u001b[0;32mdef\u001b[0m \u001b[0m_call_flat\u001b[0m\u001b[0;34m(\u001b[0m\u001b[0mself\u001b[0m\u001b[0;34m,\u001b[0m \u001b[0margs\u001b[0m\u001b[0;34m,\u001b[0m \u001b[0mcaptured_inputs\u001b[0m\u001b[0;34m,\u001b[0m \u001b[0mcancellation_manager\u001b[0m\u001b[0;34m=\u001b[0m\u001b[0;32mNone\u001b[0m\u001b[0;34m)\u001b[0m\u001b[0;34m:\u001b[0m\u001b[0;34m\u001b[0m\u001b[0;34m\u001b[0m\u001b[0m\n",
      "\u001b[0;32m~/.local/lib/python3.6/site-packages/tensorflow/python/eager/function.py\u001b[0m in \u001b[0;36m_call_flat\u001b[0;34m(self, args, captured_inputs, cancellation_manager)\u001b[0m\n\u001b[1;32m   1744\u001b[0m       \u001b[0;31m# No tape is watching; skip to running the function.\u001b[0m\u001b[0;34m\u001b[0m\u001b[0;34m\u001b[0m\u001b[0;34m\u001b[0m\u001b[0m\n\u001b[1;32m   1745\u001b[0m       return self._build_call_outputs(self._inference_function.call(\n\u001b[0;32m-> 1746\u001b[0;31m           ctx, args, cancellation_manager=cancellation_manager))\n\u001b[0m\u001b[1;32m   1747\u001b[0m     forward_backward = self._select_forward_and_backward_functions(\n\u001b[1;32m   1748\u001b[0m         \u001b[0margs\u001b[0m\u001b[0;34m,\u001b[0m\u001b[0;34m\u001b[0m\u001b[0;34m\u001b[0m\u001b[0m\n",
      "\u001b[0;32m~/.local/lib/python3.6/site-packages/tensorflow/python/eager/function.py\u001b[0m in \u001b[0;36mcall\u001b[0;34m(self, ctx, args, cancellation_manager)\u001b[0m\n\u001b[1;32m    596\u001b[0m               \u001b[0minputs\u001b[0m\u001b[0;34m=\u001b[0m\u001b[0margs\u001b[0m\u001b[0;34m,\u001b[0m\u001b[0;34m\u001b[0m\u001b[0;34m\u001b[0m\u001b[0m\n\u001b[1;32m    597\u001b[0m               \u001b[0mattrs\u001b[0m\u001b[0;34m=\u001b[0m\u001b[0mattrs\u001b[0m\u001b[0;34m,\u001b[0m\u001b[0;34m\u001b[0m\u001b[0;34m\u001b[0m\u001b[0m\n\u001b[0;32m--> 598\u001b[0;31m               ctx=ctx)\n\u001b[0m\u001b[1;32m    599\u001b[0m         \u001b[0;32melse\u001b[0m\u001b[0;34m:\u001b[0m\u001b[0;34m\u001b[0m\u001b[0;34m\u001b[0m\u001b[0m\n\u001b[1;32m    600\u001b[0m           outputs = execute.execute_with_cancellation(\n",
      "\u001b[0;32m~/.local/lib/python3.6/site-packages/tensorflow/python/eager/execute.py\u001b[0m in \u001b[0;36mquick_execute\u001b[0;34m(op_name, num_outputs, inputs, attrs, ctx, name)\u001b[0m\n\u001b[1;32m     58\u001b[0m     \u001b[0mctx\u001b[0m\u001b[0;34m.\u001b[0m\u001b[0mensure_initialized\u001b[0m\u001b[0;34m(\u001b[0m\u001b[0;34m)\u001b[0m\u001b[0;34m\u001b[0m\u001b[0;34m\u001b[0m\u001b[0m\n\u001b[1;32m     59\u001b[0m     tensors = pywrap_tfe.TFE_Py_Execute(ctx._handle, device_name, op_name,\n\u001b[0;32m---> 60\u001b[0;31m                                         inputs, attrs, num_outputs)\n\u001b[0m\u001b[1;32m     61\u001b[0m   \u001b[0;32mexcept\u001b[0m \u001b[0mcore\u001b[0m\u001b[0;34m.\u001b[0m\u001b[0m_NotOkStatusException\u001b[0m \u001b[0;32mas\u001b[0m \u001b[0me\u001b[0m\u001b[0;34m:\u001b[0m\u001b[0;34m\u001b[0m\u001b[0;34m\u001b[0m\u001b[0m\n\u001b[1;32m     62\u001b[0m     \u001b[0;32mif\u001b[0m \u001b[0mname\u001b[0m \u001b[0;32mis\u001b[0m \u001b[0;32mnot\u001b[0m \u001b[0;32mNone\u001b[0m\u001b[0;34m:\u001b[0m\u001b[0;34m\u001b[0m\u001b[0;34m\u001b[0m\u001b[0m\n",
      "\u001b[0;31mFailedPreconditionError\u001b[0m:  [_Derived_]  Error while reading resource variable _AnonymousVar7 from Container: localhost. This could mean that the variable was uninitialized. Not found: Resource localhost/_AnonymousVar7/N10tensorflow3VarE does not exist.\n\t [[{{node ReadVariableOp}}]]\n\t [[actor/lstm_2/StatefulPartitionedCall]] [Op:__inference_process_sequence_of_experiences_tf_666]\n\nFunction call stack:\nprocess_sequence_of_experiences_tf -> process_sequence_of_experiences_tf -> process_sequence_of_experiences_tf\n"
     ]
    }
   ],
   "source": [
    "sampled_from_buffer=buffer.sample(8).astype(np.float32)\n",
    "actor.reset_states_workaround(new_batch_size=int(batch_size))\n",
    "actor.reset_states()\n",
    "actored_experiences = actor.process_sequence_of_experiences_tf(sampled_from_buffer)\n",
    "actor.reset_states_workaround(new_batch_size=int(batch_size))\n",
    "actor.reset_states()"
   ]
  },
  {
   "cell_type": "code",
   "execution_count": 14,
   "metadata": {},
   "outputs": [],
   "source": [
    "@tf.function\n",
    "def pipipi(actor, experiences):\n",
    "    #This function returns expereinces (with shape (batch_size, dolinar_layers+1)) to be processed by the critic or\n",
    "    #by the target critic\n",
    "    unstacked_exp = tf.unstack(tf.convert_to_tensor(experiences), axis=1)\n",
    "    to_stack = []\n",
    "    for index in range(2*actor.dolinar_layers-1): # I consider from first outcome to last one (but guess)\n",
    "        if (index==0):\n",
    "            if actor.nature == \"target\":\n",
    "                to_stack.append(unstacked_exp[index])\n",
    "            else:\n",
    "                to_stack.append(tf.squeeze(actor(tf.ones((experiences.shape[0], 1, 1))*actor.pad_value)))\n",
    "        if (index%2 == 1):\n",
    "            to_stack.append(unstacked_exp[index])\n",
    "            to_stack.append(tf.squeeze(actor(tf.reshape(unstacked_exp[index],(experiences.shape[0],1,1)))))\n",
    "    for index in range(2*actor.dolinar_layers-1, 2*actor.dolinar_layers+2):\n",
    "        to_stack.append(unstacked_exp[index])\n",
    "\n",
    "    if actor.dolinar_layers>1:\n",
    "        actor.reset_states() #otherwise is like not doing anything so no problem :-)\n",
    "    else:\n",
    "        actor(tf.reshape(unstacked_exp[1],(experiences.shape[0],1,1))) #just call it once to initialize\n",
    "    return tf.stack(to_stack, axis=1)\n"
   ]
  },
  {
   "cell_type": "code",
   "execution_count": 17,
   "metadata": {},
   "outputs": [
    {
     "data": {
      "text/plain": [
       "<tf.Tensor: shape=(8, 4), dtype=float32, numpy=\n",
       "array([[0.50356483, 1.        , 1.        , 0.21337277],\n",
       "       [0.5036402 , 0.        , 1.        , 0.75398874],\n",
       "       [0.5036402 , 0.        , 1.        , 0.75398874],\n",
       "       [0.5036402 , 0.        , 1.        , 0.57932425],\n",
       "       [0.50356483, 1.        , 0.        , 0.7397049 ],\n",
       "       [0.50356483, 1.        , 1.        , 0.05840718],\n",
       "       [0.5036402 , 0.        , 1.        , 0.5399149 ],\n",
       "       [0.5036402 , 0.        , 0.        , 0.19154535]], dtype=float32)>"
      ]
     },
     "execution_count": 17,
     "metadata": {},
     "output_type": "execute_result"
    }
   ],
   "source": [
    "pipipi2(actor, sampled_from_buffer)"
   ]
  },
  {
   "cell_type": "code",
   "execution_count": null,
   "metadata": {},
   "outputs": [],
   "source": []
  },
  {
   "cell_type": "code",
   "execution_count": null,
   "metadata": {},
   "outputs": [],
   "source": []
  },
  {
   "cell_type": "code",
   "execution_count": null,
   "metadata": {},
   "outputs": [],
   "source": []
  },
  {
   "cell_type": "code",
   "execution_count": null,
   "metadata": {},
   "outputs": [],
   "source": []
  },
  {
   "cell_type": "code",
   "execution_count": null,
   "metadata": {},
   "outputs": [],
   "source": []
  },
  {
   "cell_type": "code",
   "execution_count": null,
   "metadata": {},
   "outputs": [],
   "source": [
    "rt, pt = [], []\n",
    "for episode in tqdm(range(10**3)):\n",
    "\n",
    "    env.pick_phase()\n",
    "    experiences=[] #where the current history of the current episode is stored\n",
    "    context_outcome_actor = np.reshape(np.array([actor.pad_value]),(1,1,1)).astype(np.float32)\n",
    "    outcomes_so_far = []\n",
    "    for layer in range(actor.dolinar_layers):\n",
    "        beta_would_do = np.squeeze(actor(context_outcome_actor))\n",
    "        beta =  np.clip(beta_would_do + np.random.uniform(-noise_displacement, noise_displacement), .3, 1)#np.clip(,-2*amplitude,2*amplitude)\n",
    "        policy_evaluator.recorded_trajectory_tree[str(layer)][str(np.array(outcomes_so_far))].append(beta)\n",
    "        policy_evaluator.recorded_trajectory_tree_would_do[str(layer)][str(np.array(outcomes_so_far))].append(beta_would_do)\n",
    "\n",
    "        outcome = env.give_outcome(beta,layer)\n",
    "        outcomes_so_far.append(int(outcome))\n",
    "        experiences.append(beta)\n",
    "        experiences.append(outcome)\n",
    "        context_outcome_actor = np.reshape(np.array([outcome]),(1,1,1)).astype(np.float32)\n",
    "\n",
    "    ### ep-gredy guessing of the phase###\n",
    "    # ### ep-gredy guessing of the phase###\n",
    "    actor.lstm.reset_states()\n",
    "    if np.random.random()<ep_guess:\n",
    "        guess_index = np.random.choice(range(number_phases),1)[0]\n",
    "        # guess_index, guess_phase = val, pol.possible_phases[val]\n",
    "    else:\n",
    "        guess_index = critic.give_favourite_guess(experiences) #experiences is the branch of the current tree\n",
    "\n",
    "    experiences.append(guess_index)\n",
    "    reward = env.give_reward(guess_index)#, modality=\"bit_stochastic\", history = experiences[:-1])\n",
    "    experiences.append(reward)\n",
    "\n",
    "    buffer.add(tuple(experiences))\n",
    "\n",
    "    rt.append(reward)\n",
    "    #notice it's important states of lstm actor are reset before calling this guy.\n",
    "    pt.append(policy_evaluator.greedy_strategy(actor = actor, critic = critic, max_like_guess=True))\n",
    "    if buffer.count>batch_size:\n",
    "        sampled_experiences = tf.convert_to_tensor(buffer.sample(batch_size), dtype=np.float32)\n",
    "        actor.reset_states_workaround(new_batch_size=int(batch_size))\n",
    "        new_loss = misc.optimization_step(sampled_experiences, critic, critic_target, actor,\n",
    "                                          actor_target, optimizer_critic, optimizer_actor, batch_size)\n",
    "        new_loss = new_loss.numpy()\n",
    "        actor.reset_states_workaround(new_batch_size=1)\n",
    "\n",
    "        critic_target.update_target_parameters(critic)\n",
    "        #actor_target.update_target_parameters(actor)\n",
    "        noise_displacement = max(0.2,0.99*noise_displacement)"
   ]
  },
  {
   "cell_type": "code",
   "execution_count": null,
   "metadata": {},
   "outputs": [],
   "source": [
    "cumre=0\n",
    "rrt = []\n",
    "for k in rt:\n",
    "    cumre+=k\n",
    "    rrt.append(cumre)\n",
    "rrt = rrt/np.arange(1,len(rt)+1)\n",
    "\n",
    "plt.plot(rrt)"
   ]
  },
  {
   "cell_type": "code",
   "execution_count": null,
   "metadata": {},
   "outputs": [],
   "source": [
    "plt.plot(pt)"
   ]
  },
  {
   "cell_type": "code",
   "execution_count": null,
   "metadata": {},
   "outputs": [],
   "source": [
    "matplotlib.rc('font', serif='cm10')\n",
    "plt.rcParams.update({'font.size': 100})\n",
    "plt.figure(figsize=(150,150), dpi=50)\n",
    "\n",
    "\n",
    "ax1 = plt.subplot2grid((2,2),(0,0))\n",
    "ax2 = plt.subplot2grid((2,2),(0,1))\n",
    "ax3 = plt.subplot2grid((2,2),(1,0), colspan=2)\n",
    "#betas = np.arange(.1,1.1,.05)\n",
    "betas = np.arange(0,2.05,.05)\n",
    "\n",
    "\n",
    "inps = np.stack([np.ones(len(betas))*critic.pad_value, betas], axis=1)\n",
    "inps = np.reshape(inps, (len(betas),1,2))\n",
    "ax3.plot(betas, np.squeeze(critic(inps)), '--', color=\"black\", linewidth=10,label=\"RNN\")\n",
    "\n",
    "axes = {\"0.0\":ax1, \"1.0\":ax2}\n",
    "for outcome in [0.,1.]:\n",
    "   for guess_index in [0.,1.]:\n",
    "        m=[]\n",
    "        for k in tf.unstack(inps):\n",
    "            m.append(tf.concat([k, np.reshape(np.array([outcome,guess_index]), (1,2))], axis=0))\n",
    "        axes[str(outcome)].plot(betas, np.squeeze(critic(tf.stack(m, axis=0)))[:,1], '--', color=\"black\", linewidth=10,label=\"RNN\")\n",
    "\n",
    "\n",
    "ax1.plot(betas,[qval(b, 0, -1) for b in betas],c=\"red\", linewidth=10, label=\"Q(n1=0,\"+r'$\\beta$'+\"; g=-1)\")\n",
    "ax1.plot(betas,[qval(b, 0, 1) for b in betas],c=\"blue\",  linewidth=10,label=\"Q(n1=0,\"+r'$\\beta$'+\"; g=1)\")\n",
    "\n",
    "ax2.plot(betas,[qval(b, 1, -1) for b in betas],c=\"red\", linewidth=10, label=\"Q(n1=0,\"+r'$\\beta$'+\"; g=-1)\")\n",
    "ax2.plot(betas,[qval(b, 1, 1) for b in betas],c=\"blue\",  linewidth=10,label=\"Q(n1=0,\"+r'$\\beta$'+\"; g=1)\")\n",
    "\n",
    "ax3.plot(betas,ps_maxlik(betas), linewidth=7, color=\"red\", label=\"P*\")\n",
    "\n",
    "for ax in [ax1, ax2, ax3]:\n",
    "    ax.set_xlabel(r'$\\beta$', size=20)\n",
    "    ax.legend(prop={\"size\":15})"
   ]
  },
  {
   "cell_type": "code",
   "execution_count": null,
   "metadata": {},
   "outputs": [],
   "source": [
    "plt.plot(policy_evaluator.recorded_trajectory_tree[str(layer)][str(np.array([]))])"
   ]
  },
  {
   "cell_type": "code",
   "execution_count": null,
   "metadata": {},
   "outputs": [],
   "source": []
  }
 ],
 "metadata": {
  "kernelspec": {
   "display_name": "Python 3",
   "language": "python",
   "name": "python3"
  },
  "language_info": {
   "codemirror_mode": {
    "name": "ipython",
    "version": 3
   },
   "file_extension": ".py",
   "mimetype": "text/x-python",
   "name": "python",
   "nbconvert_exporter": "python",
   "pygments_lexer": "ipython3",
   "version": "3.6.9"
  }
 },
 "nbformat": 4,
 "nbformat_minor": 4
}
