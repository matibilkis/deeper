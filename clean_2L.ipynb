{
 "cells": [
  {
   "cell_type": "code",
   "execution_count": 1,
   "metadata": {},
   "outputs": [],
   "source": [
    "from misc import *\n",
    "import numpy as np\n",
    "import cmath\n",
    "\n",
    "def P(a,b,et,n):\n",
    "\n",
    "    p0=np.exp(-abs((et*a)+b)**2)\n",
    "\n",
    "    if n ==0:\n",
    "        return p0\n",
    "    else:\n",
    "        return 1-(p0)\n",
    "def outcomes_universe(L):\n",
    "    \"\"\"\n",
    "    Takes L (# of photodetections in the experiment) and returns\n",
    "    all possible outcomes in a matrix of 2**L rows by L columns,\n",
    "    which are all possible sequence of outcomes you can ever get.\n",
    "    \"\"\"\n",
    "    a = np.array([0,1])\n",
    "    two_outcomes = np.array([[0,0],[0,1],[1,0],[1,1]]).astype(int)\n",
    "    if L<2:\n",
    "        return np.array([0,1]).astype(int)\n",
    "    elif L==2:\n",
    "        return two_outcomes\n",
    "    else:\n",
    "        x = insert(a,two_outcomes)\n",
    "        for i in range(L-3):\n",
    "            x = insert(a,x)\n",
    "        return x.astype(int)\n",
    "\n",
    "def make_attenuations(layers):\n",
    "    if layers == 1:\n",
    "        return [0]\n",
    "    else:\n",
    "        ats=[0]\n",
    "        for i in range(layers-1):\n",
    "            ats.append(np.arctan(1/np.cos(ats[i])))\n",
    "        return np.flip(ats)\n",
    "\n",
    "    \n",
    "def prob_2L(first_beta, seconds, guesses):\n",
    "    p=0\n",
    "    at = make_attenuations(2)\n",
    "    for ot in outcomes_universe(2):\n",
    "        p += P(guesses[str(ot[:2])]*0.4, first_beta, np.sin(at[0]), ot[0])*P(guesses[str(ot[:2])]*0.4, seconds[str(ot[:1])], np.cos(at[0]), ot[1])\n",
    "    return p/2"
   ]
  },
  {
   "cell_type": "code",
   "execution_count": 6,
   "metadata": {},
   "outputs": [],
   "source": [
    "b1, b2 = -.4, .5\n",
    "guesses = {}\n",
    "for n in outcomes_universe(2):\n",
    "    guesses[str(n)] = np.random.choice([-1,1],1)[0]\n",
    "seconds = {\"[0]\": b1, \"[1]\": b2}"
   ]
  },
  {
   "cell_type": "code",
   "execution_count": 7,
   "metadata": {},
   "outputs": [
    {
     "data": {
      "text/plain": [
       "0.7842261728794685"
      ]
     },
     "execution_count": 7,
     "metadata": {},
     "output_type": "execute_result"
    }
   ],
   "source": [
    "prob_2L(b1, seconds, gueses)"
   ]
  },
  {
   "cell_type": "code",
   "execution_count": 8,
   "metadata": {},
   "outputs": [],
   "source": [
    "from nets import Critic"
   ]
  },
  {
   "cell_type": "code",
   "execution_count": 10,
   "metadata": {},
   "outputs": [],
   "source": []
  },
  {
   "cell_type": "code",
   "execution_count": 19,
   "metadata": {},
   "outputs": [],
   "source": [
    "critic = Critic()\n",
    "inps = np.random.randn(1,8,2)"
   ]
  },
  {
   "cell_type": "code",
   "execution_count": 20,
   "metadata": {},
   "outputs": [
    {
     "name": "stdout",
     "output_type": "stream",
     "text": [
      "WARNING:tensorflow:Layer critic_3 is casting an input tensor from dtype float64 to the layer's dtype of float32, which is new behavior in TensorFlow 2.  The layer has dtype float32 because it's dtype defaults to floatx.\n",
      "\n",
      "If you intended to run this layer in float32, you can safely ignore this warning. If in doubt, this warning is likely only an issue if you are porting a TensorFlow 1.X model to TensorFlow 2.\n",
      "\n",
      "To change all layers to have dtype float64 by default, call `tf.keras.backend.set_floatx('float64')`. To change just this layer, pass dtype='float64' to the layer constructor. If you are the author of this layer, you can disable autocasting by passing autocast=False to the base Layer constructor.\n",
      "\n"
     ]
    },
    {
     "data": {
      "text/plain": [
       "<tf.Tensor: shape=(1, 8, 1), dtype=float32, numpy=\n",
       "array([[[0.50734425],\n",
       "        [0.5341878 ],\n",
       "        [0.5012882 ],\n",
       "        [0.53130853],\n",
       "        [0.50576496],\n",
       "        [0.5030565 ],\n",
       "        [0.5179649 ],\n",
       "        [0.5267918 ]]], dtype=float32)>"
      ]
     },
     "execution_count": 20,
     "metadata": {},
     "output_type": "execute_result"
    }
   ],
   "source": [
    "critic(inps)"
   ]
  },
  {
   "cell_type": "code",
   "execution_count": null,
   "metadata": {},
   "outputs": [],
   "source": []
  }
 ],
 "metadata": {
  "kernelspec": {
   "display_name": "Python 3",
   "language": "python",
   "name": "python3"
  },
  "language_info": {
   "codemirror_mode": {
    "name": "ipython",
    "version": 3
   },
   "file_extension": ".py",
   "mimetype": "text/x-python",
   "name": "python",
   "nbconvert_exporter": "python",
   "pygments_lexer": "ipython3",
   "version": "3.6.9"
  }
 },
 "nbformat": 4,
 "nbformat_minor": 4
}
