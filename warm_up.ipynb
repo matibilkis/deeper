{
 "cells": [
  {
   "cell_type": "code",
   "execution_count": 27,
   "metadata": {},
   "outputs": [
    {
     "name": "stdout",
     "output_type": "stream",
     "text": [
      "The autoreload extension is already loaded. To reload it, use:\n",
      "  %reload_ext autoreload\n"
     ]
    }
   ],
   "source": [
    "import numpy as np\n",
    "import tensorflow as tf\n",
    "%load_ext autoreload\n",
    "%autoreload 2"
   ]
  },
  {
   "cell_type": "code",
   "execution_count": 10,
   "metadata": {},
   "outputs": [],
   "source": [
    "from misc import Prob, Basics\n",
    "import matplotlib.pyplot as plt\n",
    "basics = Basics(dolinar_layers=2)\n",
    "ats = basics.ats"
   ]
  },
  {
   "cell_type": "code",
   "execution_count": 11,
   "metadata": {},
   "outputs": [],
   "source": [
    "def pn1(n,beta,alpha=0.4):\n",
    "    p=0\n",
    "    for pm in [-1,1]:\n",
    "        p+=Prob(pm*alpha, beta,n)\n",
    "    return p"
   ]
  },
  {
   "cell_type": "code",
   "execution_count": 12,
   "metadata": {},
   "outputs": [],
   "source": [
    "def Q2(b1,n1,b2,alpha=0.4):\n",
    "    p=0\n",
    "    for n2 in [0,1]:\n",
    "        p+=max([Prob(pm*alpha*np.cos(ats[0]), b1,n1)*Prob(pm*alpha*np.sin(ats[0]), b2,n2) for pm in [-1.,1.]])\n",
    "    p/=pn1(n1,b1)\n",
    "    return p"
   ]
  },
  {
   "cell_type": "code",
   "execution_count": 15,
   "metadata": {},
   "outputs": [],
   "source": [
    "def Q1(b1,alpha=0.4):\n",
    "    p=0\n",
    "    for n1 in [0,1]:\n",
    "        p+= max([Q2(b1,n1,b2,alpha) for b2 in np.arange(-1,1,.05)])*pn1(n1,b1)\n",
    "    return p/2"
   ]
  },
  {
   "cell_type": "code",
   "execution_count": 16,
   "metadata": {},
   "outputs": [
    {
     "data": {
      "text/plain": [
       "[<matplotlib.lines.Line2D at 0x7f829ceb9cf8>]"
      ]
     },
     "execution_count": 16,
     "metadata": {},
     "output_type": "execute_result"
    },
    {
     "data": {
      "image/png": "[encoded data removed]",
      "text/plain": [
       "<Figure size 432x288 with 1 Axes>"
      ]
     },
     "metadata": {
      "needs_background": "light"
     },
     "output_type": "display_data"
    }
   ],
   "source": [
    "betas = np.arange(-1,1,.01)\n",
    "plt.plot(betas,[Q1(b) for b in betas])"
   ]
  },
  {
   "cell_type": "markdown",
   "metadata": {},
   "source": [
    "Now construct the dataset\n",
    "\n",
    "this is \n",
    "\n",
    "{\n",
    "(\\beta1 ------> Q*(\\beta1), \n",
    "(\\beta2 n1 ---> Q*(\\beta1 n1, \\beta2)\n",
    "}\n",
    "\n",
    "And the idea is that the network\n",
    "predicts this, minimizing the loss:\n",
    "\n",
    "\\sum_s (\\hat{Q}(\\beta1 n1, \\beta2)} - Q*(\\beta1 n1, \\beta2))**2\n",
    "\\sum_s\n"
   ]
  },
  {
   "cell_type": "markdown",
   "metadata": {},
   "source": [
    "### What we'll do first is a basic memoryless setting, where we feed \\beta1, n1 \\beta2 and it should learn Q()"
   ]
  },
  {
   "cell_type": "code",
   "execution_count": 45,
   "metadata": {},
   "outputs": [],
   "source": [
    "from nets import Critic"
   ]
  },
  {
   "cell_type": "code",
   "execution_count": 55,
   "metadata": {},
   "outputs": [],
   "source": [
    "net = Critic()"
   ]
  },
  {
   "cell_type": "code",
   "execution_count": 121,
   "metadata": {},
   "outputs": [],
   "source": [
    "data =[]\n",
    "labels=[]\n",
    "for k in range(1024):\n",
    "    b1,n1,b2 = [np.random.choice(betas,1)[0],np.random.choice(betas,1)[0], np.random.choice([0,1],1)[0]]\n",
    "    label = Q2(b1,n1,b2)\n",
    "    data.append([b1,n1,b2])\n",
    "    labels.append(label)\n",
    "labels=np.array(labels).astype(np.float32)\n",
    "\n",
    "data = np.reshape(data, (len(data),1,3)).astype(np.float32)\n",
    "labels = np.reshape(labels, (len(labels),1,1))"
   ]
  },
  {
   "cell_type": "code",
   "execution_count": 122,
   "metadata": {},
   "outputs": [
    {
     "data": {
      "text/plain": [
       "array([0., 0., 0., ..., 0., 0., 0.], dtype=float32)"
      ]
     },
     "execution_count": 122,
     "metadata": {},
     "output_type": "execute_result"
    }
   ],
   "source": [
    "preds = net(tf.convert_to_tensor(data))\n",
    "labs=tf.convert_to_tensor(labels)\n",
    "tf.keras.losses.MSE(labels, preds) - tf.squeeze((preds - labels)**2, axis=-1)"
   ]
  },
  {
   "cell_type": "code",
   "execution_count": 158,
   "metadata": {},
   "outputs": [],
   "source": []
  },
  {
   "cell_type": "code",
   "execution_count": 167,
   "metadata": {},
   "outputs": [],
   "source": [
    "def learn_step():\n",
    "    with tf.GradientTape() as tape:\n",
    "        tape.watch(net.trainable_variables)\n",
    "        preds = net(tf.convert_to_tensor(data))\n",
    "        loss = tf.reduce_mean(tf.keras.losses.MSE(labels, preds))\n",
    "        grads = tape.gradient(loss, net.trainable_variables)\n",
    "    optimizer.apply_gradients(zip(grads, net.trainable_variables))\n",
    "    return loss"
   ]
  },
  {
   "cell_type": "code",
   "execution_count": 163,
   "metadata": {},
   "outputs": [],
   "source": [
    "from tqdm import tqdm"
   ]
  },
  {
   "cell_type": "code",
   "execution_count": 164,
   "metadata": {},
   "outputs": [
    {
     "name": "stderr",
     "output_type": "stream",
     "text": [
      "100%|██████████| 1000/1000 [00:14<00:00, 70.34it/s]\n"
     ]
    }
   ],
   "source": [
    "l=[]\n",
    "for k in tqdm(range(10**3)):\n",
    "    l.append(learn_step())"
   ]
  },
  {
   "cell_type": "code",
   "execution_count": 168,
   "metadata": {},
   "outputs": [
    {
     "name": "stderr",
     "output_type": "stream",
     "text": [
      "100%|██████████| 1000/1000 [00:03<00:00, 276.33it/s]\n"
     ]
    }
   ],
   "source": [
    "l=[]\n",
    "for k in tqdm(range(10**3)):\n",
    "    l.append(learn_step1())"
   ]
  },
  {
   "cell_type": "code",
   "execution_count": 169,
   "metadata": {},
   "outputs": [
    {
     "data": {
      "text/plain": [
       "[<matplotlib.lines.Line2D at 0x7f8270115630>]"
      ]
     },
     "execution_count": 169,
     "metadata": {},
     "output_type": "execute_result"
    },
    {
     "data": {
      "image/png": "[encoded data removed]",
      "text/plain": [
       "<Figure size 432x288 with 1 Axes>"
      ]
     },
     "metadata": {
      "needs_background": "light"
     },
     "output_type": "display_data"
    }
   ],
   "source": [
    "plt.plot(l)"
   ]
  },
  {
   "cell_type": "code",
   "execution_count": 170,
   "metadata": {},
   "outputs": [
    {
     "data": {
      "text/plain": [
       "[<matplotlib.lines.Line2D at 0x7f82700e4278>]"
      ]
     },
     "execution_count": 170,
     "metadata": {},
     "output_type": "execute_result"
    },
    {
     "data": {
      "image/png": "[encoded data removed]",
      "text/plain": [
       "<Figure size 432x288 with 1 Axes>"
      ]
     },
     "metadata": {
      "needs_background": "light"
     },
     "output_type": "display_data"
    }
   ],
   "source": [
    "data_test = []\n",
    "for b in betas:\n",
    "    data_test.append([b1,0,b])\n",
    "data_test=np.reshape(data_test, (len(data_test), 1,3))\n",
    "plt.plot(betas, np.squeeze(net(data_test)))\n",
    "plt.plot(betas, [Q2(b1,0,b) for b in betas])"
   ]
  },
  {
   "cell_type": "code",
   "execution_count": 103,
   "metadata": {},
   "outputs": [
    {
     "data": {
      "text/plain": [
       "array([0.63755256, 0.7563085 , 0.7487032 , 0.64440465, 0.66426337,\n",
       "       0.66419584, 0.75022596, 0.7626653 , 0.6400792 , 0.7369872 ,\n",
       "       0.64537907, 0.6444596 , 0.6689466 , 0.7338927 , 0.73433316,\n",
       "       0.7366533 , 0.7298264 , 0.72976583, 0.7670042 , 0.73352045,\n",
       "       0.658317  , 0.7380792 , 0.6487367 , 0.75116646, 0.73515636,\n",
       "       0.6985456 , 0.6590821 , 0.7419349 , 0.75446284, 0.7518584 ,\n",
       "       0.6663863 , 0.7581924 , 0.6328478 , 0.74455565, 0.73279005,\n",
       "       0.6622319 , 0.7560608 , 0.7287646 , 0.6457752 , 0.73108643,\n",
       "       0.72805583, 0.6727277 , 0.6717948 , 0.6552647 , 0.74960035,\n",
       "       0.74121314, 0.63724965, 0.6452148 , 0.69784963, 0.64684534,\n",
       "       0.73307955, 0.7371629 , 0.7325464 , 0.7333507 , 0.7454027 ,\n",
       "       0.6722361 , 0.746878  , 0.7378281 , 0.7441467 , 0.7522502 ,\n",
       "       0.68227196, 0.6567475 , 0.64117193, 0.7408708 , 0.6762408 ,\n",
       "       0.6504386 , 0.65151346, 0.64170694, 0.6374298 , 0.6424061 ,\n",
       "       0.6847693 , 0.72907645, 0.74732715, 0.7305258 , 0.6958587 ,\n",
       "       0.75887215, 0.6521261 , 0.65499455, 0.7443756 , 0.6591937 ,\n",
       "       0.6743981 , 0.64955914, 0.63835025, 0.7342599 , 0.7311846 ,\n",
       "       0.64770514, 0.6483376 , 0.76057124, 0.6793536 , 0.6400999 ,\n",
       "       0.7507121 , 0.64518404, 0.6497898 , 0.74591595, 0.6360521 ,\n",
       "       0.77412295, 0.66566056, 0.64697605, 0.6571605 , 0.6510691 ,\n",
       "       0.7572451 , 0.689044  , 0.66444135, 0.73960936, 0.7413898 ,\n",
       "       0.6575604 , 0.75930774, 0.6435086 , 0.7352422 , 0.6515427 ,\n",
       "       0.65723443, 0.74674463, 0.7433309 , 0.6433047 , 0.7373586 ,\n",
       "       0.72808224, 0.7373938 , 0.72905034, 0.76729906, 0.69844776,\n",
       "       0.6618812 , 0.72819126, 0.7348094 , 0.66874933, 0.7348534 ,\n",
       "       0.76504564, 0.74630916, 0.66623914, 0.741077  , 0.7394159 ,\n",
       "       0.7381144 , 0.6428217 , 0.63241035, 0.6687889 , 0.7577258 ,\n",
       "       0.7354613 , 0.7366664 , 0.77379525, 0.72903234, 0.7383718 ,\n",
       "       0.6767345 , 0.73231685, 0.63670826, 0.63865596, 0.727371  ,\n",
       "       0.66478056, 0.74733204, 0.68119305, 0.65224403, 0.6841676 ,\n",
       "       0.67743874, 0.7316714 , 0.6770437 , 0.64260477, 0.63559   ,\n",
       "       0.6410034 , 0.6512936 , 0.690292  , 0.72758406, 0.7342753 ,\n",
       "       0.6974705 , 0.74386334, 0.75609756, 0.74692875, 0.732137  ,\n",
       "       0.7638299 , 0.74089044, 0.73012125, 0.70553416, 0.65973556,\n",
       "       0.72747046, 0.6402251 , 0.7418243 , 0.7490388 , 0.67478985,\n",
       "       0.7527738 , 0.6408673 , 0.74774885, 0.7551595 , 0.6702937 ,\n",
       "       0.661114  , 0.7281222 , 0.72807324, 0.6410118 , 0.66799563,\n",
       "       0.75312865, 0.7517356 , 0.67008114, 0.6639008 , 0.6642034 ,\n",
       "       0.72900355, 0.73197794, 0.6631364 , 0.68247294, 0.77247727,\n",
       "       0.6388695 , 0.66347766, 0.6804049 , 0.73544246, 0.75946665,\n",
       "       0.63485307, 0.749829  , 0.7361349 , 0.651037  , 0.66042817,\n",
       "       0.6435744 , 0.7499371 , 0.7439826 , 0.745755  , 0.7364795 ,\n",
       "       0.74246556, 0.67516464, 0.66321397, 0.7393599 , 0.7305239 ,\n",
       "       0.6569503 , 0.6510127 , 0.73764217, 0.73463035, 0.7501673 ,\n",
       "       0.65768665, 0.64727956, 0.6471223 , 0.6451164 , 0.7597664 ,\n",
       "       0.67485875, 0.75535077, 0.7515045 , 0.7392795 , 0.7354546 ,\n",
       "       0.746064  , 0.63314474, 0.759455  , 0.65372264, 0.74970675,\n",
       "       0.6770143 , 0.6418593 , 0.73734605, 0.76451373, 0.7329776 ,\n",
       "       0.6454376 , 0.6374065 , 0.63690805, 0.7467122 , 0.74013823,\n",
       "       0.6879865 , 0.74222153, 0.73884726, 0.68002754, 0.6839784 ,\n",
       "       0.73194385, 0.64890087, 0.746836  , 0.6869242 , 0.7357183 ,\n",
       "       0.6470796 ], dtype=float32)"
      ]
     },
     "execution_count": 103,
     "metadata": {},
     "output_type": "execute_result"
    }
   ],
   "source": [
    "for b in betas:\n",
    "    true.append(np.squeeze(net(np.array([[[b1,b2,0]]]).astype(np.float32))))"
   ]
  },
  {
   "cell_type": "code",
   "execution_count": null,
   "metadata": {},
   "outputs": [],
   "source": []
  }
 ],
 "metadata": {
  "kernelspec": {
   "display_name": "Python 3",
   "language": "python",
   "name": "python3"
  },
  "language_info": {
   "codemirror_mode": {
    "name": "ipython",
    "version": 3
   },
   "file_extension": ".py",
   "mimetype": "text/x-python",
   "name": "python",
   "nbconvert_exporter": "python",
   "pygments_lexer": "ipython3",
   "version": "3.6.9"
  }
 },
 "nbformat": 4,
 "nbformat_minor": 4
}
