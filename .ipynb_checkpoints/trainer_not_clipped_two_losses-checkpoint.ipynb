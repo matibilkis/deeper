{
 "cells": [
  {
   "cell_type": "code",
   "execution_count": 1,
   "metadata": {},
   "outputs": [],
   "source": [
    "import os \n",
    "import tensorflow as tf\n",
    "import numpy as np\n",
    "from nets import RNNC\n",
    "from tqdm import tqdm\n",
    "import matplotlib.pyplot as plt\n",
    "%load_ext autoreload\n",
    "%autoreload 2\n",
    "\n",
    "name=\"task2_dset\"\n",
    "data, labels = np.load(name+\"/data.npy\"), np.load(name+\"/label.npy\")\n",
    "\n",
    "stoppings = []\n",
    "for k in range(4):\n",
    "    for kk in range(10**k,10**(k+1),10**k):\n",
    "        stoppings.append(kk)\n",
    "for j in range(1,4):\n",
    "    stoppings.append(j*10**4)\n"
   ]
  },
  {
   "cell_type": "code",
   "execution_count": null,
   "metadata": {},
   "outputs": [
    {
     "name": "stderr",
     "output_type": "stream",
     "text": [
      " 18%|█▊        | 5398/30001 [01:46<07:20, 55.89it/s] "
     ]
    }
   ],
   "source": [
    "dons = []\n",
    "for lmm in [1,2]:\n",
    "    net = RNNC(seed_val=0.5,lmode=lmm)\n",
    "    if not os.path.exists(\"grads_{}\".format(lmm)):\n",
    "        os.makedirs(\"grads_{}\".format(lmm))\n",
    "    l=[]\n",
    "    for k in tqdm(range((3*10**4)+1)):\n",
    "        if k in stoppings:\n",
    "            lo, gr = net.train_step(data, labels, return_gradients=True)\n",
    "            np.save(\"grads_{}/{}\".format(lmm,k),gr)\n",
    "            net.save_weights(\"net_{}/\".format(lmm)+str(k))        \n",
    "            dons.append(k)\n",
    "            l.append(lo)\n",
    "        else:\n",
    "            lo =net.train_step(data, labels) \n",
    "            l.append(lo)\n",
    "    os.system(\"python3 image_gen.py --names {}\".format(lmm))\n",
    "    means=[]\n",
    "    maxs=[]\n",
    "    for ep in dons:\n",
    "        gr = np.load(\"grads_{}/{}.npy\".format(lmm,ep), allow_pickle=True)\n",
    "        means.append([np.mean(gr[ko].numpy()) for ko in range(len(gr))])\n",
    "        maxs.append([np.max(np.abs(gr[ko].numpy())) for ko in range(len(gr))])    \n",
    "\n",
    "\n",
    "    ti=[]\n",
    "    for kkk in np.log10(dons):\n",
    "        if kkk in list(range(10)):\n",
    "            ti.append(kkk)\n",
    "\n",
    "    plt.figure(figsize=(10,30))\n",
    "    axs={}\n",
    "    for ik in range(9):\n",
    "        axs[str(ik)] = plt.subplot2grid((9,2),(ik,0))\n",
    "        axs[str(ik)].plot(np.log10(dons),np.array(means)[:,ik], label=\"mean gradient at layer {}\".format(ik), color=\"red\",alpha=0.75, linewidth=4)\n",
    "        axs[str(ik)].set_xticks(ti)    \n",
    "        axs[str(ik)].set_xticklabels([\"10^{}\".format(int(kik)) for kik in ti])\n",
    "        if k==0:\n",
    "            axs[str(ik)].set_title(\"mean value of gradient \\nat each layer\", size=20)\n",
    "        axs[str(ik)] = plt.subplot2grid((9,2),(ik,1))\n",
    "        axs[str(ik)].plot(np.log10(dons),np.array(maxs)[:,ik], label=\"max absolute value of gradient at layer {}\".format(ik), color=\"red\",alpha=0.75, linewidth=4)\n",
    "        axs[str(ik)].set_xticks(ti)    \n",
    "        axs[str(ik)].yaxis.tick_right()\n",
    "        axs[str(ik)].set_xticklabels([\"10^{}\".format(int(kik)) for kik in ti])\n",
    "        if k==0:\n",
    "            axs[str(ik)].set_title(\"max abs value of gradient \\nat each layer\", size=20)\n",
    "    plt.savefig(\"evolution_lmm_{}.png\".format(lmm))"
   ]
  },
  {
   "cell_type": "code",
   "execution_count": null,
   "metadata": {},
   "outputs": [],
   "source": []
  }
 ],
 "metadata": {
  "kernelspec": {
   "display_name": "Python 3",
   "language": "python",
   "name": "python3"
  },
  "language_info": {
   "codemirror_mode": {
    "name": "ipython",
    "version": 3
   },
   "file_extension": ".py",
   "mimetype": "text/x-python",
   "name": "python",
   "nbconvert_exporter": "python",
   "pygments_lexer": "ipython3",
   "version": "3.6.9"
  }
 },
 "nbformat": 4,
 "nbformat_minor": 4
}
