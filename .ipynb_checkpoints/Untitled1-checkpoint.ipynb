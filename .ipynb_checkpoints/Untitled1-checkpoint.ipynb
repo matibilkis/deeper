{
 "cells": [
  {
   "cell_type": "code",
   "execution_count": 1,
   "metadata": {},
   "outputs": [],
   "source": [
    "from misc import *\n",
    "import numpy as np\n",
    "import cmath"
   ]
  },
  {
   "cell_type": "code",
   "execution_count": 2,
   "metadata": {},
   "outputs": [],
   "source": [
    "def make_attenuations(layers, how=\"equal_energy_detected\"):\n",
    "    \"\"\"\"Notice that the methods are the same for L=2, but not for L=3.\n",
    "        According to Matteo, would be interesting to see if equal_attenuations is better than equal_energy_detected, as the latter is the most used\n",
    "\n",
    "    \"\"\"\n",
    "    if how == \"equal_attenuations\":\n",
    "\n",
    "        ats = np.pi*np.ones(layers)/4\n",
    "        ats[-1] = 0\n",
    "        return ats\n",
    "    elif how == \"equal_energy_detected\":\n",
    "        if layers == 1:\n",
    "            return [0]\n",
    "        else:\n",
    "            ats=[0]\n",
    "            for i in range(layers-1):\n",
    "                ats.append(np.arctan(1/np.cos(ats[i])))\n",
    "            return np.flip(ats)"
   ]
  },
  {
   "cell_type": "code",
   "execution_count": 3,
   "metadata": {},
   "outputs": [],
   "source": [
    "def P(a,b,et,n):\n",
    "    \"\"\"\n",
    "    | < \\beta | et* \\alpha >|**2\n",
    "\n",
    "    Notice that the real phase is not considered here, and is multiplied externally, when the function is called, as\n",
    "    P(real_phase*a, beta, et, n)...\n",
    "\n",
    "    \"\"\"\n",
    "\n",
    "    p0=np.exp(-abs((et*a)+b)**2)\n",
    "\n",
    "    if n ==0:\n",
    "        return p0\n",
    "    else:\n",
    "        return 1-(p0)\n"
   ]
  },
  {
   "cell_type": "code",
   "execution_count": 4,
   "metadata": {},
   "outputs": [],
   "source": [
    "def outcomes_universe(L):\n",
    "    \"\"\"\n",
    "    Takes L (# of photodetections in the experiment) and returns\n",
    "    all possible outcomes in a matrix of 2**L rows by L columns,\n",
    "    which are all possible sequence of outcomes you can ever get.\n",
    "    \"\"\"\n",
    "    a = np.array([0,1])\n",
    "    two_outcomes = np.array([[0,0],[0,1],[1,0],[1,1]]).astype(int)\n",
    "    if L<2:\n",
    "        return np.array([0,1]).astype(int)\n",
    "    elif L==2:\n",
    "        return two_outcomes\n",
    "    else:\n",
    "        x = insert(a,two_outcomes)\n",
    "        for i in range(L-3):\n",
    "            x = insert(a,x)\n",
    "        return x.astype(int)\n"
   ]
  },
  {
   "cell_type": "code",
   "execution_count": 5,
   "metadata": {},
   "outputs": [
    {
     "data": {
      "text/plain": [
       "array([[0, 0],\n",
       "       [0, 1],\n",
       "       [1, 0],\n",
       "       [1, 1]])"
      ]
     },
     "execution_count": 5,
     "metadata": {},
     "output_type": "execute_result"
    }
   ],
   "source": [
    "outcomes_universe(2)"
   ]
  },
  {
   "cell_type": "code",
   "execution_count": 6,
   "metadata": {},
   "outputs": [
    {
     "data": {
      "text/plain": [
       "array([0, 1])"
      ]
     },
     "execution_count": 6,
     "metadata": {},
     "output_type": "execute_result"
    }
   ],
   "source": [
    "outcomes_universe(1)"
   ]
  },
  {
   "cell_type": "code",
   "execution_count": null,
   "metadata": {},
   "outputs": [],
   "source": [
    "def prob_2L(first_beta, seconds, guesses):\n",
    "    p=0\n",
    "    for ot in outcomes_universe(2):\n",
    "        term = 1\n",
    "#         for j in range(layers):\n",
    "#             r =  np.prod( np.sin(at[:j]))\n",
    "#             t = np.cos(at[j])\n",
    "#             term = term*P(phase*amplitude,bb[j],r*t, ot[j])\n",
    "            "
   ]
  },
  {
   "cell_type": "code",
   "execution_count": 8,
   "metadata": {},
   "outputs": [
    {
     "data": {
      "text/plain": [
       "array([[0, 0],\n",
       "       [0, 1],\n",
       "       [1, 0],\n",
       "       [1, 1]])"
      ]
     },
     "execution_count": 8,
     "metadata": {},
     "output_type": "execute_result"
    }
   ],
   "source": [
    "outcomes_universe(2)"
   ]
  },
  {
   "cell_type": "code",
   "execution_count": null,
   "metadata": {},
   "outputs": [],
   "source": []
  },
  {
   "cell_type": "code",
   "execution_count": null,
   "metadata": {},
   "outputs": [],
   "source": []
  }
 ],
 "metadata": {
  "kernelspec": {
   "display_name": "Python 3",
   "language": "python",
   "name": "python3"
  },
  "language_info": {
   "codemirror_mode": {
    "name": "ipython",
    "version": 3
   },
   "file_extension": ".py",
   "mimetype": "text/x-python",
   "name": "python",
   "nbconvert_exporter": "python",
   "pygments_lexer": "ipython3",
   "version": "3.6.9"
  }
 },
 "nbformat": 4,
 "nbformat_minor": 4
}
