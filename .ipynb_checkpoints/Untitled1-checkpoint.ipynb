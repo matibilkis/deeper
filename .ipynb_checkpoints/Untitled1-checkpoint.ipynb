{
 "cells": [
  {
   "cell_type": "code",
   "execution_count": 2,
   "metadata": {},
   "outputs": [],
   "source": [
    "import tensorflow as tf\n",
    "from tensorflow.keras.layers import Dense\n",
    "import numpy as np\n",
    "tf.compat.v1.enable_eager_execution()\n",
    "tf.executing_eagerly()\n",
    "\n",
    "class Critic(tf.keras.Model):\n",
    "    #input_dim: 1 if layer=0, 3 if layer= 2, for the Kennedy receiver ##\n",
    "    def __init__(self, valreg=0.01, seed_val=0.1):\n",
    "        super(Critic,self).__init__()\n",
    "\n",
    "        self.mask = tf.keras.layers.Masking(mask_value=-4.,\n",
    "                                  input_shape=(2, 2))\n",
    "        self.lstm = tf.keras.layers.LSTM(250, return_sequences=True)\n",
    "\n",
    "        self.l1 = Dense(50,kernel_initializer=tf.random_uniform_initializer(minval=-seed_val, maxval=seed_val),\n",
    "        bias_initializer = tf.random_uniform_initializer(minval=-seed_val, maxval=seed_val),\n",
    "        kernel_regularizer=tf.keras.regularizers.l1(valreg),\n",
    "    activity_regularizer=tf.keras.regularizers.l2(valreg))\n",
    "\n",
    "        self.l2 = Dense(50, kernel_regularizer=tf.keras.regularizers.l1(valreg),\n",
    "    activity_regularizer=tf.keras.regularizers.l2(valreg),\n",
    "    kernel_initializer=tf.random_uniform_initializer(minval=-seed_val, maxval=seed_val),\n",
    "    bias_initializer = tf.random_uniform_initializer(minval=-seed_val, maxval=seed_val))\n",
    "\n",
    "        self.l3 = Dense(1, kernel_regularizer=tf.keras.regularizers.l1(valreg),\n",
    "    activity_regularizer=tf.keras.regularizers.l2(valreg),\n",
    "    kernel_initializer=tf.random_uniform_initializer(minval=-seed_val, maxval=seed_val),\n",
    "    bias_initializer = tf.random_uniform_initializer(minval=-seed_val, maxval=seed_val))\n",
    "\n",
    "\n",
    "\n",
    "\n",
    "    def update_target_parameters(self,primary_net, tau=0.01):\n",
    "        #### only\n",
    "        prim_weights = primary_net.get_weights()\n",
    "        targ_weights = self.get_weights()\n",
    "        weights = []\n",
    "        for i in tf.range(len(prim_weights)):\n",
    "            weights.append(tau * prim_weights[i] + (1 - tau) * targ_weights[i])\n",
    "        self.set_weights(weights)\n",
    "        return\n",
    "\n",
    "    def call(self, inputs):\n",
    "\n",
    "        feat = self.mask(inputs)\n",
    "        feat= self.lstm(feat)\n",
    "        feat = tf.nn.relu(self.l1(feat))\n",
    "        feat = tf.nn.relu(self.l2(feat))\n",
    "        feat = tf.nn.sigmoid(self.l3(feat))\n",
    "        return feat\n",
    "\n",
    "    def get_self_greedy(self,b,ll):\n",
    "        ''' this function takes a batch with its corresponding labels\n",
    "        and retrieves what the true labels are according to network\n",
    "        prodection on next states.\n",
    "\n",
    "        For instance, my datapoint is [(\\beta, pad), (n, guess)] and i want Max_g Q(\\beta, n, guess)\n",
    "        '''\n",
    "        a = b.copy()\n",
    "        l = ll.copy()\n",
    "        preds1 = self(a)\n",
    "        a[:,1][:,1] = -a[:,1][:,1]\n",
    "        preds2 = self(a)\n",
    "        both = tf.concat([preds1,preds2],1)\n",
    "        maxs = np.squeeze(tf.math.reduce_max(both,axis=1))\n",
    "        l[:,0] = np.expand_dims(maxs,axis=1)\n",
    "        return l\n",
    "\n",
    "\n",
    "    \n",
    "\n",
    "    def give_favourite_guess(self,sequence):\n",
    "        \"\"\"\"sequence should be [[beta, pad], [outcome, guess]] \"\"\"\n",
    "        pred_minus = self(h1a2)\n",
    "        sequence[:,2] = 1.\n",
    "        pred_plus = self(h1a2)\n",
    "        both = tf.concat([pred_plus,pred_minus],1)\n",
    "        maxs = tf.argmax(both,axis=1)\n",
    "        guess = (-1)**maxs.numpy()[0]\n",
    "        return guess"
   ]
  },
  {
   "cell_type": "code",
   "execution_count": 8,
   "metadata": {},
   "outputs": [],
   "source": [
    "critic = Critic()"
   ]
  },
  {
   "cell_type": "code",
   "execution_count": 9,
   "metadata": {},
   "outputs": [],
   "source": [
    "beta = 0.7\n",
    "n = 0\n",
    "guess = -1\n",
    "pad_value = -4.\n",
    "batch = []\n",
    "sequential_info = [[beta, pad_value], [n, guess]]\n",
    "batch.append(sequential_info)\n"
   ]
  },
  {
   "cell_type": "code",
   "execution_count": 10,
   "metadata": {},
   "outputs": [],
   "source": [
    "inps = np.array(batch).astype(np.float32)"
   ]
  },
  {
   "cell_type": "code",
   "execution_count": 13,
   "metadata": {},
   "outputs": [],
   "source": [
    "b = critic(inps)"
   ]
  },
  {
   "cell_type": "code",
   "execution_count": 14,
   "metadata": {},
   "outputs": [
    {
     "data": {
      "text/plain": [
       "<tf.Tensor: id=2003, shape=(1, 2, 1), dtype=float32, numpy=\n",
       "array([[[0.49837634],\n",
       "        [0.49858934]]], dtype=float32)>"
      ]
     },
     "execution_count": 14,
     "metadata": {},
     "output_type": "execute_result"
    }
   ],
   "source": [
    "b"
   ]
  },
  {
   "cell_type": "code",
   "execution_count": null,
   "metadata": {},
   "outputs": [],
   "source": []
  },
  {
   "cell_type": "code",
   "execution_count": null,
   "metadata": {},
   "outputs": [],
   "source": []
  }
 ],
 "metadata": {
  "kernelspec": {
   "display_name": "Python 3",
   "language": "python",
   "name": "python3"
  },
  "language_info": {
   "codemirror_mode": {
    "name": "ipython",
    "version": 3
   },
   "file_extension": ".py",
   "mimetype": "text/x-python",
   "name": "python",
   "nbconvert_exporter": "python",
   "pygments_lexer": "ipython3",
   "version": "3.6.9"
  }
 },
 "nbformat": 4,
 "nbformat_minor": 4
}
