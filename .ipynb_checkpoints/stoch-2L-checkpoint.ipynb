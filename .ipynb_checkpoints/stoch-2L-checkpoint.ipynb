{
 "cells": [
  {
   "cell_type": "code",
   "execution_count": 128,
   "metadata": {},
   "outputs": [],
   "source": [
    "from nets import *\n",
    "import tensorflow as tf \n",
    "import misc\n",
    "from buffer import ReplayBuffer\n",
    "from tqdm import tqdm\n",
    "import matplotlib\n",
    "import matplotlib.pyplot as plt\n",
    "import numpy as np\n",
    "from misc import Prob, ps_maxlik, qval"
   ]
  },
  {
   "cell_type": "code",
   "execution_count": 173,
   "metadata": {},
   "outputs": [
    {
     "name": "stderr",
     "output_type": "stream",
     "text": [
      "100%|██████████| 100000/100000 [00:00<00:00, 478834.08it/s]\n"
     ]
    }
   ],
   "source": [
    "critic = Critic(nature=\"primary\", dolinar_layers = 2)\n",
    "critic_target = Critic(nature=\"target\", dolinar_layers = 2, tau=0.01)\n",
    "optimizer_critic = tf.keras.optimizers.Adam(lr=0.01)\n",
    "experiences = np.load(\"buffers/2L_probs.npy\")\n",
    "buffer = ReplayBuffer(buffer_size=10**7)\n",
    "for k in tqdm(experiences):\n",
    "    buffer.add(tuple(k))\n",
    "total_episodes=10**4"
   ]
  },
  {
   "cell_type": "code",
   "execution_count": 135,
   "metadata": {},
   "outputs": [
    {
     "data": {
      "text/plain": [
       "<matplotlib.collections.PathCollection at 0x7f841969db70>"
      ]
     },
     "execution_count": 135,
     "metadata": {},
     "output_type": "execute_result"
    },
    {
     "data": {
      "image/png": "[encoded data removed]",
      "text/plain": [
       "<Figure size 432x288 with 1 Axes>"
      ]
     },
     "metadata": {
      "needs_background": "light"
     },
     "output_type": "display_data"
    }
   ],
   "source": [
    "\n",
    "ss = buffer.sample(300)\n",
    "\n",
    "plt.scatter(ss[:,0], ss[:,-1])"
   ]
  },
  {
   "cell_type": "code",
   "execution_count": 165,
   "metadata": {},
   "outputs": [],
   "source": [
    "condition = np.where((ss[:,1] == 0.)&(ss[:,3] == 0.)&(ss[:,2] < 0.)&(ss[:,-2]==1))"
   ]
  },
  {
   "cell_type": "code",
   "execution_count": 166,
   "metadata": {},
   "outputs": [
    {
     "data": {
      "text/plain": [
       "<matplotlib.collections.PathCollection at 0x7f84199b57f0>"
      ]
     },
     "execution_count": 166,
     "metadata": {},
     "output_type": "execute_result"
    },
    {
     "data": {
      "image/png": "[encoded data removed]",
      "text/plain": [
       "<Figure size 432x288 with 1 Axes>"
      ]
     },
     "metadata": {
      "needs_background": "light"
     },
     "output_type": "display_data"
    }
   ],
   "source": [
    "plt.scatter(ss[condition][:,0], ss[condition][:,-1])"
   ]
  },
  {
   "cell_type": "code",
   "execution_count": 174,
   "metadata": {},
   "outputs": [
    {
     "name": "stderr",
     "output_type": "stream",
     "text": [
      "100%|██████████| 10000/10000 [15:11<00:00, 10.98it/s]\n"
     ]
    }
   ],
   "source": [
    "evolution_loss=[]\n",
    "for iteration in tqdm(range(total_episodes)):\n",
    "\n",
    "    sampled_dataset = buffer.sample(512).astype(np.float32)\n",
    "    batched_sampled_dataset, rews_per_layer = critic.process_sequence_tf(sampled_dataset)\n",
    "    td_errors = critic_target.give_td_errors_tf(batched_sampled_dataset, rews_per_layer)\n",
    "    loss = critic.step_critic_tf(batched_sampled_dataset, td_errors, optimizer_critic)\n",
    "    evolution_loss.append(loss.numpy())\n",
    "    critic_target.update_target_parameters(critic)\n",
    "#     if iteration%(int(total_episodes/5)) == 0:\n",
    "#         history_predictions[str(iteration)] = {\"[]\":[], \"00\":[],\"01\":[],\"11\":[],\"10\":[]}\n",
    "#         history_predictions[str(iteration)][\"[]\"] = np.squeeze(critic(inps))\n",
    "#         for outcome in [0.,1.]:\n",
    "#            for guess_index in [0.,1.]:\n",
    "#                 m=[]\n",
    "#                 for k in tf.unstack(inps):\n",
    "#                     m.append(tf.concat([k, np.reshape(np.array([outcome,guess_index]), (1,2))], axis=0))\n",
    "#                 history_predictions[str(iteration)][str(outcome)+str(guess_index)] = np.squeeze(critic(tf.stack(m, axis=0)))[:,1]"
   ]
  },
  {
   "cell_type": "code",
   "execution_count": 172,
   "metadata": {},
   "outputs": [
    {
     "data": {
      "text/plain": [
       "<tf.Tensor: shape=(16, 3), dtype=float32, numpy=\n",
       "array([[0.0000000e+00, 0.0000000e+00, 7.4120897e-01],\n",
       "       [0.0000000e+00, 0.0000000e+00, 4.9371397e-01],\n",
       "       [0.0000000e+00, 0.0000000e+00, 2.8795320e-01],\n",
       "       [0.0000000e+00, 0.0000000e+00, 1.6458640e-01],\n",
       "       [0.0000000e+00, 0.0000000e+00, 2.7407823e-02],\n",
       "       [0.0000000e+00, 0.0000000e+00, 1.8317735e-01],\n",
       "       [0.0000000e+00, 0.0000000e+00, 1.8333112e-01],\n",
       "       [0.0000000e+00, 0.0000000e+00, 3.0908057e-01],\n",
       "       [0.0000000e+00, 0.0000000e+00, 3.1843057e-01],\n",
       "       [0.0000000e+00, 0.0000000e+00, 3.8900203e-01],\n",
       "       [0.0000000e+00, 0.0000000e+00, 3.9656055e-01],\n",
       "       [0.0000000e+00, 0.0000000e+00, 2.6404831e-01],\n",
       "       [0.0000000e+00, 0.0000000e+00, 3.7247044e-01],\n",
       "       [0.0000000e+00, 0.0000000e+00, 1.1239735e-01],\n",
       "       [0.0000000e+00, 0.0000000e+00, 3.0875683e-04],\n",
       "       [0.0000000e+00, 0.0000000e+00, 9.1071077e-02]], dtype=float32)>"
      ]
     },
     "execution_count": 172,
     "metadata": {},
     "output_type": "execute_result"
    }
   ],
   "source": [
    "rews_per_layer"
   ]
  },
  {
   "cell_type": "code",
   "execution_count": 175,
   "metadata": {},
   "outputs": [
    {
     "name": "stdout",
     "output_type": "stream",
     "text": [
      "WARNING:tensorflow:Layer critic_6 is casting an input tensor from dtype float64 to the layer's dtype of float32, which is new behavior in TensorFlow 2.  The layer has dtype float32 because it's dtype defaults to floatx.\n",
      "\n",
      "If you intended to run this layer in float32, you can safely ignore this warning. If in doubt, this warning is likely only an issue if you are porting a TensorFlow 1.X model to TensorFlow 2.\n",
      "\n",
      "To change all layers to have dtype float64 by default, call `tf.keras.backend.set_floatx('float64')`. To change just this layer, pass dtype='float64' to the layer constructor. If you are the author of this layer, you can disable autocasting by passing autocast=False to the base Layer constructor.\n",
      "\n"
     ]
    },
    {
     "data": {
      "text/plain": [
       "[<matplotlib.lines.Line2D at 0x7f83f3e1d438>]"
      ]
     },
     "execution_count": 175,
     "metadata": {},
     "output_type": "execute_result"
    },
    {
     "data": {
      "image/png": "[encoded data removed]",
      "text/plain": [
       "<Figure size 432x288 with 1 Axes>"
      ]
     },
     "metadata": {
      "needs_background": "light"
     },
     "output_type": "display_data"
    }
   ],
   "source": [
    "betas = np.arange(-2,2,.05)\n",
    "inps = np.stack([np.ones(len(betas))*critic.pad_value, betas], axis=1)\n",
    "inps = np.reshape(inps, (len(betas),1,2))\n",
    "plt.plot(betas, np.squeeze(critic(inps)), '--', color=\"black\", linewidth=10,label=\"RNN\")\n"
   ]
  },
  {
   "cell_type": "code",
   "execution_count": 171,
   "metadata": {},
   "outputs": [
    {
     "data": {
      "text/plain": [
       "<tf.Tensor: shape=(80, 1, 1), dtype=float32, numpy=\n",
       "array([[[0.25692236]],\n",
       "\n",
       "       [[0.25692236]],\n",
       "\n",
       "       [[0.2569224 ]],\n",
       "\n",
       "       [[0.25692236]],\n",
       "\n",
       "       [[0.2569224 ]],\n",
       "\n",
       "       [[0.2569224 ]],\n",
       "\n",
       "       [[0.2569224 ]],\n",
       "\n",
       "       [[0.2569224 ]],\n",
       "\n",
       "       [[0.2569224 ]],\n",
       "\n",
       "       [[0.2569224 ]],\n",
       "\n",
       "       [[0.2569224 ]],\n",
       "\n",
       "       [[0.25692242]],\n",
       "\n",
       "       [[0.25692242]],\n",
       "\n",
       "       [[0.25692242]],\n",
       "\n",
       "       [[0.25692242]],\n",
       "\n",
       "       [[0.25692245]],\n",
       "\n",
       "       [[0.25692245]],\n",
       "\n",
       "       [[0.25692245]],\n",
       "\n",
       "       [[0.25692245]],\n",
       "\n",
       "       [[0.25692248]],\n",
       "\n",
       "       [[0.25692248]],\n",
       "\n",
       "       [[0.25692248]],\n",
       "\n",
       "       [[0.25692248]],\n",
       "\n",
       "       [[0.25692248]],\n",
       "\n",
       "       [[0.25692248]],\n",
       "\n",
       "       [[0.25692248]],\n",
       "\n",
       "       [[0.25692248]],\n",
       "\n",
       "       [[0.25692254]],\n",
       "\n",
       "       [[0.25692254]],\n",
       "\n",
       "       [[0.25692254]],\n",
       "\n",
       "       [[0.25692254]],\n",
       "\n",
       "       [[0.25692254]],\n",
       "\n",
       "       [[0.2569226 ]],\n",
       "\n",
       "       [[0.2569226 ]],\n",
       "\n",
       "       [[0.2569226 ]],\n",
       "\n",
       "       [[0.2569226 ]],\n",
       "\n",
       "       [[0.25692263]],\n",
       "\n",
       "       [[0.25692263]],\n",
       "\n",
       "       [[0.25692263]],\n",
       "\n",
       "       [[0.25692266]],\n",
       "\n",
       "       [[0.25692266]],\n",
       "\n",
       "       [[0.2569227 ]],\n",
       "\n",
       "       [[0.2569227 ]],\n",
       "\n",
       "       [[0.25692272]],\n",
       "\n",
       "       [[0.25692272]],\n",
       "\n",
       "       [[0.25692272]],\n",
       "\n",
       "       [[0.25692272]],\n",
       "\n",
       "       [[0.25692272]],\n",
       "\n",
       "       [[0.25692275]],\n",
       "\n",
       "       [[0.25692275]],\n",
       "\n",
       "       [[0.25692278]],\n",
       "\n",
       "       [[0.25692278]],\n",
       "\n",
       "       [[0.25692278]],\n",
       "\n",
       "       [[0.25692284]],\n",
       "\n",
       "       [[0.25692284]],\n",
       "\n",
       "       [[0.25692284]],\n",
       "\n",
       "       [[0.25692287]],\n",
       "\n",
       "       [[0.25692287]],\n",
       "\n",
       "       [[0.2569229 ]],\n",
       "\n",
       "       [[0.25692293]],\n",
       "\n",
       "       [[0.25692293]],\n",
       "\n",
       "       [[0.25692293]],\n",
       "\n",
       "       [[0.25692296]],\n",
       "\n",
       "       [[0.25692296]],\n",
       "\n",
       "       [[0.256923  ]],\n",
       "\n",
       "       [[0.25692302]],\n",
       "\n",
       "       [[0.25692302]],\n",
       "\n",
       "       [[0.25692302]],\n",
       "\n",
       "       [[0.25692308]],\n",
       "\n",
       "       [[0.25692308]],\n",
       "\n",
       "       [[0.25692308]],\n",
       "\n",
       "       [[0.25692308]],\n",
       "\n",
       "       [[0.25692308]],\n",
       "\n",
       "       [[0.25692317]],\n",
       "\n",
       "       [[0.2569232 ]],\n",
       "\n",
       "       [[0.2569232 ]],\n",
       "\n",
       "       [[0.2569232 ]],\n",
       "\n",
       "       [[0.25692323]],\n",
       "\n",
       "       [[0.25692326]],\n",
       "\n",
       "       [[0.25692326]]], dtype=float32)>"
      ]
     },
     "execution_count": 171,
     "metadata": {},
     "output_type": "execute_result"
    }
   ],
   "source": [
    "critic(inps)"
   ]
  },
  {
   "cell_type": "code",
   "execution_count": 13,
   "metadata": {},
   "outputs": [
    {
     "data": {
      "text/plain": [
       "<matplotlib.collections.PathCollection at 0x7f84011b3b70>"
      ]
     },
     "execution_count": 13,
     "metadata": {},
     "output_type": "execute_result"
    },
    {
     "data": {
      "image/png": "[encoded data removed]",
      "text/plain": [
       "<Figure size 432x288 with 1 Axes>"
      ]
     },
     "metadata": {
      "needs_background": "light"
     },
     "output_type": "display_data"
    }
   ],
   "source": [
    "ss = buffer.sample(1000)\n",
    "plt.scatter(ss[:,0],ss[:,-1])"
   ]
  },
  {
   "cell_type": "code",
   "execution_count": 54,
   "metadata": {},
   "outputs": [],
   "source": [
    "from environment import Environment\n",
    "env = Environment(dolinar_layers=2)"
   ]
  },
  {
   "cell_type": "code",
   "execution_count": 92,
   "metadata": {},
   "outputs": [],
   "source": []
  },
  {
   "cell_type": "code",
   "execution_count": 93,
   "metadata": {},
   "outputs": [
    {
     "data": {
      "text/plain": [
       "0.10027064773906613"
      ]
     },
     "execution_count": 93,
     "metadata": {},
     "output_type": "execute_result"
    }
   ],
   "source": [
    "env.give_reward(modality=\"probs\", history=hist[:-1], guess=0)"
   ]
  },
  {
   "cell_type": "code",
   "execution_count": 126,
   "metadata": {},
   "outputs": [],
   "source": [
    "w=[]\n",
    "for b in np.arange(-1,1,.01):\n",
    "\n",
    "\n",
    "    beta1 = b\n",
    "    outcome1 = 1.\n",
    "    beta2 = -.5\n",
    "    outcome2= 1.\n",
    "    guess = 1\n",
    "    hist = [beta1, outcome1, beta2, outcome2, guess]\n",
    "\n",
    "    prob=1\n",
    "    phase_guess=env.possible_phases[guess]\n",
    "    for layer in range(int(len(hist)/2)):\n",
    "\n",
    "        effective_attenuation = np.prod(np.sin(env.at[:layer]))*np.cos(env.at[layer])#Warning one!\n",
    "        prob*=env.P(phase_guess*env.amplitude, hist[2*layer], effective_attenuation, hist[2*layer+1])/np.sum([env.P(ph*env.amplitude, hist[2*layer], effective_attenuation, hist[2*layer+1]) for ph in env.possible_phases])\n",
    "    w.append(prob)"
   ]
  },
  {
   "cell_type": "code",
   "execution_count": 127,
   "metadata": {},
   "outputs": [
    {
     "data": {
      "text/plain": [
       "[<matplotlib.lines.Line2D at 0x7f83f760e588>]"
      ]
     },
     "execution_count": 127,
     "metadata": {},
     "output_type": "execute_result"
    },
    {
     "data": {
      "image/png": "[encoded data removed]",
      "text/plain": [
       "<Figure size 432x288 with 1 Axes>"
      ]
     },
     "metadata": {
      "needs_background": "light"
     },
     "output_type": "display_data"
    }
   ],
   "source": [
    "plt.plot(w)"
   ]
  },
  {
   "cell_type": "code",
   "execution_count": 70,
   "metadata": {},
   "outputs": [
    {
     "data": {
      "text/plain": [
       "0.2935564204557022"
      ]
     },
     "execution_count": 70,
     "metadata": {},
     "output_type": "execute_result"
    }
   ],
   "source": [
    "env.P(phase_guess*env.amplitude, beta1, effective_attenuation, outcome1)*env.P(phase_guess*env.amplitude, beta2, effective_attenuation, outcome2)"
   ]
  },
  {
   "cell_type": "code",
   "execution_count": 71,
   "metadata": {},
   "outputs": [
    {
     "data": {
      "text/plain": [
       "0.04165621489488367"
      ]
     },
     "execution_count": 71,
     "metadata": {},
     "output_type": "execute_result"
    }
   ],
   "source": [
    "prob"
   ]
  },
  {
   "cell_type": "code",
   "execution_count": 6,
   "metadata": {},
   "outputs": [],
   "source": [
    "def profiles_kennedy(critic, history_predictions):\n",
    "    matplotlib.rc('font', serif='cm10')\n",
    "    plt.rcParams.update({'font.size': 100})\n",
    "    plt.figure(figsize=(150,150), dpi=50)\n",
    "\n",
    "\n",
    "    ax1 = plt.subplot2grid((2,2),(0,0))\n",
    "    ax2 = plt.subplot2grid((2,2),(0,1))\n",
    "    ax3 = plt.subplot2grid((2,2),(1,0), colspan=2)\n",
    "    #betas = np.arange(.1,1.1,.05)\n",
    "    betas = np.arange(0,2.05,.05)\n",
    "    if history_predictions!=False:\n",
    "        axs = {\"0\":ax1, \"1\":ax2}\n",
    "        for ind, epi in enumerate(history_predictions.keys()):\n",
    "            if epi != \"final_episode_info\":\n",
    "\n",
    "                transp_epi = float(epi)/history_predictions[\"final_episode_info\"]\n",
    "                ax3.plot(betas,history_predictions[epi][\"[]\"] , alpha=transp_epi, linewidth=3,label=str(epi))\n",
    "                for outcome in [0.,1.]:\n",
    "                   for guess_index in [0.,1.]:\n",
    "                       axs[str(int(outcome))].plot(betas, history_predictions[epi][str(outcome)+str(guess_index)] , alpha=transp_epi, linewidth=3,label=str(epi))#+\"-g:\"+str((-1)**guess_index))\n",
    "\n",
    "\n",
    "\n",
    "    inps = np.stack([np.ones(len(betas))*critic.pad_value, betas], axis=1)\n",
    "    inps = np.reshape(inps, (len(betas),1,2))\n",
    "    ax3.plot(betas, np.squeeze(critic(inps)), '--', color=\"black\", linewidth=10,label=\"RNN\")\n",
    "\n",
    "    axes = {\"0.0\":ax1, \"1.0\":ax2}\n",
    "    for outcome in [0.,1.]:\n",
    "       for guess_index in [0.,1.]:\n",
    "            m=[]\n",
    "            for k in tf.unstack(inps):\n",
    "                m.append(tf.concat([k, np.reshape(np.array([outcome,guess_index]), (1,2))], axis=0))\n",
    "            axes[str(outcome)].plot(betas, np.squeeze(critic(tf.stack(m, axis=0)))[:,1], '--', color=\"black\", linewidth=10,label=\"RNN\")\n",
    "\n",
    "\n",
    "    ax1.plot(betas,[qval(b, 0, -1) for b in betas],c=\"red\", linewidth=10, label=\"Q(n1=0,\"+r'$\\beta$'+\"; g=-1)\")\n",
    "    ax1.plot(betas,[qval(b, 0, 1) for b in betas],c=\"blue\",  linewidth=10,label=\"Q(n1=0,\"+r'$\\beta$'+\"; g=1)\")\n",
    "\n",
    "    ax2.plot(betas,[qval(b, 1, -1) for b in betas],c=\"red\", linewidth=10, label=\"Q(n1=0,\"+r'$\\beta$'+\"; g=-1)\")\n",
    "    ax2.plot(betas,[qval(b, 1, 1) for b in betas],c=\"blue\",  linewidth=10,label=\"Q(n1=0,\"+r'$\\beta$'+\"; g=1)\")\n",
    "\n",
    "    ax3.plot(betas,ps_maxlik(betas), linewidth=7, color=\"red\", label=\"P*\")\n",
    "\n",
    "    for ax in [ax1, ax2, ax3]:\n",
    "        ax.set_xlabel(r'$\\beta$', size=20)\n",
    "        ax.legend(prop={\"size\":15})\n",
    "\n"
   ]
  }
 ],
 "metadata": {
  "kernelspec": {
   "display_name": "Python 3",
   "language": "python",
   "name": "python3"
  },
  "language_info": {
   "codemirror_mode": {
    "name": "ipython",
    "version": 3
   },
   "file_extension": ".py",
   "mimetype": "text/x-python",
   "name": "python",
   "nbconvert_exporter": "python",
   "pygments_lexer": "ipython3",
   "version": "3.6.9"
  }
 },
 "nbformat": 4,
 "nbformat_minor": 4
}
