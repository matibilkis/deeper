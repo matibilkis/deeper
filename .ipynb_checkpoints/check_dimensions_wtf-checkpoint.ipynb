{
 "cells": [
  {
   "cell_type": "markdown",
   "metadata": {},
   "source": []
  },
  {
   "cell_type": "code",
   "execution_count": 1,
   "metadata": {},
   "outputs": [
    {
     "data": {
      "text/plain": [
       "<ShuffleDataset shapes: ((2, 2), (1,)), types: (tf.float32, tf.float64)>"
      ]
     },
     "execution_count": 1,
     "metadata": {},
     "output_type": "execute_result"
    }
   ],
   "source": [
    "import numpy as np\n",
    "import tensorflow as tf\n",
    "from tqdm import tqdm\n",
    "%load_ext autoreload\n",
    "%autoreload 2\n",
    "\n",
    "data_all, labels_all = np.load(\"ProfilesSet/data.npy\"),  np.load(\"ProfilesSet/label.npy\")\n",
    "dat_set = tf.data.Dataset.from_tensor_slices((data_all,labels_all))\n",
    "data_all_test=tf.convert_to_tensor(data_all)\n",
    "labels_all_test = tf.convert_to_tensor(labels_all)\n",
    "dat_set.shuffle(buffer_size=10**4)\n",
    "\n",
    "pp=[]\n",
    "for bs in [8,64, 32,512]:\n",
    "\n",
    "    cuts = len(data_all)/bs\n",
    "    tot = 10**5/cuts\n",
    "    p=0\n",
    "    for kk in range(int(tot)):\n",
    "        p+=cuts\n",
    "    pp.append(p)\n",
    "    \n",
    "print(pp)"
   ]
  },
  {
   "cell_type": "code",
   "execution_count": 7,
   "metadata": {},
   "outputs": [],
   "source": []
  },
  {
   "cell_type": "code",
   "execution_count": 8,
   "metadata": {},
   "outputs": [
    {
     "data": {
      "text/plain": [
       "[100000.0, 100000.0, 100000.0, 100000.0]"
      ]
     },
     "execution_count": 8,
     "metadata": {},
     "output_type": "execute_result"
    }
   ],
   "source": [
    "pp"
   ]
  }
 ],
 "metadata": {
  "kernelspec": {
   "display_name": "Python 3",
   "language": "python",
   "name": "python3"
  },
  "language_info": {
   "codemirror_mode": {
    "name": "ipython",
    "version": 3
   },
   "file_extension": ".py",
   "mimetype": "text/x-python",
   "name": "python",
   "nbconvert_exporter": "python",
   "pygments_lexer": "ipython3",
   "version": "3.6.9"
  }
 },
 "nbformat": 4,
 "nbformat_minor": 4
}
