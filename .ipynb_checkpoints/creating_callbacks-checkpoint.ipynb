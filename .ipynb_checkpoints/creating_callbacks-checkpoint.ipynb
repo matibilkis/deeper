{
 "cells": [
  {
   "cell_type": "markdown",
   "metadata": {},
   "source": [
    "Here we see that small learning rate won't help!!!"
   ]
  },
  {
   "cell_type": "code",
   "execution_count": 11,
   "metadata": {},
   "outputs": [
    {
     "name": "stdout",
     "output_type": "stream",
     "text": [
      "The autoreload extension is already loaded. To reload it, use:\n",
      "  %reload_ext autoreload\n",
      "WARNING:tensorflow:Unresolved object in checkpoint: (root).optimizer.iter\n",
      "WARNING:tensorflow:Unresolved object in checkpoint: (root).optimizer.beta_1\n",
      "WARNING:tensorflow:Unresolved object in checkpoint: (root).optimizer.beta_2\n",
      "WARNING:tensorflow:Unresolved object in checkpoint: (root).optimizer.decay\n",
      "WARNING:tensorflow:Unresolved object in checkpoint: (root).optimizer.learning_rate\n",
      "WARNING:tensorflow:A checkpoint was restored (e.g. tf.train.Checkpoint.restore or tf.keras.Model.load_weights) but not all checkpointed values were used. See above for specific issues. Use expect_partial() on the load status object, e.g. tf.train.Checkpoint.restore(...).expect_partial(), to silence these warnings, or use assert_consumed() to make the check explicit. See https://www.tensorflow.org/guide/checkpoint#loading_mechanics for details.\n"
     ]
    },
    {
     "ename": "NameError",
     "evalue": "name 'c' is not defined",
     "output_type": "error",
     "traceback": [
      "\u001b[0;31m---------------------------------------------------------------------------\u001b[0m",
      "\u001b[0;31mNameError\u001b[0m                                 Traceback (most recent call last)",
      "\u001b[0;32m<ipython-input-11-7c08fd42b1f2>\u001b[0m in \u001b[0;36m<module>\u001b[0;34m\u001b[0m\n\u001b[1;32m     40\u001b[0m \u001b[0;32mfor\u001b[0m \u001b[0mlr\u001b[0m \u001b[0;32min\u001b[0m \u001b[0;34m[\u001b[0m\u001b[0;36m0.01\u001b[0m\u001b[0;34m,\u001b[0m \u001b[0;36m0.001\u001b[0m\u001b[0;34m]\u001b[0m\u001b[0;34m:\u001b[0m\u001b[0;34m\u001b[0m\u001b[0;34m\u001b[0m\u001b[0m\n\u001b[1;32m     41\u001b[0m     \u001b[0;32mfor\u001b[0m \u001b[0mbs\u001b[0m \u001b[0;32min\u001b[0m \u001b[0;34m[\u001b[0m\u001b[0;36m8\u001b[0m\u001b[0;34m,\u001b[0m \u001b[0;36m64\u001b[0m\u001b[0;34m,\u001b[0m \u001b[0;36m128\u001b[0m\u001b[0;34m,\u001b[0m \u001b[0;36m512\u001b[0m\u001b[0;34m]\u001b[0m\u001b[0;34m:\u001b[0m\u001b[0;34m\u001b[0m\u001b[0;34m\u001b[0m\u001b[0m\n\u001b[0;32m---> 42\u001b[0;31m         \u001b[0mvals\u001b[0m\u001b[0;34m[\u001b[0m\u001b[0mstr\u001b[0m\u001b[0;34m(\u001b[0m\u001b[0mc\u001b[0m\u001b[0;34m)\u001b[0m\u001b[0;34m]\u001b[0m \u001b[0;34m=\u001b[0m \u001b[0mstr\u001b[0m\u001b[0;34m(\u001b[0m\u001b[0;34m[\u001b[0m\u001b[0mlr\u001b[0m\u001b[0;34m,\u001b[0m \u001b[0mbs\u001b[0m\u001b[0;34m]\u001b[0m\u001b[0;34m)\u001b[0m\u001b[0;34m\u001b[0m\u001b[0;34m\u001b[0m\u001b[0m\n\u001b[0m\u001b[1;32m     43\u001b[0m \u001b[0;34m\u001b[0m\u001b[0m\n\u001b[1;32m     44\u001b[0m \u001b[0;34m\u001b[0m\u001b[0m\n",
      "\u001b[0;31mNameError\u001b[0m: name 'c' is not defined"
     ]
    }
   ],
   "source": [
    "import numpy as np\n",
    "import tensorflow as tf\n",
    "from tqdm import tqdm\n",
    "from IPython import display\n",
    "%load_ext autoreload\n",
    "%autoreload 2\n",
    "\n",
    "\n",
    "from misc import Prob, Basics\n",
    "import matplotlib.pyplot as plt\n",
    "basics = Basics(dolinar_layers=2)\n",
    "ats = basics.ats\n",
    "\n",
    "def pn1(n,beta,alpha=0.4):\n",
    "    p=0\n",
    "    for pm in [-1,1]:\n",
    "        p+=Prob(pm*alpha, beta,n)\n",
    "    return p/2\n",
    "\n",
    "def Q2(b1,n1,b2,alpha=0.4):\n",
    "    p=0\n",
    "    for n2 in [0,1]:\n",
    "        p+=max([Prob(pm*alpha*np.cos(ats[0]), b1,n1)*Prob(pm*alpha*np.sin(ats[0]), b2,n2) for pm in [-1.,1.]])\n",
    "    p/=pn1(n1,b1)\n",
    "    return p/2\n",
    "\n",
    "def Q1(b1,alpha=0.4):\n",
    "    p=0\n",
    "    for n1 in [0,1]:\n",
    "        p+= max([Q2(b1,n1,b2,alpha) for b2 in np.arange(-1,1,.05)])*pn1(n1,b1)\n",
    "    return p/2\n",
    "\n",
    "betas = np.arange(-1,1,.05)\n",
    "\n",
    "from nets import RNNC\n",
    "net = RNNC()\n",
    "net.load_weights(\"nets/3/\")\n",
    "\n",
    "vals = {}\n",
    "c=0\n",
    "for lr in [0.01, 0.001]:\n",
    "    for bs in [8, 64, 128, 512]:\n",
    "        vals[str(c)] = str([lr, bs])\n",
    "        c+=1\n",
    "\n",
    "b1=-.5\n",
    "plt.figure(figsize=(10,10))\n",
    "ax1=plt.subplot2grid((2,2),(0,0))\n",
    "ax2=plt.subplot2grid((2,2),(1,0))\n",
    "#ax3=plt.subplot2grid((2,2),(0,1),rowspan=2)\n",
    "\n",
    "plt.suptitle(vals,size=20)\n",
    "axs = [ax1,ax2]\n",
    "data_test = {}\n",
    "for nn,ax in zip([0.,1.],axs):\n",
    "    data_test[str(nn)] = []\n",
    "    for b in betas:\n",
    "        data_test[str(nn)].append([[b1,-1.],[b,nn]])\n",
    "    ax.plot(betas, np.squeeze(net(np.reshape(data_test[str(nn)], (len(data_test[str(nn)]), 2,2)))), alpha=0.7)\n",
    "    ax.plot(betas, [Q2(b1,nn,b) for b in betas], '--', label=\"Q2\")\n",
    "    display.clear_output(wait=True)\n",
    "    display.display(pl.gcf())\n",
    "#ax3.plot(l, color=\"black\", linewidth=9, alpha=.8)\n",
    "#ax3.plot(range(len(lt)), lt,color=\"blue\", linewidth=9, alpha=.8, label=\"globl\")"
   ]
  },
  {
   "cell_type": "code",
   "execution_count": null,
   "metadata": {},
   "outputs": [],
   "source": []
  }
 ],
 "metadata": {
  "kernelspec": {
   "display_name": "Python 3",
   "language": "python",
   "name": "python3"
  },
  "language_info": {
   "codemirror_mode": {
    "name": "ipython",
    "version": 3
   },
   "file_extension": ".py",
   "mimetype": "text/x-python",
   "name": "python",
   "nbconvert_exporter": "python",
   "pygments_lexer": "ipython3",
   "version": "3.6.9"
  }
 },
 "nbformat": 4,
 "nbformat_minor": 4
}
