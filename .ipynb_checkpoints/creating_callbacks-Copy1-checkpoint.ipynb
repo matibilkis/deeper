{
 "cells": [
  {
   "cell_type": "markdown",
   "metadata": {},
   "source": [
    "Here we see that small learning rate won't help!!!"
   ]
  },
  {
   "cell_type": "code",
   "execution_count": 3,
   "metadata": {},
   "outputs": [
    {
     "name": "stdout",
     "output_type": "stream",
     "text": [
      "The autoreload extension is already loaded. To reload it, use:\n",
      "  %reload_ext autoreload\n"
     ]
    }
   ],
   "source": [
    "import numpy as np\n",
    "import tensorflow as tf\n",
    "from tqdm import tqdm\n",
    "%load_ext autoreload\n",
    "%autoreload 2\n",
    "\n",
    "\n",
    "from misc import Prob, Basics\n",
    "import matplotlib.pyplot as plt\n",
    "basics = Basics(dolinar_layers=2)\n",
    "ats = basics.ats\n",
    "\n",
    "def pn1(n,beta,alpha=0.4):\n",
    "    p=0\n",
    "    for pm in [-1,1]:\n",
    "        p+=Prob(pm*alpha, beta,n)\n",
    "    return p/2\n",
    "\n",
    "def Q2(b1,n1,b2,alpha=0.4):\n",
    "    p=0\n",
    "    for n2 in [0,1]:\n",
    "        p+=max([Prob(pm*alpha*np.cos(ats[0]), b1,n1)*Prob(pm*alpha*np.sin(ats[0]), b2,n2) for pm in [-1.,1.]])\n",
    "    p/=pn1(n1,b1)\n",
    "    return p/2\n",
    "\n",
    "def Q1(b1,alpha=0.4):\n",
    "    p=0\n",
    "    for n1 in [0,1]:\n",
    "        p+= max([Q2(b1,n1,b2,alpha) for b2 in np.arange(-1,1,.05)])*pn1(n1,b1)\n",
    "    return p/2\n",
    "\n",
    "betas = np.arange(-1,1,.05)\n",
    "\n",
    "data =[]\n",
    "labels=[]\n",
    "labels_all=[]\n",
    "for b1 in betas:\n",
    "    p0 = pn1(0,b1)\n",
    "    n1 = np.random.choice([0,1],p=[p0,1-p0])\n",
    "    for b2 in betas:\n",
    "        label2 = Q2(b1,n1,b2)\n",
    "        labels_all.append([label2])\n",
    "        data.append([[b1,-1.],[b2,n1]])\n",
    "        labels.append(label2)\n",
    "\n",
    "        \n",
    "labels=np.array(labels).astype(np.float32)\n",
    "data_all = np.reshape(data, (len(data),2,2)).astype(np.float32)\n",
    "labels_all = np.reshape(labels_all, (len(labels),1))\n",
    "np.save(\"data\",data_all)\n",
    "np.save(\"data\",labels)"
   ]
  },
  {
   "cell_type": "code",
   "execution_count": 22,
   "metadata": {},
   "outputs": [],
   "source": [
    "from glob import glob\n",
    "len(glob(\"logs/scalars/training/*\"))"
   ]
  },
  {
   "cell_type": "code",
   "execution_count": 31,
   "metadata": {},
   "outputs": [
    {
     "data": {
      "text/plain": [
       "2"
      ]
     },
     "execution_count": 31,
     "metadata": {},
     "output_type": "execute_result"
    }
   ],
   "source": []
  },
  {
   "cell_type": "code",
   "execution_count": 33,
   "metadata": {},
   "outputs": [],
   "source": [
    "data_all, labels_all = np.load(\"ProfilesSet/data.npy\"),  np.load(\"ProfilesSet/label.npy\")\n",
    "dat_set = tf.data.Dataset.from_tensor_slices((data_all,labels_all))\n",
    "data_all_test=tf.convert_to_tensor(data_all)\n",
    "labels_all_test = tf.convert_to_tensor(labels_all)"
   ]
  },
  {
   "cell_type": "code",
   "execution_count": 19,
   "metadata": {},
   "outputs": [],
   "source": [
    "from nets import RNNC\n",
    "net = RNNC()\n",
    "optimizer = tf.keras.optimizers.Adam(lr=10**-5)\n",
    "\n",
    "\n",
    "if not os.path.exists(\"logs\"):\n",
    "    os.makedirs(\"logs\")\n",
    "logdir1 = \"logs/scalars/training\"\n",
    "logdir2 = \"logs/scalars/testing\"\n",
    "train_loss = tf.summary.create_file_writer(logdir1)\n",
    "test_loss = tf.summary.create_file_writer(logdir2)"
   ]
  },
  {
   "cell_type": "code",
   "execution_count": 40,
   "metadata": {},
   "outputs": [
    {
     "data": {
      "text/plain": [
       "1600"
      ]
     },
     "execution_count": 40,
     "metadata": {},
     "output_type": "execute_result"
    }
   ],
   "source": [
    "32*50"
   ]
  },
  {
   "cell_type": "code",
   "execution_count": 38,
   "metadata": {},
   "outputs": [
    {
     "data": {
      "text/plain": [
       "50"
      ]
     },
     "execution_count": 38,
     "metadata": {},
     "output_type": "execute_result"
    }
   ],
   "source": [
    "len(list(dat_set.batch(32)))"
   ]
  },
  {
   "cell_type": "code",
   "execution_count": 20,
   "metadata": {},
   "outputs": [],
   "source": [
    "@tf.function\n",
    "def train_step(data, labels):\n",
    "    with tf.GradientTape() as tape:\n",
    "        tape.watch(net.trainable_variables)\n",
    "        preds = net(tf.convert_to_tensor(data))\n",
    "        loss = tf.losses.mean_squared_error(tf.squeeze(labels),tf.squeeze(preds))\n",
    "        grads = tape.gradient(loss, net.trainable_variables)\n",
    "    optimizer.apply_gradients(zip(grads, net.trainable_variables))\n",
    "    return loss"
   ]
  },
  {
   "cell_type": "code",
   "execution_count": 21,
   "metadata": {},
   "outputs": [
    {
     "name": "stderr",
     "output_type": "stream",
     "text": [
      "100%|██████████| 1000/1000 [00:25<00:00, 38.99it/s]\n"
     ]
    }
   ],
   "source": [
    "#dat_set.shuffle(buffer_size=10**4)\n",
    "l=[]\n",
    "#lt=[]\n",
    "for k in tqdm(range(10**3)):\n",
    "    l.append(train_step(data_all, labels_all))\n",
    "    with train_loss.as_default():\n",
    "        tf.summary.scalar('train_loss', l[-1], step=k)\n",
    "    with test_loss.as_default():\n",
    "        tf.summary.scalar('test_loss', tf.reduce_mean(tf.keras.losses.MSE(net(data_all_test),labels_all_test)), step=k)\n",
    "    #lt.append()\n",
    "    #for k1,k2 in list(dat_set.batch(64)):\n",
    "    #    l.append(train_step(k1,k2).numpy())    \n",
    "    #    lt.append(lt[-1])"
   ]
  },
  {
   "cell_type": "code",
   "execution_count": 47,
   "metadata": {},
   "outputs": [
    {
     "data": {
      "text/plain": [
       "[<matplotlib.lines.Line2D at 0x7f2e884d6550>]"
      ]
     },
     "execution_count": 47,
     "metadata": {},
     "output_type": "execute_result"
    },
    {
     "data": {
      "image/png": "[encoded data removed]",
      "text/plain": [
       "<Figure size 720x720 with 3 Axes>"
      ]
     },
     "metadata": {
      "needs_background": "light"
     },
     "output_type": "display_data"
    }
   ],
   "source": [
    "        \n",
    "b1=-.5\n",
    "plt.figure(figsize=(10,10))\n",
    "ax1=plt.subplot2grid((2,2),(0,0))\n",
    "ax2=plt.subplot2grid((2,2),(1,0))\n",
    "ax3=plt.subplot2grid((2,2),(0,1),rowspan=2)\n",
    "\n",
    "axs = [ax1,ax2]\n",
    "data_test = {}\n",
    "for nn,ax in zip([0.,1.],axs):\n",
    "    data_test[str(nn)] = []\n",
    "    for b in betas:\n",
    "        data_test[str(nn)].append([[b1,-1.],[b,nn]])\n",
    "    ax.plot(betas, np.squeeze(net(np.reshape(data_test[str(nn)], (len(data_test[str(nn)]), 2,2)))), alpha=0.7)\n",
    "    ax.plot(betas, [Q2(b1,nn,b) for b in betas], '--', label=\"Q2\")\n",
    "ax3.plot(l, color=\"black\", linewidth=9, alpha=.8)\n",
    "ax3.plot(range(len(lt)), lt,color=\"blue\", linewidth=9, alpha=.8, label=\"globl\")"
   ]
  },
  {
   "cell_type": "code",
   "execution_count": 42,
   "metadata": {},
   "outputs": [
    {
     "data": {
      "text/plain": [
       "[<matplotlib.lines.Line2D at 0x7f2e88ef7128>]"
      ]
     },
     "execution_count": 42,
     "metadata": {},
     "output_type": "execute_result"
    },
    {
     "data": {
      "image/png": "[encoded data removed]",
      "text/plain": [
       "<Figure size 432x288 with 1 Axes>"
      ]
     },
     "metadata": {
      "needs_background": "light"
     },
     "output_type": "display_data"
    }
   ],
   "source": [
    "dd,ll=[],[]\n",
    "n1=1\n",
    "b1=.5\n",
    "dd=[]\n",
    "for b2 in betas:\n",
    "    ll.append(Q2(b1,n1,b2))\n",
    "    dd.append([[b1,-1.],[b2,n1]])\n",
    "\n",
    "plt.plot(np.squeeze(net(np.array(dd))))\n",
    "plt.plot(ll)"
   ]
  },
  {
   "cell_type": "code",
   "execution_count": 43,
   "metadata": {},
   "outputs": [
    {
     "data": {
      "text/plain": [
       "<tf.Tensor: shape=(), dtype=float32, numpy=0.0070641725>"
      ]
     },
     "execution_count": 43,
     "metadata": {},
     "output_type": "execute_result"
    }
   ],
   "source": [
    "tf.keras.losses.MSE(ll,np.squeeze(net(np.array(dd))))"
   ]
  },
  {
   "cell_type": "code",
   "execution_count": null,
   "metadata": {},
   "outputs": [],
   "source": []
  }
 ],
 "metadata": {
  "kernelspec": {
   "display_name": "Python 3",
   "language": "python",
   "name": "python3"
  },
  "language_info": {
   "codemirror_mode": {
    "name": "ipython",
    "version": 3
   },
   "file_extension": ".py",
   "mimetype": "text/x-python",
   "name": "python",
   "nbconvert_exporter": "python",
   "pygments_lexer": "ipython3",
   "version": "3.6.9"
  }
 },
 "nbformat": 4,
 "nbformat_minor": 4
}
